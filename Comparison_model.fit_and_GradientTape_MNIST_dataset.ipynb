{
 "cells": [
  {
   "cell_type": "code",
   "execution_count": 1,
   "metadata": {},
   "outputs": [],
   "source": [
    "import pandas as pd, numpy as np\n",
    "import matplotlib.pyplot as plt\n",
    "# import seaborn as sns\n",
    "from sklearn.model_selection import train_test_split\n",
    "from sklearn.metrics import accuracy_score, precision_score, recall_score, confusion_matrix\n",
    "\n",
    "# from keras.models import Sequential\n",
    "# from keras.layers import Dense\n",
    "import tensorflow as tf\n",
    "from tensorflow.keras.models import Sequential\n",
    "from tensorflow.keras.layers import Dense, Flatten, Conv2D\n",
    "from tensorflow.keras import Model\n",
    "\n",
    "import tensorflow_model_optimization as tfmot\n",
    "from tensorflow_model_optimization.sparsity import keras as sparsity"
   ]
  },
  {
   "cell_type": "markdown",
   "metadata": {},
   "source": [
    "# Comparison between _model.fit()_ and _GradientTape_ methods:\n",
    "Using _MNIST_ dataset"
   ]
  },
  {
   "cell_type": "markdown",
   "metadata": {},
   "source": [
    "### Load and prepare the MNIST dataset:"
   ]
  },
  {
   "cell_type": "code",
   "execution_count": 2,
   "metadata": {},
   "outputs": [],
   "source": [
    "# Data preprocessing and cleaning:\n",
    "# input image dimensions\n",
    "img_rows, img_cols = 28, 28"
   ]
  },
  {
   "cell_type": "code",
   "execution_count": 3,
   "metadata": {},
   "outputs": [],
   "source": [
    "batch_size = 32\n",
    "num_classes = 10\n",
    "epochs = 50"
   ]
  },
  {
   "cell_type": "code",
   "execution_count": 4,
   "metadata": {},
   "outputs": [],
   "source": [
    "mnist = tf.keras.datasets.mnist\n",
    "\n",
    "(X_train, y_train), (X_test, y_test) = mnist.load_data()\n",
    "\n",
    "X_train, X_test = X_train / 255.0, X_test / 255.0"
   ]
  },
  {
   "cell_type": "code",
   "execution_count": 5,
   "metadata": {},
   "outputs": [
    {
     "data": {
      "text/plain": [
       "((60000, 28, 28), (60000,), (10000, 28, 28), (10000,))"
      ]
     },
     "execution_count": 5,
     "metadata": {},
     "output_type": "execute_result"
    }
   ],
   "source": [
    "X_train.shape, y_train.shape, X_test.shape, y_test.shape"
   ]
  },
  {
   "cell_type": "code",
   "execution_count": 6,
   "metadata": {},
   "outputs": [
    {
     "name": "stdout",
     "output_type": "stream",
     "text": [
      "\n",
      "'input_shape' which will be used = (28, 28, 1)\n",
      "\n"
     ]
    }
   ],
   "source": [
    "# Add a channels dimension\n",
    "# X_train = X_train[..., tf.newaxis]\n",
    "# X_test = X_test[..., tf.newaxis]\n",
    "\n",
    "if tf.keras.backend.image_data_format() == 'channels_first':\n",
    "    X_train = X_train.reshape(X_train.shape[0], 1, img_rows, img_cols)\n",
    "    X_test = X_test.reshape(X_test.shape[0], 1, img_rows, img_cols)\n",
    "    input_shape = (1, img_rows, img_cols)\n",
    "else:\n",
    "    X_train = X_train.reshape(X_train.shape[0], img_rows, img_cols, 1)\n",
    "    X_test = X_test.reshape(X_test.shape[0], img_rows, img_cols, 1)\n",
    "    input_shape = (img_rows, img_cols, 1)\n",
    "\n",
    "print(\"\\n'input_shape' which will be used = {0}\\n\".format(input_shape))"
   ]
  },
  {
   "cell_type": "code",
   "execution_count": 7,
   "metadata": {},
   "outputs": [],
   "source": [
    "# convert class vectors/target to binary class matrices or one-hot encoded values-\n",
    "y_train = tf.keras.utils.to_categorical(y_train, num_classes)\n",
    "y_test = tf.keras.utils.to_categorical(y_test, num_classes)"
   ]
  },
  {
   "cell_type": "code",
   "execution_count": 8,
   "metadata": {},
   "outputs": [
    {
     "name": "stdout",
     "output_type": "stream",
     "text": [
      "\n",
      "Dimensions of training and testing sets are:\n",
      "X_train.shape = (60000, 28, 28, 1), y_train = (60000, 10)\n",
      "X_test.shape = (10000, 28, 28, 1), y_test = (10000, 10)\n"
     ]
    }
   ],
   "source": [
    "print(\"\\nDimensions of training and testing sets are:\")\n",
    "print(\"X_train.shape = {0}, y_train = {1}\".format(X_train.shape, y_train.shape))\n",
    "print(\"X_test.shape = {0}, y_test = {1}\".format(X_test.shape, y_test.shape))"
   ]
  },
  {
   "cell_type": "code",
   "execution_count": null,
   "metadata": {},
   "outputs": [],
   "source": []
  },
  {
   "cell_type": "code",
   "execution_count": 9,
   "metadata": {},
   "outputs": [],
   "source": [
    "# Use tf.data to batch and shuffle the dataset-\n",
    "\n",
    "train_ds = tf.data.Dataset.from_tensor_slices(\n",
    "    (X_train, y_train)).shuffle(10000).batch(batch_size)\n",
    "\n",
    "test_ds = tf.data.Dataset.from_tensor_slices(\n",
    "    (X_test, y_test)).batch(batch_size)"
   ]
  },
  {
   "cell_type": "code",
   "execution_count": 10,
   "metadata": {},
   "outputs": [],
   "source": [
    "def create_cnn():\n",
    "    \"\"\"\n",
    "    Function to create a simple\n",
    "    CNN for MNIST classification\n",
    "    \"\"\"\n",
    "    \n",
    "    model = Sequential()\n",
    "    \n",
    "    model.add(\n",
    "        Conv2D(\n",
    "            filters = 32, kernel_size = (3, 3),\n",
    "            activation = 'relu',\n",
    "            kernel_initializer = tf.keras.initializers.GlorotNormal(),\n",
    "            input_shape = (28, 28, 1)\n",
    "        )\n",
    "    )\n",
    "    \n",
    "    model.add(\n",
    "        Flatten()\n",
    "    )\n",
    "    \n",
    "    model.add(\n",
    "        Dense(\n",
    "            units = 128, activation = 'relu',\n",
    "            kernel_initializer = tf.keras.initializers.GlorotNormal()\n",
    "        )\n",
    "    )\n",
    "    \n",
    "    model.add(\n",
    "        Dense(\n",
    "            units = 10, activation = 'softmax'\n",
    "        )\n",
    "    )\n",
    "    \n",
    "    return model\n",
    "    \n",
    "    "
   ]
  },
  {
   "cell_type": "markdown",
   "metadata": {},
   "source": [
    "### First, _model.fit()_ is used:"
   ]
  },
  {
   "cell_type": "code",
   "execution_count": 11,
   "metadata": {},
   "outputs": [],
   "source": [
    "# Instantiate an instance of CNN-\n",
    "model = create_cnn()"
   ]
  },
  {
   "cell_type": "code",
   "execution_count": 12,
   "metadata": {},
   "outputs": [],
   "source": [
    "# Save weights to be reused by 'GradientTape' model later-\n",
    "model.save_weights(\"Random_Weights.h5\", overwrite=True)"
   ]
  },
  {
   "cell_type": "code",
   "execution_count": 13,
   "metadata": {},
   "outputs": [],
   "source": [
    "# Compile the designed nn model-\n",
    "model.compile(\n",
    "    loss = 'categorical_crossentropy',\n",
    "    optimizer=tf.keras.optimizers.Adam(lr = 0.001),\n",
    "    metrics=['accuracy']\n",
    ")"
   ]
  },
  {
   "cell_type": "code",
   "execution_count": 14,
   "metadata": {},
   "outputs": [],
   "source": [
    "# Define early stopping-\n",
    "callback = tf.keras.callbacks.EarlyStopping(\n",
    "    monitor='val_loss', patience=3,\n",
    "    min_delta = 0.001, mode = 'min'\n",
    ")"
   ]
  },
  {
   "cell_type": "code",
   "execution_count": 15,
   "metadata": {},
   "outputs": [
    {
     "name": "stdout",
     "output_type": "stream",
     "text": [
      "Model: \"sequential\"\n",
      "_________________________________________________________________\n",
      "Layer (type)                 Output Shape              Param #   \n",
      "=================================================================\n",
      "conv2d (Conv2D)              (None, 26, 26, 32)        320       \n",
      "_________________________________________________________________\n",
      "flatten (Flatten)            (None, 21632)             0         \n",
      "_________________________________________________________________\n",
      "dense (Dense)                (None, 128)               2769024   \n",
      "_________________________________________________________________\n",
      "dense_1 (Dense)              (None, 10)                1290      \n",
      "=================================================================\n",
      "Total params: 2,770,634\n",
      "Trainable params: 2,770,634\n",
      "Non-trainable params: 0\n",
      "_________________________________________________________________\n"
     ]
    }
   ],
   "source": [
    "# Get summary details of defined model-\n",
    "model.summary()"
   ]
  },
  {
   "cell_type": "code",
   "execution_count": 16,
   "metadata": {},
   "outputs": [
    {
     "name": "stdout",
     "output_type": "stream",
     "text": [
      "Train on 60000 samples, validate on 10000 samples\n",
      "Epoch 1/50\n",
      "60000/60000 [==============================] - 20s 338us/sample - loss: 0.1319 - accuracy: 0.9595 - val_loss: 0.0576 - val_accuracy: 0.9814\n",
      "Epoch 2/50\n",
      "60000/60000 [==============================] - 19s 320us/sample - loss: 0.0414 - accuracy: 0.9872 - val_loss: 0.0526 - val_accuracy: 0.9818\n",
      "Epoch 3/50\n",
      "60000/60000 [==============================] - 19s 318us/sample - loss: 0.0216 - accuracy: 0.9933 - val_loss: 0.0521 - val_accuracy: 0.9844\n",
      "Epoch 4/50\n",
      "60000/60000 [==============================] - 19s 314us/sample - loss: 0.0136 - accuracy: 0.9955 - val_loss: 0.0597 - val_accuracy: 0.9825\n",
      "Epoch 5/50\n",
      "60000/60000 [==============================] - 19s 312us/sample - loss: 0.0099 - accuracy: 0.9967 - val_loss: 0.0561 - val_accuracy: 0.9848\n"
     ]
    }
   ],
   "source": [
    "# Train defined model-\n",
    "history_orig = model.fit(\n",
    "    x = X_train, y = y_train,\n",
    "    batch_size = batch_size, epochs = epochs,\n",
    "    validation_data = (X_test, y_test),\n",
    "    callbacks = [callback],\n",
    "    verbose = 1\n",
    ")\n"
   ]
  },
  {
   "cell_type": "code",
   "execution_count": 17,
   "metadata": {},
   "outputs": [
    {
     "data": {
      "image/png": "[encoded data removed]",
      "text/plain": [
       "<Figure size 800x720 with 1 Axes>"
      ]
     },
     "metadata": {},
     "output_type": "display_data"
    }
   ],
   "source": [
    "# Visualize training progress of neural network model-\n",
    "fig=plt.figure(figsize=(10, 9), dpi= 80, facecolor='w', edgecolor='k')\n",
    "\n",
    "plt.plot(history_orig.history['accuracy'], label = 'training accuracy')\n",
    "plt.plot(history_orig.history['val_accuracy'], label = 'testing accuracy')\n",
    "plt.plot(history_orig.history['loss'], label = 'training loss')\n",
    "plt.plot(history_orig.history['val_loss'], label = 'testing loss')\n",
    "\n",
    "plt.title(\"Training Visualization - Scalar Metrics\")\n",
    "plt.xlabel(\"number of epochs\")\n",
    "plt.ylabel(\"Accuracy/Loss\")\n",
    "plt.legend(loc = 'best')\n",
    "plt.show()\n"
   ]
  },
  {
   "cell_type": "code",
   "execution_count": 18,
   "metadata": {},
   "outputs": [],
   "source": [
    "score_orig = model.evaluate(X_test, y_test, verbose=0)"
   ]
  },
  {
   "cell_type": "code",
   "execution_count": 19,
   "metadata": {},
   "outputs": [
    {
     "name": "stdout",
     "output_type": "stream",
     "text": [
      "\n",
      "'model.fit()' metrics on testing set:\n",
      "loss = 0.0561 & accuracy = 0.9848\n",
      "\n"
     ]
    }
   ],
   "source": [
    "print(\"\\n'model.fit()' metrics on testing set:\")\n",
    "print(\"loss = {0:.4f} & accuracy = {1:.4f}\\n\".format(\n",
    "    score_orig[0], score_orig[1]))"
   ]
  },
  {
   "cell_type": "code",
   "execution_count": 20,
   "metadata": {},
   "outputs": [],
   "source": [
    "# Make predictions using trained model-\n",
    "y_pred_orig = model.predict_classes(X_test)"
   ]
  },
  {
   "cell_type": "code",
   "execution_count": 21,
   "metadata": {},
   "outputs": [],
   "source": [
    "# Convert from one-hot encoded to labels-\n",
    "y_test_labels = np.argmax(y_test, axis=1)"
   ]
  },
  {
   "cell_type": "code",
   "execution_count": 22,
   "metadata": {},
   "outputs": [],
   "source": [
    "# Compute metrics-\n",
    "accuracy_orig = accuracy_score(y_test_labels, y_pred_orig)\n",
    "precision_orig = precision_score(y_test_labels, y_pred_orig, average='macro')\n",
    "recall_orig = recall_score(y_test_labels, y_pred_orig, average='macro')"
   ]
  },
  {
   "cell_type": "code",
   "execution_count": 23,
   "metadata": {},
   "outputs": [
    {
     "name": "stdout",
     "output_type": "stream",
     "text": [
      "\n",
      "'model.fit()' metrics on testing dataset are:\n",
      "accuracy = 0.9848, precision = 0.9847 & recall = 0.9848\n",
      "\n"
     ]
    }
   ],
   "source": [
    "print(\"\\n'model.fit()' metrics on testing dataset are:\")\n",
    "print(\"accuracy = {0:.4f}, precision = {1:.4f} & recall = {2:.4f}\\n\".format(\n",
    "    accuracy_orig, precision_orig, recall_orig))"
   ]
  },
  {
   "cell_type": "code",
   "execution_count": 24,
   "metadata": {},
   "outputs": [
    {
     "name": "stdout",
     "output_type": "stream",
     "text": [
      "\n",
      "'model.fit()' confusion matrix:\n",
      "\n",
      "[[ 971    0    2    0    0    0    4    1    2    0]\n",
      " [   1 1126    2    0    1    0    3    1    1    0]\n",
      " [   2    3 1016    1    1    0    0    3    6    0]\n",
      " [   0    0    5  990    0    8    0    5    2    0]\n",
      " [   0    0    1    0  969    0    3    0    1    8]\n",
      " [   2    1    1    3    0  879    6    0    0    0]\n",
      " [   3    2    1    0    2    2  948    0    0    0]\n",
      " [   1    1    7    0    1    0    0 1010    4    4]\n",
      " [   2    1    3    1    0    2    3    4  955    3]\n",
      " [   4    3    0    0    5    6    1    3    3  984]]\n"
     ]
    }
   ],
   "source": [
    "print(\"\\n'model.fit()' confusion matrix:\\n\")\n",
    "print(confusion_matrix(y_test_labels, y_pred_orig))"
   ]
  },
  {
   "cell_type": "code",
   "execution_count": null,
   "metadata": {},
   "outputs": [],
   "source": []
  },
  {
   "cell_type": "markdown",
   "metadata": {},
   "source": [
    "### Now, _GradientTape_ is used:"
   ]
  },
  {
   "cell_type": "code",
   "execution_count": 48,
   "metadata": {},
   "outputs": [],
   "source": [
    "# Instantiate a model-\n",
    "model_gt = create_cnn()"
   ]
  },
  {
   "cell_type": "code",
   "execution_count": 49,
   "metadata": {},
   "outputs": [],
   "source": [
    "# Restore random weights as used by the previous model for fair comparison-\n",
    "model_gt.load_weights(\"Random_Weights.h5\")"
   ]
  },
  {
   "cell_type": "code",
   "execution_count": 50,
   "metadata": {},
   "outputs": [],
   "source": [
    "# Choose an optimizer and loss function for training-\n",
    "loss_fn = tf.keras.losses.CategoricalCrossentropy()\n",
    "optimizer = tf.keras.optimizers.Adam(lr = 0.001)"
   ]
  },
  {
   "cell_type": "code",
   "execution_count": 51,
   "metadata": {},
   "outputs": [],
   "source": [
    "# Select metrics to measure the error & accuracy of model.\n",
    "# These metrics accumulate the values over epochs and then\n",
    "# print the overall result-\n",
    "train_loss = tf.keras.metrics.Mean(name = 'train_loss')\n",
    "train_accuracy = tf.keras.metrics.BinaryAccuracy(name = 'train_accuracy')\n",
    "\n",
    "test_loss = tf.keras.metrics.Mean(name = 'test_loss')\n",
    "test_accuracy = tf.keras.metrics.BinaryAccuracy(name = 'train_accuracy')"
   ]
  },
  {
   "cell_type": "code",
   "execution_count": 52,
   "metadata": {},
   "outputs": [],
   "source": [
    "# Use tf.GradientTape to train the model-\n",
    "\n",
    "@tf.function\n",
    "def train_step(data, labels):\n",
    "    \"\"\"\n",
    "    Function to perform one step of Gradient\n",
    "    Descent optimization\n",
    "    \"\"\"\n",
    "\n",
    "    with tf.GradientTape() as tape:\n",
    "        predictions = model_gt(data)\n",
    "        loss = loss_fn(labels, predictions)\n",
    "\n",
    "    gradients = tape.gradient(loss, model_gt.trainable_variables)\n",
    "    optimizer.apply_gradients(zip(gradients, model_gt.trainable_variables))\n",
    "\n",
    "    train_loss(loss)\n",
    "    train_accuracy(labels, predictions)\n",
    "\n",
    "    "
   ]
  },
  {
   "cell_type": "code",
   "execution_count": 53,
   "metadata": {},
   "outputs": [],
   "source": [
    "@tf.function\n",
    "def test_step(data, labels):\n",
    "    \"\"\"\n",
    "    Function to test model performance\n",
    "    on testing dataset\n",
    "    \"\"\"\n",
    "    \n",
    "    predictions = model_gt(data)\n",
    "    t_loss = loss_fn(labels, predictions)\n",
    "\n",
    "    test_loss(t_loss)\n",
    "    test_accuracy(labels, predictions)\n"
   ]
  },
  {
   "cell_type": "code",
   "execution_count": 54,
   "metadata": {},
   "outputs": [],
   "source": [
    "# User input-\n",
    "minimum_delta = 0.001\n",
    "patience = 3\n",
    "\n",
    "patience_val = np.zeros(patience)"
   ]
  },
  {
   "cell_type": "code",
   "execution_count": 55,
   "metadata": {},
   "outputs": [],
   "source": [
    "# Dictionary to hold scalar metrics-\n",
    "history = {}\n",
    "\n",
    "history['accuracy'] = np.zeros(epochs)\n",
    "history['val_accuracy'] = np.zeros(epochs)\n",
    "history['loss'] = np.zeros(epochs)\n",
    "history['val_loss'] = np.zeros(epochs)"
   ]
  },
  {
   "cell_type": "markdown",
   "metadata": {},
   "source": [
    "### Logic behind manual _EarlyStopping_:\n",
    "_check = np.diff(history['val_loss'][epoch - 3:epoch], n = 1) > minimum_delta_ checks whether the absolute value of the consecutive differences between the last 3 epoch's _validation loss_ is more than _minimum delta_\n",
    "\n",
    "1. _Case - 1:_ If any of these absolute values of the consecutive differences is _greater than_ _min_delta_, then __keep training__\n",
    "\n",
    "1. _Case - 2_: If all of these absolute values of the consecutive differences is _less than_ _min_delta_, then __Stop training__"
   ]
  },
  {
   "cell_type": "code",
   "execution_count": 56,
   "metadata": {},
   "outputs": [
    {
     "name": "stdout",
     "output_type": "stream",
     "text": [
      "WARNING:tensorflow:Layer conv2d_3 is casting an input tensor from dtype float64 to the layer's dtype of float32, which is new behavior in TensorFlow 2.  The layer has dtype float32 because it's dtype defaults to floatx.\n",
      "\n",
      "If you intended to run this layer in float32, you can safely ignore this warning. If in doubt, this warning is likely only an issue if you are porting a TensorFlow 1.X model to TensorFlow 2.\n",
      "\n",
      "To change all layers to have dtype float64 by default, call `tf.keras.backend.set_floatx('float64')`. To change just this layer, pass dtype='float64' to the layer constructor. If you are the author of this layer, you can disable autocasting by passing autocast=False to the base Layer constructor.\n",
      "\n",
      "Epoch 1, Loss: 0.1353, Accuracy: 99.2113, Test Loss: 0.0588, Test Accuracy: 99.610947\n",
      "Epoch 2, Loss: 0.0428, Accuracy: 99.7358, Test Loss: 0.0682, Test Accuracy: 99.575951\n",
      "Epoch 3, Loss: 0.0235, Accuracy: 99.8514, Test Loss: 0.0569, Test Accuracy: 99.663971\n",
      "Epoch 4, Loss: 0.0143, Accuracy: 99.9126, Test Loss: 0.0540, Test Accuracy: 99.691948\n",
      "differences: [0.0093855  0.01136245]\n",
      "check = [ True  True]\n",
      "\n",
      "Epoch 5, Loss: 0.0094, Accuracy: 99.9361, Test Loss: 0.0610, Test Accuracy: 99.711990\n",
      "differences: [0.01136245 0.00286243]\n",
      "check = [ True  True]\n",
      "\n",
      "Epoch 6, Loss: 0.0069, Accuracy: 99.9509, Test Loss: 0.0662, Test Accuracy: 99.662971\n",
      "differences: [0.00286243 0.00701563]\n",
      "check = [ True  True]\n",
      "\n",
      "Epoch 7, Loss: 0.0064, Accuracy: 99.9611, Test Loss: 0.0658, Test Accuracy: 99.702957\n",
      "differences: [0.00701563 0.00515007]\n",
      "check = [ True  True]\n",
      "\n",
      "Epoch 8, Loss: 0.0049, Accuracy: 99.9663, Test Loss: 0.0779, Test Accuracy: 99.656967\n",
      "differences: [0.00515007 0.00039448]\n",
      "check = [ True False]\n",
      "\n",
      "Epoch 9, Loss: 0.0040, Accuracy: 99.9751, Test Loss: 0.0736, Test Accuracy: 99.690941\n",
      "differences: [0.00039448 0.01212221]\n",
      "check = [False  True]\n",
      "\n",
      "Epoch 10, Loss: 0.0039, Accuracy: 99.9751, Test Loss: 0.0862, Test Accuracy: 99.682961\n",
      "differences: [0.01212221 0.0042765 ]\n",
      "check = [ True  True]\n",
      "\n",
      "Epoch 11, Loss: 0.0045, Accuracy: 99.9726, Test Loss: 0.0876, Test Accuracy: 99.653969\n",
      "differences: [0.0042765  0.01257965]\n",
      "check = [ True  True]\n",
      "\n",
      "Epoch 12, Loss: 0.0024, Accuracy: 99.9829, Test Loss: 0.0794, Test Accuracy: 99.730972\n",
      "differences: [0.01257965 0.00142447]\n",
      "check = [ True  True]\n",
      "\n",
      "Epoch 13, Loss: 0.0032, Accuracy: 99.9809, Test Loss: 0.1072, Test Accuracy: 99.648956\n",
      "differences: [0.00142447 0.00826608]\n",
      "check = [ True  True]\n",
      "\n",
      "Epoch 14, Loss: 0.0026, Accuracy: 99.9825, Test Loss: 0.0915, Test Accuracy: 99.686966\n",
      "differences: [0.00826608 0.02788682]\n",
      "check = [ True  True]\n",
      "\n",
      "Epoch 15, Loss: 0.0020, Accuracy: 99.9887, Test Loss: 0.0892, Test Accuracy: 99.724976\n",
      "differences: [0.02788682 0.01572301]\n",
      "check = [ True  True]\n",
      "\n",
      "Epoch 16, Loss: 0.0011, Accuracy: 99.9944, Test Loss: 0.0983, Test Accuracy: 99.707977\n",
      "differences: [0.01572301 0.00231083]\n",
      "check = [ True  True]\n",
      "\n",
      "Epoch 17, Loss: 0.0023, Accuracy: 99.9850, Test Loss: 0.1220, Test Accuracy: 99.651962\n",
      "differences: [0.00231083 0.00912309]\n",
      "check = [ True  True]\n",
      "\n",
      "Epoch 18, Loss: 0.0016, Accuracy: 99.9887, Test Loss: 0.1108, Test Accuracy: 99.712967\n",
      "differences: [0.00912309 0.02366075]\n",
      "check = [ True  True]\n",
      "\n",
      "Epoch 19, Loss: 0.0023, Accuracy: 99.9862, Test Loss: 0.1203, Test Accuracy: 99.658966\n",
      "differences: [0.02366075 0.0111722 ]\n",
      "check = [ True  True]\n",
      "\n",
      "Epoch 20, Loss: 0.0009, Accuracy: 99.9937, Test Loss: 0.1080, Test Accuracy: 99.717972\n",
      "differences: [0.0111722  0.00948939]\n",
      "check = [ True  True]\n",
      "\n",
      "Epoch 21, Loss: 0.0029, Accuracy: 99.9840, Test Loss: 0.1021, Test Accuracy: 99.712952\n",
      "differences: [0.00948939 0.01228254]\n",
      "check = [ True  True]\n",
      "\n",
      "Epoch 22, Loss: 0.0012, Accuracy: 99.9887, Test Loss: 0.1047, Test Accuracy: 99.685936\n",
      "differences: [0.01228254 0.00595617]\n",
      "check = [ True  True]\n",
      "\n",
      "Epoch 23, Loss: 0.0018, Accuracy: 99.9897, Test Loss: 0.1066, Test Accuracy: 99.678963\n",
      "differences: [0.00595617 0.00258712]\n",
      "check = [ True  True]\n",
      "\n",
      "Epoch 24, Loss: 0.0018, Accuracy: 99.9899, Test Loss: 0.1230, Test Accuracy: 99.693947\n",
      "differences: [0.00258712 0.00198943]\n",
      "check = [ True  True]\n",
      "\n",
      "Epoch 25, Loss: 0.0013, Accuracy: 99.9917, Test Loss: 0.1262, Test Accuracy: 99.700974\n",
      "differences: [0.00198943 0.01632964]\n",
      "check = [ True  True]\n",
      "\n",
      "Epoch 26, Loss: 0.0019, Accuracy: 99.9884, Test Loss: 0.1438, Test Accuracy: 99.692986\n",
      "differences: [0.01632964 0.00320002]\n",
      "check = [ True  True]\n",
      "\n",
      "Epoch 27, Loss: 0.0010, Accuracy: 99.9940, Test Loss: 0.1070, Test Accuracy: 99.720970\n",
      "differences: [0.00320002 0.0176743 ]\n",
      "check = [ True  True]\n",
      "\n",
      "Epoch 28, Loss: 0.0015, Accuracy: 99.9903, Test Loss: 0.1392, Test Accuracy: 99.654961\n",
      "differences: [0.0176743  0.03685214]\n",
      "check = [ True  True]\n",
      "\n",
      "Epoch 29, Loss: 0.0019, Accuracy: 99.9897, Test Loss: 0.1285, Test Accuracy: 99.692955\n",
      "differences: [0.03685214 0.03224714]\n",
      "check = [ True  True]\n",
      "\n",
      "Epoch 30, Loss: 0.0007, Accuracy: 99.9960, Test Loss: 0.1365, Test Accuracy: 99.685966\n",
      "differences: [0.03224714 0.01070683]\n",
      "check = [ True  True]\n",
      "\n",
      "Epoch 31, Loss: 0.0002, Accuracy: 99.9993, Test Loss: 0.1316, Test Accuracy: 99.707962\n",
      "differences: [0.01070683 0.00796349]\n",
      "check = [ True  True]\n",
      "\n",
      "Epoch 32, Loss: 0.0021, Accuracy: 99.9884, Test Loss: 0.1277, Test Accuracy: 99.711952\n",
      "differences: [0.00796349 0.00488435]\n",
      "check = [ True  True]\n",
      "\n",
      "Epoch 33, Loss: 0.0013, Accuracy: 99.9928, Test Loss: 0.1311, Test Accuracy: 99.711983\n",
      "differences: [0.00488435 0.00394414]\n",
      "check = [ True  True]\n",
      "\n",
      "Epoch 34, Loss: 0.0002, Accuracy: 99.9987, Test Loss: 0.1490, Test Accuracy: 99.685982\n",
      "differences: [0.00394414 0.00346239]\n",
      "check = [ True  True]\n",
      "\n",
      "Epoch 35, Loss: 0.0019, Accuracy: 99.9875, Test Loss: 0.1437, Test Accuracy: 99.695953\n",
      "differences: [0.00346239 0.01781625]\n",
      "check = [ True  True]\n",
      "\n",
      "Epoch 36, Loss: 0.0017, Accuracy: 99.9900, Test Loss: 0.1419, Test Accuracy: 99.674942\n",
      "differences: [0.01781625 0.00524393]\n",
      "check = [ True  True]\n",
      "\n",
      "Epoch 37, Loss: 0.0002, Accuracy: 99.9993, Test Loss: 0.1289, Test Accuracy: 99.703964\n",
      "differences: [0.00524393 0.00185041]\n",
      "check = [ True  True]\n",
      "\n",
      "Epoch 38, Loss: 0.0000, Accuracy: 100.0000, Test Loss: 0.1326, Test Accuracy: 99.718979\n",
      "differences: [0.00185041 0.01300076]\n",
      "check = [ True  True]\n",
      "\n",
      "Epoch 39, Loss: 0.0000, Accuracy: 100.0000, Test Loss: 0.1293, Test Accuracy: 99.729958\n",
      "differences: [0.01300076 0.00370517]\n",
      "check = [ True  True]\n",
      "\n",
      "Epoch 40, Loss: 0.0000, Accuracy: 100.0000, Test Loss: 0.1296, Test Accuracy: 99.733963\n",
      "differences: [0.00370517 0.0032925 ]\n",
      "check = [ True  True]\n",
      "\n",
      "Epoch 41, Loss: 0.0000, Accuracy: 100.0000, Test Loss: 0.1299, Test Accuracy: 99.731964\n",
      "differences: [0.0032925  0.00033368]\n",
      "check = [ True False]\n",
      "\n",
      "Epoch 42, Loss: 0.0000, Accuracy: 100.0000, Test Loss: 0.1305, Test Accuracy: 99.737968\n",
      "differences: [0.00033368 0.00031589]\n",
      "check = [False False]\n",
      "\n",
      "\n",
      "\n",
      "EarlyStopping Evoked! Stopping training\n",
      "\n",
      "\n"
     ]
    }
   ],
   "source": [
    "for epoch in range(epochs):\n",
    "    # Reset the metrics at the start of the next epoch\n",
    "    train_loss.reset_states()\n",
    "    train_accuracy.reset_states()\n",
    "    test_loss.reset_states()\n",
    "    test_accuracy.reset_states()\n",
    "\n",
    "    for x, y in train_ds:\n",
    "        train_step(x, y)\n",
    "\n",
    "    for x_t, y_t in test_ds:\n",
    "        test_step(x_t, y_t)\n",
    "\n",
    "    template = 'Epoch {0}, Loss: {1:.4f}, Accuracy: {2:.4f}, Test Loss: {3:.4f}, Test Accuracy: {4:4f}'\n",
    "\n",
    "    history['accuracy'][epoch] = train_accuracy.result()\n",
    "    history['loss'][epoch] = train_loss.result()\n",
    "    history['val_loss'][epoch] = test_loss.result()\n",
    "    history['val_accuracy'][epoch] = test_accuracy.result()\n",
    "\n",
    "    print(template.format(epoch + 1, \n",
    "                          train_loss.result(), train_accuracy.result()*100,\n",
    "                          test_loss.result(), test_accuracy.result()*100))\n",
    "\n",
    "    if epoch > 2:\n",
    "        # Computes absolute differences between 3 consecutive loss values-\n",
    "        differences = np.abs(np.diff(history['val_loss'][epoch - patience:epoch], n = 1))\n",
    "        print(\"differences: {0}\".format(differences))\n",
    "        \n",
    "        # Checks whether the absolute differences is greater than 'minimum_delta'-\n",
    "        check =  differences > minimum_delta\n",
    "        print(\"check = {0}\\n\".format(check))\n",
    "        \n",
    "        if np.all(check == False):\n",
    "            print(\"\\n\\nEarlyStopping Evoked! Stopping training\\n\\n\")\n",
    "            break\n"
   ]
  },
  {
   "cell_type": "code",
   "execution_count": null,
   "metadata": {},
   "outputs": [],
   "source": [
    "score_gt = model_gt.evaluate(X_test, y_test, verbose=0)\n",
    "\n",
    "print(\"\\n'GradientTape' metrics on testing set:\")\n",
    "print(\"loss = {0:.4f} & accuracy = {1:.4f}\\n\".format(\n",
    "    score_gt[0], score_gt[1]))"
   ]
  },
  {
   "cell_type": "code",
   "execution_count": 59,
   "metadata": {},
   "outputs": [],
   "source": [
    "# Make predictions using trained model-\n",
    "y_pred_gt = model_gt.predict_classes(X_test)"
   ]
  },
  {
   "cell_type": "code",
   "execution_count": 60,
   "metadata": {},
   "outputs": [],
   "source": [
    "# Compute metrics-\n",
    "accuracy_gt = accuracy_score(y_test_labels, y_pred_gt)\n",
    "precision_gt = precision_score(y_test_labels, y_pred_gt, average='macro')\n",
    "recall_gt = recall_score(y_test_labels, y_pred_gt, average='macro')"
   ]
  },
  {
   "cell_type": "code",
   "execution_count": 61,
   "metadata": {},
   "outputs": [
    {
     "name": "stdout",
     "output_type": "stream",
     "text": [
      "\n",
      "'GradientTape' metrics on testing dataset are:\n",
      "accuracy = 0.9869, precision = 0.9868 & recall = 0.9868\n",
      "\n"
     ]
    }
   ],
   "source": [
    "print(\"\\n'GradientTape' metrics on testing dataset are:\")\n",
    "print(\"accuracy = {0:.4f}, precision = {1:.4f} & recall = {2:.4f}\\n\".format(\n",
    "    accuracy_gt, precision_gt, recall_gt))"
   ]
  },
  {
   "cell_type": "code",
   "execution_count": 62,
   "metadata": {},
   "outputs": [
    {
     "name": "stdout",
     "output_type": "stream",
     "text": [
      "\n",
      "'GradientTape' confusion matrix:\n",
      "\n",
      "[[ 971    1    1    0    0    1    3    1    2    0]\n",
      " [   0 1126    2    1    0    0    3    1    2    0]\n",
      " [   1    0 1020    0    0    0    1    4    6    0]\n",
      " [   1    0    2  994    0    7    0    3    2    1]\n",
      " [   0    0    1    0  972    0    2    0    1    6]\n",
      " [   2    1    1    4    0  880    2    0    2    0]\n",
      " [   2    3    0    0    1    3  948    0    1    0]\n",
      " [   1    1    6    1    0    1    0 1011    2    5]\n",
      " [   4    1    1    3    1    0    1    2  956    5]\n",
      " [   0    3    0    0    4    5    0    2    4  991]]\n"
     ]
    }
   ],
   "source": [
    "print(\"\\n'GradientTape' confusion matrix:\\n\")\n",
    "print(confusion_matrix(y_test_labels, y_pred_gt))"
   ]
  },
  {
   "cell_type": "code",
   "execution_count": null,
   "metadata": {},
   "outputs": [],
   "source": []
  },
  {
   "cell_type": "code",
   "execution_count": 63,
   "metadata": {},
   "outputs": [
    {
     "name": "stdout",
     "output_type": "stream",
     "text": [
      "\n",
      "'model.fit()' metrics on testing dataset are:\n",
      "accuracy = 0.9848, precision = 0.9847 & recall = 0.9848\n",
      "\n"
     ]
    }
   ],
   "source": [
    "print(\"\\n'model.fit()' metrics on testing dataset are:\")\n",
    "print(\"accuracy = {0:.4f}, precision = {1:.4f} & recall = {2:.4f}\\n\".format(\n",
    "    accuracy_orig, precision_orig, recall_orig))"
   ]
  },
  {
   "cell_type": "code",
   "execution_count": 64,
   "metadata": {},
   "outputs": [
    {
     "name": "stdout",
     "output_type": "stream",
     "text": [
      "\n",
      "'model.fit()' confusion matrix:\n",
      "\n",
      "[[ 971    0    2    0    0    0    4    1    2    0]\n",
      " [   1 1126    2    0    1    0    3    1    1    0]\n",
      " [   2    3 1016    1    1    0    0    3    6    0]\n",
      " [   0    0    5  990    0    8    0    5    2    0]\n",
      " [   0    0    1    0  969    0    3    0    1    8]\n",
      " [   2    1    1    3    0  879    6    0    0    0]\n",
      " [   3    2    1    0    2    2  948    0    0    0]\n",
      " [   1    1    7    0    1    0    0 1010    4    4]\n",
      " [   2    1    3    1    0    2    3    4  955    3]\n",
      " [   4    3    0    0    5    6    1    3    3  984]]\n"
     ]
    }
   ],
   "source": [
    "print(\"\\n'model.fit()' confusion matrix:\\n\")\n",
    "print(confusion_matrix(y_test_labels, y_pred_orig))"
   ]
  },
  {
   "cell_type": "code",
   "execution_count": 65,
   "metadata": {},
   "outputs": [],
   "source": [
    "# Save weights of 'model.fit()' trained model-\n",
    "model.save_weights(\"Trained_model_weights.h5\", overwrite=True)"
   ]
  },
  {
   "cell_type": "code",
   "execution_count": 66,
   "metadata": {},
   "outputs": [],
   "source": [
    "# Save weights of 'GradientTape' trained model-\n",
    "model.save_weights(\"Trained_GradientTape_model_weights.h5\", overwrite=True)"
   ]
  },
  {
   "cell_type": "code",
   "execution_count": null,
   "metadata": {},
   "outputs": [],
   "source": []
  }
 ],
 "metadata": {
  "kernelspec": {
   "display_name": "Python 3",
   "language": "python",
   "name": "python3"
  },
  "language_info": {
   "codemirror_mode": {
    "name": "ipython",
    "version": 3
   },
   "file_extension": ".py",
   "mimetype": "text/x-python",
   "name": "python",
   "nbconvert_exporter": "python",
   "pygments_lexer": "ipython3",
   "version": "3.7.3"
  }
 },
 "nbformat": 4,
 "nbformat_minor": 4
}
