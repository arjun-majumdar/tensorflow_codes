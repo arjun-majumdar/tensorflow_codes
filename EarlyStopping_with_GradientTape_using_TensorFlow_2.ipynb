{
 "cells": [
  {
   "cell_type": "markdown",
   "metadata": {},
   "source": [
    "# Using _EarlyStopping_ with _GradientTape_ in _TensorFlow 2.0_"
   ]
  },
  {
   "cell_type": "code",
   "execution_count": 1,
   "metadata": {},
   "outputs": [],
   "source": [
    "import pandas as pd, numpy as np\n",
    "import matplotlib.pyplot as plt\n",
    "import seaborn as sns\n",
    "from sklearn.model_selection import train_test_split\n",
    "from sklearn.preprocessing import StandardScaler, MinMaxScaler, RobustScaler\n",
    "from sklearn.preprocessing import LabelEncoder\n",
    "from sklearn.metrics import accuracy_score, precision_score, recall_score, confusion_matrix\n",
    "\n",
    "# from keras.models import Sequential\n",
    "# from keras.layers import Dense\n",
    "import tensorflow as tf\n",
    "from tensorflow.keras.models import Sequential\n",
    "from tensorflow.keras.layers import Dense\n",
    "import tensorflow_model_optimization as tfmot\n",
    "from tensorflow_model_optimization.sparsity import keras as sparsity"
   ]
  },
  {
   "cell_type": "markdown",
   "metadata": {},
   "source": [
    "### Brief introduction about dataset:\n",
    "\n",
    "_banknote authentication_ Data Set\n",
    "\n",
    "Refer:\n",
    "\n",
    "http://archive.ics.uci.edu/ml/datasets/banknote+authentication\n",
    "\n",
    "\n",
    "You have to predict _class_ attribute"
   ]
  },
  {
   "cell_type": "code",
   "execution_count": 2,
   "metadata": {},
   "outputs": [],
   "source": [
    "# Assign column names to dataset-\n",
    "colnames = ['variance-wavelet_transformed_img', 'skewness-wavelet_transformed_img',\n",
    "            'curtosis-wavelet_transformed_img', 'entropy-img', 'class']"
   ]
  },
  {
   "cell_type": "code",
   "execution_count": 3,
   "metadata": {},
   "outputs": [],
   "source": [
    "# Read in data-\n",
    "banknote_data = pd.read_csv(\"data_banknote_authentication.txt\", names = colnames)"
   ]
  },
  {
   "cell_type": "code",
   "execution_count": 4,
   "metadata": {},
   "outputs": [
    {
     "data": {
      "text/plain": [
       "(1372, 5)"
      ]
     },
     "execution_count": 4,
     "metadata": {},
     "output_type": "execute_result"
    }
   ],
   "source": [
    "# Get shape/dimension of data-\n",
    "banknote_data.shape"
   ]
  },
  {
   "cell_type": "code",
   "execution_count": 5,
   "metadata": {},
   "outputs": [
    {
     "data": {
      "text/plain": [
       "False"
      ]
     },
     "execution_count": 5,
     "metadata": {},
     "output_type": "execute_result"
    }
   ],
   "source": [
    "# Check for missing values in dataset-\n",
    "# Get columns with True/False containing NAs-\n",
    "banknote_data.isnull().values.any()"
   ]
  },
  {
   "cell_type": "code",
   "execution_count": 6,
   "metadata": {},
   "outputs": [
    {
     "data": {
      "text/plain": [
       "0    762\n",
       "1    610\n",
       "Name: class, dtype: int64"
      ]
     },
     "execution_count": 6,
     "metadata": {},
     "output_type": "execute_result"
    }
   ],
   "source": [
    "# Get distribution of target attribute: 'class'-\n",
    "banknote_data['class'].value_counts()"
   ]
  },
  {
   "cell_type": "code",
   "execution_count": 7,
   "metadata": {},
   "outputs": [
    {
     "data": {
      "image/png": "[encoded data removed]",
      "text/plain": [
       "<Figure size 432x288 with 1 Axes>"
      ]
     },
     "metadata": {
      "needs_background": "light"
     },
     "output_type": "display_data"
    }
   ],
   "source": [
    "sns.boxplot(data=banknote_data.iloc[:, :-1])\n",
    "\n",
    "plt.title(\"Banknote dataset boxplots\")\n",
    "plt.xticks(rotation = 20)\n",
    "plt.show()"
   ]
  },
  {
   "cell_type": "markdown",
   "metadata": {},
   "source": [
    "### Observations:\n",
    "The attributes of the dataset seem to have a normal distribution with outliers for the last two attributes"
   ]
  },
  {
   "cell_type": "code",
   "execution_count": 8,
   "metadata": {},
   "outputs": [],
   "source": [
    "# Divide data into features (X) and label (y)-\n",
    "\n",
    "# 'X' contains attributes-\n",
    "X = banknote_data.drop('class', axis = 1)\n",
    "\n",
    "# 'y' contains labels-\n",
    "y = banknote_data['class']"
   ]
  },
  {
   "cell_type": "code",
   "execution_count": 9,
   "metadata": {},
   "outputs": [],
   "source": [
    "# Standardize certain features/attributes in dataset-\n",
    "rb_scaler = RobustScaler()\n",
    "\n",
    "# Standardize features (X) in dataset-\n",
    "X_std = rb_scaler.fit_transform(X)"
   ]
  },
  {
   "cell_type": "code",
   "execution_count": 10,
   "metadata": {},
   "outputs": [
    {
     "name": "stdout",
     "output_type": "stream",
     "text": [
      "\n",
      "\n",
      "Dimensions of training and testing sets are:\n",
      "X_train = (960, 4), y_train = (960,), X_test = (412, 4) & y_test = (412,)\n",
      "\n",
      "\n"
     ]
    }
   ],
   "source": [
    "# Divide attributes & labels into training & testing sets-\n",
    "X_train, X_test, y_train, y_test = train_test_split(X_std, y, test_size = 0.30)\n",
    "print(\"\\n\\nDimensions of training and testing sets are:\")\n",
    "print(\"X_train = {0}, y_train = {1}, X_test = {2} & y_test = {3}\\n\\n\".format(X_train.shape, y_train.shape, X_test.shape, y_test.shape))"
   ]
  },
  {
   "cell_type": "code",
   "execution_count": 11,
   "metadata": {},
   "outputs": [],
   "source": [
    "# Convert training and testing sets to floating types as numpy arrays-\n",
    "X_train = np.asarray(X_train)\n",
    "X_test = np.asarray(X_test)\n",
    "\n",
    "y_train = np.asarray(y_train, dtype = np.float16)\n",
    "y_test = np.asarray(y_test, dtype = np.float16)"
   ]
  },
  {
   "cell_type": "code",
   "execution_count": 14,
   "metadata": {},
   "outputs": [],
   "source": [
    "def create_nn():\n",
    "    \"\"\"\n",
    "    Function to create a\n",
    "    Neural Network\n",
    "    \"\"\"\n",
    "    model = Sequential()                                                    \n",
    "\n",
    "    model.add(\n",
    "        Dense(\n",
    "            units = 4, activation = 'relu',\n",
    "            kernel_initializer = tf.keras.initializers.GlorotNormal(),\n",
    "            input_shape = (4,)\n",
    "        )\n",
    "    )\n",
    "\n",
    "    model.add(\n",
    "        Dense(\n",
    "            units = 3, activation = 'relu',\n",
    "            kernel_initializer = tf.keras.initializers.GlorotNormal()\n",
    "        )\n",
    "    )\n",
    "\n",
    "    model.add(\n",
    "        Dense(\n",
    "            units = 1, activation = 'sigmoid'\n",
    "        )\n",
    "    )\n",
    "\n",
    "    \"\"\"\n",
    "    # Compile the defined NN model above-\n",
    "    model.compile(\n",
    "        loss = 'binary_crossentropy',  # loss = 'categorical_crossentropy'\n",
    "        optimizer = tf.keras.optimizers.Adam(lr = 0.001),\n",
    "        metrics=['accuracy']\n",
    "    )\n",
    "    \"\"\"\n",
    "\n",
    "    return model\n",
    "\n"
   ]
  },
  {
   "cell_type": "markdown",
   "metadata": {},
   "source": [
    "### First _fit()_ method with _EarlyStopping_ is used:"
   ]
  },
  {
   "cell_type": "code",
   "execution_count": 15,
   "metadata": {},
   "outputs": [],
   "source": [
    "# Instantiate a model-\n",
    "model = create_nn()"
   ]
  },
  {
   "cell_type": "code",
   "execution_count": 16,
   "metadata": {},
   "outputs": [],
   "source": [
    "# Save weights for fair comparison-\n",
    "model.save_weights(\"Random_Weights.h5\", overwrite=True)"
   ]
  },
  {
   "cell_type": "markdown",
   "metadata": {},
   "source": [
    "### _fit()_ method arguments:\n",
    "\n",
    "1. _batch_size:_ Integer or None. Number of samples per gradient update. If unspecified, batch_size will default to 32. Do not specify the batch_size if your data is in the form of symbolic tensors, datasets, generators, or keras.utils.Sequence instances (since they generate batches).\n",
    "\n",
    "1. _epochs:_ Integer. Number of epochs to train the model. An epoch is an iteration over the entire x and y data provided. Note that in conjunction with initial_epoch, epochs is to be understood as \"final epoch\". The model is not trained for a number of iterations given by epochs, but merely until the epoch of index epochs is reached.\n",
    "\n",
    "1. _shuffle:_ Boolean (whether to shuffle the training data before each epoch) or str (for 'batch'). 'batch' is a special option for dealing with the limitations of HDF5 data; __it shuffles in batch-sized chunks__. Has no effect when _steps_per_epoch_ is not None."
   ]
  },
  {
   "cell_type": "code",
   "execution_count": 17,
   "metadata": {},
   "outputs": [],
   "source": [
    "# Compile model-\n",
    "model.compile(\n",
    "    loss = 'binary_crossentropy',\n",
    "    optimizer = tf.keras.optimizers.Adam(lr = 0.001),\n",
    "    metrics = ['accuracy'],\n",
    "    shuffle = True\n",
    "    )"
   ]
  },
  {
   "cell_type": "code",
   "execution_count": 18,
   "metadata": {},
   "outputs": [],
   "source": [
    "# Define early stopping-\n",
    "callback = tf.keras.callbacks.EarlyStopping(\n",
    "    monitor='val_loss', patience=3,\n",
    "    min_delta = 0.001, mode = 'min'\n",
    ")"
   ]
  },
  {
   "cell_type": "code",
   "execution_count": 19,
   "metadata": {},
   "outputs": [
    {
     "name": "stdout",
     "output_type": "stream",
     "text": [
      "Train on 960 samples, validate on 412 samples\n",
      "Epoch 1/500\n",
      "960/960 [==============================] - 1s 920us/sample - loss: 0.8800 - accuracy: 0.3531 - val_loss: 0.8168 - val_accuracy: 0.3714\n",
      "Epoch 2/500\n",
      "960/960 [==============================] - 0s 85us/sample - loss: 0.8081 - accuracy: 0.3948 - val_loss: 0.7661 - val_accuracy: 0.4684\n",
      "Epoch 3/500\n",
      "960/960 [==============================] - 0s 94us/sample - loss: 0.7600 - accuracy: 0.4531 - val_loss: 0.7330 - val_accuracy: 0.4976\n",
      "Epoch 4/500\n",
      "960/960 [==============================] - 0s 83us/sample - loss: 0.7274 - accuracy: 0.4875 - val_loss: 0.7090 - val_accuracy: 0.5121\n",
      "Epoch 5/500\n",
      "960/960 [==============================] - 0s 92us/sample - loss: 0.7032 - accuracy: 0.5344 - val_loss: 0.6907 - val_accuracy: 0.5607\n",
      "Epoch 6/500\n",
      "960/960 [==============================] - 0s 106us/sample - loss: 0.6850 - accuracy: 0.5740 - val_loss: 0.6778 - val_accuracy: 0.5947\n",
      "Epoch 7/500\n",
      "960/960 [==============================] - 0s 94us/sample - loss: 0.6724 - accuracy: 0.6156 - val_loss: 0.6697 - val_accuracy: 0.6335\n",
      "Epoch 8/500\n",
      "960/960 [==============================] - 0s 81us/sample - loss: 0.6635 - accuracy: 0.6281 - val_loss: 0.6635 - val_accuracy: 0.6456\n",
      "Epoch 9/500\n",
      "960/960 [==============================] - 0s 93us/sample - loss: 0.6565 - accuracy: 0.6375 - val_loss: 0.6589 - val_accuracy: 0.6553\n",
      "Epoch 10/500\n",
      "960/960 [==============================] - 0s 81us/sample - loss: 0.6502 - accuracy: 0.6490 - val_loss: 0.6547 - val_accuracy: 0.6602\n",
      "Epoch 11/500\n",
      "960/960 [==============================] - 0s 83us/sample - loss: 0.6450 - accuracy: 0.6552 - val_loss: 0.6504 - val_accuracy: 0.6626\n",
      "Epoch 12/500\n",
      "960/960 [==============================] - 0s 86us/sample - loss: 0.6398 - accuracy: 0.6615 - val_loss: 0.6455 - val_accuracy: 0.6650\n",
      "Epoch 13/500\n",
      "960/960 [==============================] - 0s 80us/sample - loss: 0.6342 - accuracy: 0.6802 - val_loss: 0.6397 - val_accuracy: 0.6748\n",
      "Epoch 14/500\n",
      "960/960 [==============================] - 0s 87us/sample - loss: 0.6282 - accuracy: 0.6854 - val_loss: 0.6332 - val_accuracy: 0.6820\n",
      "Epoch 15/500\n",
      "960/960 [==============================] - 0s 84us/sample - loss: 0.6209 - accuracy: 0.6979 - val_loss: 0.6248 - val_accuracy: 0.6917\n",
      "Epoch 16/500\n",
      "960/960 [==============================] - 0s 103us/sample - loss: 0.6119 - accuracy: 0.7094 - val_loss: 0.6134 - val_accuracy: 0.7015\n",
      "Epoch 17/500\n",
      "960/960 [==============================] - 0s 88us/sample - loss: 0.6005 - accuracy: 0.7250 - val_loss: 0.6011 - val_accuracy: 0.7233\n",
      "Epoch 18/500\n",
      "960/960 [==============================] - 0s 92us/sample - loss: 0.5882 - accuracy: 0.7323 - val_loss: 0.5878 - val_accuracy: 0.7451\n",
      "Epoch 19/500\n",
      "960/960 [==============================] - 0s 84us/sample - loss: 0.5747 - accuracy: 0.7531 - val_loss: 0.5722 - val_accuracy: 0.7743\n",
      "Epoch 20/500\n",
      "960/960 [==============================] - 0s 87us/sample - loss: 0.5597 - accuracy: 0.8010 - val_loss: 0.5550 - val_accuracy: 0.8277\n",
      "Epoch 21/500\n",
      "960/960 [==============================] - 0s 90us/sample - loss: 0.5424 - accuracy: 0.8594 - val_loss: 0.5351 - val_accuracy: 0.9078\n",
      "Epoch 22/500\n",
      "960/960 [==============================] - 0s 101us/sample - loss: 0.5211 - accuracy: 0.9260 - val_loss: 0.5094 - val_accuracy: 0.9369\n",
      "Epoch 23/500\n",
      "960/960 [==============================] - 0s 115us/sample - loss: 0.4942 - accuracy: 0.9292 - val_loss: 0.4807 - val_accuracy: 0.9369\n",
      "Epoch 24/500\n",
      "960/960 [==============================] - 0s 114us/sample - loss: 0.4659 - accuracy: 0.9323 - val_loss: 0.4527 - val_accuracy: 0.9417\n",
      "Epoch 25/500\n",
      "960/960 [==============================] - 0s 106us/sample - loss: 0.4394 - accuracy: 0.9385 - val_loss: 0.4253 - val_accuracy: 0.9417\n",
      "Epoch 26/500\n",
      "960/960 [==============================] - 0s 111us/sample - loss: 0.4139 - accuracy: 0.9438 - val_loss: 0.4013 - val_accuracy: 0.9490\n",
      "Epoch 27/500\n",
      "960/960 [==============================] - 0s 97us/sample - loss: 0.3913 - accuracy: 0.9438 - val_loss: 0.3790 - val_accuracy: 0.9563\n",
      "Epoch 28/500\n",
      "960/960 [==============================] - 0s 91us/sample - loss: 0.3704 - accuracy: 0.9510 - val_loss: 0.3590 - val_accuracy: 0.9612\n",
      "Epoch 29/500\n",
      "960/960 [==============================] - 0s 103us/sample - loss: 0.3518 - accuracy: 0.9542 - val_loss: 0.3418 - val_accuracy: 0.9612\n",
      "Epoch 30/500\n",
      "960/960 [==============================] - 0s 115us/sample - loss: 0.3353 - accuracy: 0.9594 - val_loss: 0.3261 - val_accuracy: 0.9612\n",
      "Epoch 31/500\n",
      "960/960 [==============================] - 0s 114us/sample - loss: 0.3204 - accuracy: 0.9635 - val_loss: 0.3119 - val_accuracy: 0.9612\n",
      "Epoch 32/500\n",
      "960/960 [==============================] - 0s 103us/sample - loss: 0.3072 - accuracy: 0.9656 - val_loss: 0.2992 - val_accuracy: 0.9684\n",
      "Epoch 33/500\n",
      "960/960 [==============================] - 0s 91us/sample - loss: 0.2949 - accuracy: 0.9667 - val_loss: 0.2875 - val_accuracy: 0.9709\n",
      "Epoch 34/500\n",
      "960/960 [==============================] - 0s 95us/sample - loss: 0.2837 - accuracy: 0.9688 - val_loss: 0.2770 - val_accuracy: 0.9733\n",
      "Epoch 35/500\n",
      "960/960 [==============================] - 0s 93us/sample - loss: 0.2735 - accuracy: 0.9719 - val_loss: 0.2671 - val_accuracy: 0.9733\n",
      "Epoch 36/500\n",
      "960/960 [==============================] - 0s 99us/sample - loss: 0.2637 - accuracy: 0.9719 - val_loss: 0.2583 - val_accuracy: 0.9757\n",
      "Epoch 37/500\n",
      "960/960 [==============================] - 0s 100us/sample - loss: 0.2550 - accuracy: 0.9740 - val_loss: 0.2501 - val_accuracy: 0.9757\n",
      "Epoch 38/500\n",
      "960/960 [==============================] - 0s 100us/sample - loss: 0.2467 - accuracy: 0.9740 - val_loss: 0.2420 - val_accuracy: 0.9757\n",
      "Epoch 39/500\n",
      "960/960 [==============================] - 0s 114us/sample - loss: 0.2393 - accuracy: 0.9750 - val_loss: 0.2347 - val_accuracy: 0.9782\n",
      "Epoch 40/500\n",
      "960/960 [==============================] - 0s 115us/sample - loss: 0.2320 - accuracy: 0.9750 - val_loss: 0.2278 - val_accuracy: 0.9830\n",
      "Epoch 41/500\n",
      "960/960 [==============================] - 0s 102us/sample - loss: 0.2252 - accuracy: 0.9760 - val_loss: 0.2209 - val_accuracy: 0.9830\n",
      "Epoch 42/500\n",
      "960/960 [==============================] - 0s 105us/sample - loss: 0.2188 - accuracy: 0.9760 - val_loss: 0.2149 - val_accuracy: 0.9854\n",
      "Epoch 43/500\n",
      "960/960 [==============================] - 0s 97us/sample - loss: 0.2129 - accuracy: 0.9781 - val_loss: 0.2093 - val_accuracy: 0.9854\n",
      "Epoch 44/500\n",
      "960/960 [==============================] - 0s 92us/sample - loss: 0.2070 - accuracy: 0.9781 - val_loss: 0.2036 - val_accuracy: 0.9854\n",
      "Epoch 45/500\n",
      "960/960 [==============================] - 0s 103us/sample - loss: 0.2015 - accuracy: 0.9781 - val_loss: 0.1983 - val_accuracy: 0.9854\n",
      "Epoch 46/500\n",
      "960/960 [==============================] - 0s 99us/sample - loss: 0.1961 - accuracy: 0.9781 - val_loss: 0.1929 - val_accuracy: 0.9854\n",
      "Epoch 47/500\n",
      "960/960 [==============================] - 0s 83us/sample - loss: 0.1911 - accuracy: 0.9792 - val_loss: 0.1879 - val_accuracy: 0.9854\n",
      "Epoch 48/500\n",
      "960/960 [==============================] - 0s 88us/sample - loss: 0.1862 - accuracy: 0.9792 - val_loss: 0.1832 - val_accuracy: 0.9854\n",
      "Epoch 49/500\n",
      "960/960 [==============================] - 0s 86us/sample - loss: 0.1816 - accuracy: 0.9833 - val_loss: 0.1788 - val_accuracy: 0.9854\n",
      "Epoch 50/500\n",
      "960/960 [==============================] - 0s 109us/sample - loss: 0.1771 - accuracy: 0.9885 - val_loss: 0.1743 - val_accuracy: 0.9854\n",
      "Epoch 51/500\n",
      "960/960 [==============================] - 0s 107us/sample - loss: 0.1728 - accuracy: 0.9885 - val_loss: 0.1700 - val_accuracy: 0.9854\n",
      "Epoch 52/500\n",
      "960/960 [==============================] - 0s 108us/sample - loss: 0.1687 - accuracy: 0.9885 - val_loss: 0.1661 - val_accuracy: 0.9854\n",
      "Epoch 53/500\n",
      "960/960 [==============================] - 0s 95us/sample - loss: 0.1647 - accuracy: 0.9885 - val_loss: 0.1621 - val_accuracy: 0.9854\n",
      "Epoch 54/500\n",
      "960/960 [==============================] - 0s 103us/sample - loss: 0.1608 - accuracy: 0.9885 - val_loss: 0.1581 - val_accuracy: 0.9854\n",
      "Epoch 55/500\n",
      "960/960 [==============================] - 0s 83us/sample - loss: 0.1571 - accuracy: 0.9906 - val_loss: 0.1549 - val_accuracy: 0.9927\n",
      "Epoch 56/500\n",
      "960/960 [==============================] - 0s 100us/sample - loss: 0.1535 - accuracy: 0.9906 - val_loss: 0.1510 - val_accuracy: 0.9927\n",
      "Epoch 57/500\n",
      "960/960 [==============================] - 0s 81us/sample - loss: 0.1500 - accuracy: 0.9906 - val_loss: 0.1478 - val_accuracy: 0.9927\n",
      "Epoch 58/500\n",
      "960/960 [==============================] - 0s 82us/sample - loss: 0.1466 - accuracy: 0.9906 - val_loss: 0.1444 - val_accuracy: 0.9927\n",
      "Epoch 59/500\n",
      "960/960 [==============================] - 0s 96us/sample - loss: 0.1433 - accuracy: 0.9906 - val_loss: 0.1413 - val_accuracy: 0.9927\n",
      "Epoch 60/500\n",
      "960/960 [==============================] - 0s 104us/sample - loss: 0.1403 - accuracy: 0.9917 - val_loss: 0.1382 - val_accuracy: 0.9927\n",
      "Epoch 61/500\n",
      "960/960 [==============================] - 0s 112us/sample - loss: 0.1370 - accuracy: 0.9927 - val_loss: 0.1353 - val_accuracy: 0.9976\n",
      "Epoch 62/500\n",
      "960/960 [==============================] - 0s 102us/sample - loss: 0.1341 - accuracy: 0.9937 - val_loss: 0.1322 - val_accuracy: 0.9976\n",
      "Epoch 63/500\n",
      "960/960 [==============================] - 0s 98us/sample - loss: 0.1312 - accuracy: 0.9948 - val_loss: 0.1293 - val_accuracy: 0.9976\n",
      "Epoch 64/500\n",
      "960/960 [==============================] - 0s 101us/sample - loss: 0.1283 - accuracy: 0.9948 - val_loss: 0.1267 - val_accuracy: 1.0000\n",
      "Epoch 65/500\n",
      "960/960 [==============================] - 0s 100us/sample - loss: 0.1257 - accuracy: 0.9969 - val_loss: 0.1243 - val_accuracy: 1.0000\n",
      "Epoch 66/500\n",
      "960/960 [==============================] - 0s 94us/sample - loss: 0.1229 - accuracy: 0.9969 - val_loss: 0.1215 - val_accuracy: 1.0000\n",
      "Epoch 67/500\n",
      "960/960 [==============================] - 0s 94us/sample - loss: 0.1204 - accuracy: 0.9969 - val_loss: 0.1189 - val_accuracy: 1.0000\n",
      "Epoch 68/500\n",
      "960/960 [==============================] - 0s 89us/sample - loss: 0.1178 - accuracy: 0.9969 - val_loss: 0.1166 - val_accuracy: 1.0000\n",
      "Epoch 69/500\n",
      "960/960 [==============================] - 0s 121us/sample - loss: 0.1155 - accuracy: 0.9969 - val_loss: 0.1142 - val_accuracy: 1.0000\n",
      "Epoch 70/500\n",
      "960/960 [==============================] - 0s 105us/sample - loss: 0.1131 - accuracy: 0.9969 - val_loss: 0.1120 - val_accuracy: 1.0000\n",
      "Epoch 71/500\n",
      "960/960 [==============================] - 0s 101us/sample - loss: 0.1107 - accuracy: 0.9969 - val_loss: 0.1098 - val_accuracy: 1.0000\n",
      "Epoch 72/500\n",
      "960/960 [==============================] - 0s 111us/sample - loss: 0.1084 - accuracy: 0.9969 - val_loss: 0.1075 - val_accuracy: 1.0000\n",
      "Epoch 73/500\n",
      "960/960 [==============================] - 0s 84us/sample - loss: 0.1062 - accuracy: 0.9969 - val_loss: 0.1054 - val_accuracy: 1.0000\n",
      "Epoch 74/500\n",
      "960/960 [==============================] - 0s 96us/sample - loss: 0.1042 - accuracy: 0.9969 - val_loss: 0.1035 - val_accuracy: 1.0000\n",
      "Epoch 75/500\n",
      "960/960 [==============================] - 0s 104us/sample - loss: 0.1020 - accuracy: 0.9969 - val_loss: 0.1013 - val_accuracy: 1.0000\n",
      "Epoch 76/500\n",
      "960/960 [==============================] - 0s 103us/sample - loss: 0.1000 - accuracy: 0.9969 - val_loss: 0.0995 - val_accuracy: 1.0000\n",
      "Epoch 77/500\n",
      "960/960 [==============================] - 0s 98us/sample - loss: 0.0980 - accuracy: 0.9969 - val_loss: 0.0976 - val_accuracy: 1.0000\n",
      "Epoch 78/500\n",
      "960/960 [==============================] - 0s 80us/sample - loss: 0.0961 - accuracy: 0.9969 - val_loss: 0.0957 - val_accuracy: 1.0000\n",
      "Epoch 79/500\n",
      "960/960 [==============================] - 0s 82us/sample - loss: 0.0942 - accuracy: 0.9969 - val_loss: 0.0941 - val_accuracy: 1.0000\n",
      "Epoch 80/500\n",
      "960/960 [==============================] - 0s 84us/sample - loss: 0.0924 - accuracy: 0.9969 - val_loss: 0.0922 - val_accuracy: 1.0000\n",
      "Epoch 81/500\n",
      "960/960 [==============================] - 0s 103us/sample - loss: 0.0906 - accuracy: 0.9969 - val_loss: 0.0904 - val_accuracy: 1.0000\n",
      "Epoch 82/500\n",
      "960/960 [==============================] - 0s 97us/sample - loss: 0.0888 - accuracy: 0.9969 - val_loss: 0.0888 - val_accuracy: 1.0000\n",
      "Epoch 83/500\n",
      "960/960 [==============================] - 0s 104us/sample - loss: 0.0871 - accuracy: 0.9969 - val_loss: 0.0871 - val_accuracy: 1.0000\n",
      "Epoch 84/500\n",
      "960/960 [==============================] - 0s 103us/sample - loss: 0.0855 - accuracy: 0.9969 - val_loss: 0.0855 - val_accuracy: 1.0000\n",
      "Epoch 85/500\n",
      "960/960 [==============================] - 0s 101us/sample - loss: 0.0839 - accuracy: 0.9969 - val_loss: 0.0842 - val_accuracy: 1.0000\n",
      "Epoch 86/500\n",
      "960/960 [==============================] - 0s 102us/sample - loss: 0.0823 - accuracy: 0.9969 - val_loss: 0.0824 - val_accuracy: 1.0000\n",
      "Epoch 87/500\n",
      "960/960 [==============================] - 0s 85us/sample - loss: 0.0808 - accuracy: 0.9969 - val_loss: 0.0811 - val_accuracy: 1.0000\n",
      "Epoch 88/500\n",
      "960/960 [==============================] - 0s 86us/sample - loss: 0.0793 - accuracy: 0.9969 - val_loss: 0.0795 - val_accuracy: 1.0000\n",
      "Epoch 89/500\n",
      "960/960 [==============================] - 0s 84us/sample - loss: 0.0778 - accuracy: 0.9969 - val_loss: 0.0781 - val_accuracy: 1.0000\n",
      "Epoch 90/500\n",
      "960/960 [==============================] - 0s 97us/sample - loss: 0.0764 - accuracy: 0.9969 - val_loss: 0.0769 - val_accuracy: 1.0000\n",
      "Epoch 91/500\n",
      "960/960 [==============================] - 0s 97us/sample - loss: 0.0750 - accuracy: 0.9979 - val_loss: 0.0756 - val_accuracy: 1.0000\n",
      "Epoch 92/500\n",
      "960/960 [==============================] - 0s 102us/sample - loss: 0.0736 - accuracy: 0.9969 - val_loss: 0.0740 - val_accuracy: 1.0000\n",
      "Epoch 93/500\n",
      "960/960 [==============================] - 0s 106us/sample - loss: 0.0723 - accuracy: 1.0000 - val_loss: 0.0728 - val_accuracy: 1.0000\n",
      "Epoch 94/500\n",
      "960/960 [==============================] - 0s 108us/sample - loss: 0.0710 - accuracy: 1.0000 - val_loss: 0.0715 - val_accuracy: 1.0000\n",
      "Epoch 95/500\n",
      "960/960 [==============================] - 0s 98us/sample - loss: 0.0698 - accuracy: 1.0000 - val_loss: 0.0704 - val_accuracy: 1.0000\n",
      "Epoch 96/500\n",
      "960/960 [==============================] - 0s 101us/sample - loss: 0.0685 - accuracy: 1.0000 - val_loss: 0.0690 - val_accuracy: 1.0000\n",
      "Epoch 97/500\n",
      "960/960 [==============================] - 0s 93us/sample - loss: 0.0672 - accuracy: 1.0000 - val_loss: 0.0679 - val_accuracy: 1.0000\n",
      "Epoch 98/500\n",
      "960/960 [==============================] - 0s 106us/sample - loss: 0.0661 - accuracy: 1.0000 - val_loss: 0.0667 - val_accuracy: 1.0000\n",
      "Epoch 99/500\n",
      "960/960 [==============================] - 0s 82us/sample - loss: 0.0649 - accuracy: 1.0000 - val_loss: 0.0654 - val_accuracy: 1.0000\n",
      "Epoch 100/500\n",
      "960/960 [==============================] - 0s 85us/sample - loss: 0.0638 - accuracy: 1.0000 - val_loss: 0.0646 - val_accuracy: 1.0000\n",
      "Epoch 101/500\n",
      "960/960 [==============================] - 0s 96us/sample - loss: 0.0626 - accuracy: 1.0000 - val_loss: 0.0633 - val_accuracy: 1.0000\n",
      "Epoch 102/500\n",
      "960/960 [==============================] - 0s 95us/sample - loss: 0.0615 - accuracy: 1.0000 - val_loss: 0.0623 - val_accuracy: 1.0000\n",
      "Epoch 103/500\n",
      "960/960 [==============================] - 0s 116us/sample - loss: 0.0605 - accuracy: 1.0000 - val_loss: 0.0614 - val_accuracy: 1.0000\n",
      "Epoch 104/500\n",
      "960/960 [==============================] - 0s 105us/sample - loss: 0.0594 - accuracy: 1.0000 - val_loss: 0.0601 - val_accuracy: 1.0000\n",
      "Epoch 105/500\n",
      "960/960 [==============================] - 0s 121us/sample - loss: 0.0584 - accuracy: 1.0000 - val_loss: 0.0593 - val_accuracy: 1.0000\n",
      "Epoch 106/500\n",
      "960/960 [==============================] - 0s 102us/sample - loss: 0.0574 - accuracy: 1.0000 - val_loss: 0.0582 - val_accuracy: 1.0000\n",
      "Epoch 107/500\n",
      "960/960 [==============================] - 0s 84us/sample - loss: 0.0564 - accuracy: 1.0000 - val_loss: 0.0571 - val_accuracy: 1.0000\n",
      "Epoch 108/500\n",
      "960/960 [==============================] - 0s 84us/sample - loss: 0.0554 - accuracy: 1.0000 - val_loss: 0.0563 - val_accuracy: 1.0000\n",
      "Epoch 109/500\n",
      "960/960 [==============================] - 0s 86us/sample - loss: 0.0545 - accuracy: 1.0000 - val_loss: 0.0552 - val_accuracy: 1.0000\n",
      "Epoch 110/500\n",
      "960/960 [==============================] - 0s 82us/sample - loss: 0.0536 - accuracy: 1.0000 - val_loss: 0.0544 - val_accuracy: 1.0000\n",
      "Epoch 111/500\n",
      "960/960 [==============================] - 0s 82us/sample - loss: 0.0527 - accuracy: 1.0000 - val_loss: 0.0536 - val_accuracy: 1.0000\n",
      "Epoch 112/500\n",
      "960/960 [==============================] - 0s 82us/sample - loss: 0.0518 - accuracy: 1.0000 - val_loss: 0.0527 - val_accuracy: 1.0000\n",
      "Epoch 113/500\n",
      "960/960 [==============================] - 0s 101us/sample - loss: 0.0510 - accuracy: 1.0000 - val_loss: 0.0517 - val_accuracy: 1.0000\n",
      "Epoch 114/500\n",
      "960/960 [==============================] - 0s 106us/sample - loss: 0.0501 - accuracy: 1.0000 - val_loss: 0.0510 - val_accuracy: 1.0000\n",
      "Epoch 115/500\n",
      "960/960 [==============================] - 0s 136us/sample - loss: 0.0493 - accuracy: 1.0000 - val_loss: 0.0500 - val_accuracy: 1.0000\n",
      "Epoch 116/500\n",
      "960/960 [==============================] - 0s 104us/sample - loss: 0.0485 - accuracy: 1.0000 - val_loss: 0.0493 - val_accuracy: 1.0000\n",
      "Epoch 117/500\n",
      "960/960 [==============================] - 0s 117us/sample - loss: 0.0477 - accuracy: 1.0000 - val_loss: 0.0484 - val_accuracy: 1.0000\n",
      "Epoch 118/500\n",
      "960/960 [==============================] - 0s 79us/sample - loss: 0.0469 - accuracy: 1.0000 - val_loss: 0.0478 - val_accuracy: 1.0000\n",
      "Epoch 119/500\n",
      "960/960 [==============================] - 0s 83us/sample - loss: 0.0461 - accuracy: 1.0000 - val_loss: 0.0470 - val_accuracy: 1.0000\n",
      "Epoch 120/500\n",
      "960/960 [==============================] - 0s 83us/sample - loss: 0.0454 - accuracy: 1.0000 - val_loss: 0.0462 - val_accuracy: 1.0000\n",
      "Epoch 121/500\n",
      "960/960 [==============================] - 0s 100us/sample - loss: 0.0446 - accuracy: 1.0000 - val_loss: 0.0455 - val_accuracy: 1.0000\n",
      "Epoch 122/500\n",
      "960/960 [==============================] - 0s 97us/sample - loss: 0.0439 - accuracy: 1.0000 - val_loss: 0.0447 - val_accuracy: 1.0000\n",
      "Epoch 123/500\n",
      "960/960 [==============================] - 0s 94us/sample - loss: 0.0432 - accuracy: 1.0000 - val_loss: 0.0440 - val_accuracy: 1.0000\n",
      "Epoch 124/500\n",
      "960/960 [==============================] - 0s 95us/sample - loss: 0.0425 - accuracy: 1.0000 - val_loss: 0.0433 - val_accuracy: 1.0000\n",
      "Epoch 125/500\n",
      "960/960 [==============================] - 0s 82us/sample - loss: 0.0419 - accuracy: 1.0000 - val_loss: 0.0427 - val_accuracy: 1.0000\n",
      "Epoch 126/500\n",
      "960/960 [==============================] - 0s 80us/sample - loss: 0.0412 - accuracy: 1.0000 - val_loss: 0.0419 - val_accuracy: 1.0000\n",
      "Epoch 127/500\n",
      "960/960 [==============================] - 0s 103us/sample - loss: 0.0406 - accuracy: 1.0000 - val_loss: 0.0413 - val_accuracy: 1.0000\n",
      "Epoch 128/500\n",
      "960/960 [==============================] - 0s 118us/sample - loss: 0.0399 - accuracy: 1.0000 - val_loss: 0.0406 - val_accuracy: 1.0000\n",
      "Epoch 129/500\n",
      "960/960 [==============================] - 0s 110us/sample - loss: 0.0392 - accuracy: 1.0000 - val_loss: 0.0400 - val_accuracy: 1.0000\n",
      "Epoch 130/500\n",
      "960/960 [==============================] - 0s 105us/sample - loss: 0.0386 - accuracy: 1.0000 - val_loss: 0.0394 - val_accuracy: 1.0000\n",
      "Epoch 131/500\n",
      "960/960 [==============================] - 0s 101us/sample - loss: 0.0381 - accuracy: 1.0000 - val_loss: 0.0388 - val_accuracy: 1.0000\n",
      "Epoch 132/500\n",
      "960/960 [==============================] - 0s 100us/sample - loss: 0.0374 - accuracy: 1.0000 - val_loss: 0.0382 - val_accuracy: 1.0000\n",
      "Epoch 133/500\n",
      "960/960 [==============================] - 0s 103us/sample - loss: 0.0369 - accuracy: 1.0000 - val_loss: 0.0375 - val_accuracy: 1.0000\n",
      "Epoch 134/500\n",
      "960/960 [==============================] - 0s 103us/sample - loss: 0.0363 - accuracy: 1.0000 - val_loss: 0.0370 - val_accuracy: 1.0000\n",
      "Epoch 135/500\n",
      "960/960 [==============================] - 0s 101us/sample - loss: 0.0357 - accuracy: 1.0000 - val_loss: 0.0364 - val_accuracy: 1.0000\n",
      "Epoch 136/500\n",
      "960/960 [==============================] - 0s 104us/sample - loss: 0.0352 - accuracy: 1.0000 - val_loss: 0.0359 - val_accuracy: 1.0000\n",
      "Epoch 137/500\n",
      "960/960 [==============================] - 0s 106us/sample - loss: 0.0347 - accuracy: 1.0000 - val_loss: 0.0353 - val_accuracy: 1.0000\n",
      "Epoch 138/500\n",
      "960/960 [==============================] - 0s 97us/sample - loss: 0.0341 - accuracy: 1.0000 - val_loss: 0.0348 - val_accuracy: 1.0000\n",
      "Epoch 139/500\n",
      "960/960 [==============================] - 0s 90us/sample - loss: 0.0336 - accuracy: 1.0000 - val_loss: 0.0343 - val_accuracy: 1.0000\n",
      "Epoch 140/500\n",
      "960/960 [==============================] - 0s 97us/sample - loss: 0.0331 - accuracy: 1.0000 - val_loss: 0.0338 - val_accuracy: 1.0000\n",
      "Epoch 141/500\n",
      "960/960 [==============================] - 0s 93us/sample - loss: 0.0326 - accuracy: 1.0000 - val_loss: 0.0331 - val_accuracy: 1.0000\n",
      "Epoch 142/500\n",
      "960/960 [==============================] - 0s 100us/sample - loss: 0.0322 - accuracy: 1.0000 - val_loss: 0.0327 - val_accuracy: 1.0000\n",
      "Epoch 143/500\n",
      "960/960 [==============================] - 0s 93us/sample - loss: 0.0316 - accuracy: 1.0000 - val_loss: 0.0322 - val_accuracy: 1.0000\n",
      "Epoch 144/500\n",
      "960/960 [==============================] - 0s 86us/sample - loss: 0.0311 - accuracy: 1.0000 - val_loss: 0.0316 - val_accuracy: 1.0000\n",
      "Epoch 145/500\n",
      "960/960 [==============================] - 0s 112us/sample - loss: 0.0307 - accuracy: 1.0000 - val_loss: 0.0312 - val_accuracy: 1.0000\n",
      "Epoch 146/500\n",
      "960/960 [==============================] - 0s 94us/sample - loss: 0.0303 - accuracy: 1.0000 - val_loss: 0.0308 - val_accuracy: 1.0000\n",
      "Epoch 147/500\n",
      "960/960 [==============================] - 0s 104us/sample - loss: 0.0298 - accuracy: 1.0000 - val_loss: 0.0303 - val_accuracy: 1.0000\n",
      "Epoch 148/500\n",
      "960/960 [==============================] - 0s 110us/sample - loss: 0.0293 - accuracy: 1.0000 - val_loss: 0.0298 - val_accuracy: 1.0000\n",
      "Epoch 149/500\n",
      "960/960 [==============================] - 0s 98us/sample - loss: 0.0289 - accuracy: 1.0000 - val_loss: 0.0293 - val_accuracy: 1.0000\n",
      "Epoch 150/500\n",
      "960/960 [==============================] - 0s 85us/sample - loss: 0.0285 - accuracy: 1.0000 - val_loss: 0.0289 - val_accuracy: 1.0000\n",
      "Epoch 151/500\n",
      "960/960 [==============================] - 0s 94us/sample - loss: 0.0281 - accuracy: 1.0000 - val_loss: 0.0286 - val_accuracy: 1.0000\n",
      "Epoch 152/500\n",
      "960/960 [==============================] - 0s 79us/sample - loss: 0.0276 - accuracy: 1.0000 - val_loss: 0.0281 - val_accuracy: 1.0000\n",
      "Epoch 153/500\n",
      "960/960 [==============================] - 0s 93us/sample - loss: 0.0272 - accuracy: 1.0000 - val_loss: 0.0277 - val_accuracy: 1.0000\n",
      "Epoch 154/500\n",
      "960/960 [==============================] - 0s 89us/sample - loss: 0.0268 - accuracy: 1.0000 - val_loss: 0.0272 - val_accuracy: 1.0000\n",
      "Epoch 155/500\n",
      "960/960 [==============================] - 0s 96us/sample - loss: 0.0265 - accuracy: 1.0000 - val_loss: 0.0269 - val_accuracy: 1.0000\n",
      "Epoch 156/500\n",
      "960/960 [==============================] - 0s 95us/sample - loss: 0.0261 - accuracy: 1.0000 - val_loss: 0.0265 - val_accuracy: 1.0000\n",
      "Epoch 157/500\n",
      "960/960 [==============================] - 0s 107us/sample - loss: 0.0257 - accuracy: 1.0000 - val_loss: 0.0261 - val_accuracy: 1.0000\n",
      "Epoch 158/500\n",
      "960/960 [==============================] - 0s 115us/sample - loss: 0.0253 - accuracy: 1.0000 - val_loss: 0.0257 - val_accuracy: 1.0000\n",
      "Epoch 159/500\n",
      "960/960 [==============================] - 0s 110us/sample - loss: 0.0250 - accuracy: 1.0000 - val_loss: 0.0253 - val_accuracy: 1.0000\n",
      "Epoch 160/500\n",
      "960/960 [==============================] - 0s 97us/sample - loss: 0.0246 - accuracy: 1.0000 - val_loss: 0.0250 - val_accuracy: 1.0000\n",
      "Epoch 161/500\n",
      "960/960 [==============================] - 0s 119us/sample - loss: 0.0242 - accuracy: 1.0000 - val_loss: 0.0246 - val_accuracy: 1.0000\n",
      "Epoch 162/500\n",
      "960/960 [==============================] - 0s 104us/sample - loss: 0.0239 - accuracy: 1.0000 - val_loss: 0.0242 - val_accuracy: 1.0000\n",
      "Epoch 163/500\n",
      "960/960 [==============================] - 0s 99us/sample - loss: 0.0236 - accuracy: 1.0000 - val_loss: 0.0239 - val_accuracy: 1.0000\n",
      "Epoch 164/500\n",
      "960/960 [==============================] - 0s 106us/sample - loss: 0.0232 - accuracy: 1.0000 - val_loss: 0.0235 - val_accuracy: 1.0000\n",
      "Epoch 165/500\n",
      "960/960 [==============================] - 0s 115us/sample - loss: 0.0229 - accuracy: 1.0000 - val_loss: 0.0232 - val_accuracy: 1.0000\n",
      "Epoch 166/500\n",
      "960/960 [==============================] - 0s 105us/sample - loss: 0.0225 - accuracy: 1.0000 - val_loss: 0.0228 - val_accuracy: 1.0000\n",
      "Epoch 167/500\n",
      "960/960 [==============================] - 0s 100us/sample - loss: 0.0222 - accuracy: 1.0000 - val_loss: 0.0225 - val_accuracy: 1.0000\n",
      "Epoch 168/500\n",
      "960/960 [==============================] - 0s 100us/sample - loss: 0.0219 - accuracy: 1.0000 - val_loss: 0.0222 - val_accuracy: 1.0000\n",
      "Epoch 169/500\n",
      "960/960 [==============================] - 0s 112us/sample - loss: 0.0216 - accuracy: 1.0000 - val_loss: 0.0219 - val_accuracy: 1.0000\n",
      "Epoch 170/500\n",
      "960/960 [==============================] - 0s 121us/sample - loss: 0.0213 - accuracy: 1.0000 - val_loss: 0.0216 - val_accuracy: 1.0000\n"
     ]
    }
   ],
   "source": [
    "# Train defined model-\n",
    "history_orig = model.fit(\n",
    "    x = X_train, y = y_train,\n",
    "    batch_size = 32, epochs = 500,\n",
    "    validation_data = (X_test, y_test),\n",
    "    callbacks = [callback],\n",
    "    verbose = 1\n",
    ")\n"
   ]
  },
  {
   "cell_type": "code",
   "execution_count": null,
   "metadata": {},
   "outputs": [],
   "source": [
    "history_orig.history['val_loss']"
   ]
  },
  {
   "cell_type": "markdown",
   "metadata": {},
   "source": [
    "### Sanity Check: see whether _EarlyStopping_ is actually working:\n",
    "Using _patience_ of 3 and _min_delta_ = 0.001 while monitoring the _validation loss_ ('val_loss')"
   ]
  },
  {
   "cell_type": "code",
   "execution_count": 21,
   "metadata": {},
   "outputs": [],
   "source": [
    "# 'min_delta'-\n",
    "md = 0.001"
   ]
  },
  {
   "cell_type": "code",
   "execution_count": 22,
   "metadata": {},
   "outputs": [],
   "source": [
    "# Get the last three values-\n",
    "x = history_orig.history['val_loss'][-3:]"
   ]
  },
  {
   "cell_type": "code",
   "execution_count": 23,
   "metadata": {},
   "outputs": [
    {
     "name": "stdout",
     "output_type": "stream",
     "text": [
      "[0.022204587199878924, 0.021869326950710952, 0.021576166388045236]\n"
     ]
    }
   ],
   "source": [
    "print(x)"
   ]
  },
  {
   "cell_type": "code",
   "execution_count": 24,
   "metadata": {},
   "outputs": [
    {
     "data": {
      "text/plain": [
       "array([0.00033526, 0.00029316])"
      ]
     },
     "execution_count": 24,
     "metadata": {},
     "output_type": "execute_result"
    }
   ],
   "source": [
    "# Compute absolute consecutive difference between each subsequent elements-\n",
    "np.abs(np.diff(x, n = 1))"
   ]
  },
  {
   "cell_type": "code",
   "execution_count": 25,
   "metadata": {},
   "outputs": [
    {
     "data": {
      "text/plain": [
       "array([False, False])"
      ]
     },
     "execution_count": 25,
     "metadata": {},
     "output_type": "execute_result"
    }
   ],
   "source": [
    "# Check whether absolute consecutive differences between each subsequent elements\n",
    "# is greater than 'min_delta'-\n",
    "np.abs(np.diff(x, n = 1)) > md"
   ]
  },
  {
   "cell_type": "code",
   "execution_count": null,
   "metadata": {},
   "outputs": [],
   "source": []
  },
  {
   "cell_type": "code",
   "execution_count": 26,
   "metadata": {},
   "outputs": [
    {
     "data": {
      "image/png": "[encoded data removed]",
      "text/plain": [
       "<Figure size 800x720 with 1 Axes>"
      ]
     },
     "metadata": {},
     "output_type": "display_data"
    }
   ],
   "source": [
    "# Visualize training progress of neural network model-\n",
    "fig=plt.figure(figsize=(10, 9), dpi= 80, facecolor='w', edgecolor='k')\n",
    "\n",
    "plt.plot(history_orig.history['accuracy'], label = 'training accuracy')\n",
    "plt.plot(history_orig.history['val_accuracy'], label = 'testing accuracy')\n",
    "plt.plot(history_orig.history['loss'], label = 'training loss')\n",
    "plt.plot(history_orig.history['val_loss'], label = 'testing loss')\n",
    "\n",
    "plt.title(\"Training Visualization - Scalar Metrics\")\n",
    "plt.xlabel(\"number of epochs\")\n",
    "plt.ylabel(\"Accuracy/Loss\")\n",
    "plt.legend(loc = 'best')\n",
    "plt.show()\n"
   ]
  },
  {
   "cell_type": "markdown",
   "metadata": {},
   "source": [
    "### Now, use 'GradientTape' to train another instance of defined model-"
   ]
  },
  {
   "cell_type": "code",
   "execution_count": 27,
   "metadata": {},
   "outputs": [],
   "source": [
    "# Create datasets to be used for GradientTape-\n",
    "\n",
    "# Use tf.data to batch and shuffle the dataset\n",
    "train_ds = tf.data.Dataset.from_tensor_slices(\n",
    "    (X_train, y_train)).shuffle(32).batch(32)\n",
    "\n",
    "test_ds = tf.data.Dataset.from_tensor_slices(\n",
    "    (X_test, y_test)).shuffle(32).batch(32)\n"
   ]
  },
  {
   "cell_type": "code",
   "execution_count": 38,
   "metadata": {},
   "outputs": [],
   "source": [
    "del model_gt"
   ]
  },
  {
   "cell_type": "code",
   "execution_count": 39,
   "metadata": {},
   "outputs": [],
   "source": [
    "# Instantiate a model-\n",
    "model_gt = create_nn()"
   ]
  },
  {
   "cell_type": "code",
   "execution_count": 40,
   "metadata": {},
   "outputs": [],
   "source": [
    "# Restore random weights as used by the previous model for fair comparison-\n",
    "model_gt.load_weights(\"Random_Weights.h5\")"
   ]
  },
  {
   "cell_type": "code",
   "execution_count": 41,
   "metadata": {},
   "outputs": [],
   "source": [
    "# Choose an optimizer and loss function for training-\n",
    "loss_fn = tf.keras.losses.BinaryCrossentropy()\n",
    "optimizer = tf.keras.optimizers.Adam(lr = 0.001)"
   ]
  },
  {
   "cell_type": "code",
   "execution_count": 42,
   "metadata": {},
   "outputs": [],
   "source": [
    "# Select metrics to measure the error & accuracy of model.\n",
    "# These metrics accumulate the values over epochs and then\n",
    "# print the overall result-\n",
    "train_loss = tf.keras.metrics.Mean(name = 'train_loss')\n",
    "train_accuracy = tf.keras.metrics.BinaryAccuracy(name = 'train_accuracy')\n",
    "\n",
    "test_loss = tf.keras.metrics.Mean(name = 'test_loss')\n",
    "test_accuracy = tf.keras.metrics.BinaryAccuracy(name = 'train_accuracy')"
   ]
  },
  {
   "cell_type": "code",
   "execution_count": 43,
   "metadata": {},
   "outputs": [],
   "source": [
    "# Use tf.GradientTape to train the model-\n",
    "\n",
    "@tf.function\n",
    "def train_step(data, labels):\n",
    "    \"\"\"\n",
    "    Function to perform one step of Gradient\n",
    "    Descent optimization\n",
    "    \"\"\"\n",
    "\n",
    "    with tf.GradientTape() as tape:\n",
    "        predictions = model_gt(data)\n",
    "        loss = loss_fn(labels, predictions)\n",
    "\n",
    "    gradients = tape.gradient(loss, model_gt.trainable_variables)\n",
    "    optimizer.apply_gradients(zip(gradients, model_gt.trainable_variables))\n",
    "\n",
    "    train_loss(loss)\n",
    "    train_accuracy(labels, predictions)\n",
    "\n",
    "    "
   ]
  },
  {
   "cell_type": "code",
   "execution_count": 44,
   "metadata": {},
   "outputs": [],
   "source": [
    "@tf.function\n",
    "def test_step(data, labels):\n",
    "    \"\"\"\n",
    "    Function to test model performance\n",
    "    on testing dataset\n",
    "    \"\"\"\n",
    "    \n",
    "    predictions = model_gt(data)\n",
    "    t_loss = loss_fn(labels, predictions)\n",
    "\n",
    "    test_loss(t_loss)\n",
    "    test_accuracy(labels, predictions)\n"
   ]
  },
  {
   "cell_type": "code",
   "execution_count": 45,
   "metadata": {},
   "outputs": [],
   "source": [
    "EPOCHS = 500\n",
    "\n",
    "# User input-\n",
    "minimum_delta = 0.001\n",
    "patience = 3\n",
    "\n",
    "patience_val = np.zeros(patience)"
   ]
  },
  {
   "cell_type": "code",
   "execution_count": 46,
   "metadata": {},
   "outputs": [],
   "source": [
    "# Dictionary to hold scalar metrics-\n",
    "history = {}\n",
    "\n",
    "history['accuracy'] = np.zeros(EPOCHS)\n",
    "history['val_accuracy'] = np.zeros(EPOCHS)\n",
    "history['loss'] = np.zeros(EPOCHS)\n",
    "history['val_loss'] = np.zeros(EPOCHS)"
   ]
  },
  {
   "cell_type": "code",
   "execution_count": 47,
   "metadata": {},
   "outputs": [],
   "source": [
    "# To change all layers to have dtype float64 by default-\n",
    "tf.keras.backend.set_floatx('float64')"
   ]
  },
  {
   "cell_type": "markdown",
   "metadata": {},
   "source": [
    "### Logic behind manual _EarlyStopping_:\n",
    "_check = np.diff(history['val_loss'][epoch - 3:epoch], n = 1) > minimum_delta_ checks whether the absolute value of the consecutive differences between the last 3 epoch's _validation loss_ is more than _minimum delta_\n",
    "\n",
    "1. _Case - 1:_ If any of these absolute values of the consecutive differences is _greater than_ _min_delta_, then __keep training__\n",
    "\n",
    "1. _Case - 2_: If all of these absolute values of the consecutive differences is _less than_ _min_delta_, then __Stop training__"
   ]
  },
  {
   "cell_type": "code",
   "execution_count": 48,
   "metadata": {},
   "outputs": [
    {
     "name": "stdout",
     "output_type": "stream",
     "text": [
      "Epoch 1, Loss: 0.8801, Accuracy: 35.3125, Test Loss: 0.8143, Test Accuracy: 36.847527\n",
      "Epoch 2, Loss: 0.8075, Accuracy: 39.8958, Test Loss: 0.7646, Test Accuracy: 47.390110\n",
      "Epoch 3, Loss: 0.7594, Accuracy: 44.8958, Test Loss: 0.7319, Test Accuracy: 49.965659\n",
      "Epoch 4, Loss: 0.7267, Accuracy: 48.5417, Test Loss: 0.7080, Test Accuracy: 52.266484\n",
      "Epoch 5, Loss: 0.7027, Accuracy: 53.9583, Test Loss: 0.6905, Test Accuracy: 54.910714\n",
      "Epoch 6, Loss: 0.6850, Accuracy: 56.7708, Test Loss: 0.6780, Test Accuracy: 59.443681\n",
      "Epoch 7, Loss: 0.6727, Accuracy: 61.0417, Test Loss: 0.6699, Test Accuracy: 63.495879\n",
      "Epoch 8, Loss: 0.6638, Accuracy: 62.6042, Test Loss: 0.6639, Test Accuracy: 64.285714\n",
      "Epoch 9, Loss: 0.6569, Accuracy: 63.9583, Test Loss: 0.6598, Test Accuracy: 65.041209\n",
      "Epoch 10, Loss: 0.6510, Accuracy: 64.4792, Test Loss: 0.6556, Test Accuracy: 65.315934\n",
      "Epoch 11, Loss: 0.6458, Accuracy: 65.3125, Test Loss: 0.6514, Test Accuracy: 66.037088\n",
      "Epoch 12, Loss: 0.6408, Accuracy: 65.8333, Test Loss: 0.6470, Test Accuracy: 66.208791\n",
      "Epoch 13, Loss: 0.6355, Accuracy: 67.0833, Test Loss: 0.6413, Test Accuracy: 67.719780\n",
      "Epoch 14, Loss: 0.6295, Accuracy: 67.7083, Test Loss: 0.6352, Test Accuracy: 67.719780\n",
      "Epoch 15, Loss: 0.6226, Accuracy: 68.8542, Test Loss: 0.6272, Test Accuracy: 68.475275\n",
      "Epoch 16, Loss: 0.6138, Accuracy: 70.0000, Test Loss: 0.6165, Test Accuracy: 69.848901\n",
      "Epoch 17, Loss: 0.6028, Accuracy: 71.7708, Test Loss: 0.6038, Test Accuracy: 71.875000\n",
      "Epoch 18, Loss: 0.5905, Accuracy: 72.9167, Test Loss: 0.5900, Test Accuracy: 73.626374\n",
      "Epoch 19, Loss: 0.5769, Accuracy: 75.0000, Test Loss: 0.5756, Test Accuracy: 75.377747\n",
      "Epoch 20, Loss: 0.5619, Accuracy: 78.5417, Test Loss: 0.5589, Test Accuracy: 80.528846\n",
      "Epoch 21, Loss: 0.5449, Accuracy: 83.4375, Test Loss: 0.5389, Test Accuracy: 88.701923\n",
      "Epoch 22, Loss: 0.5243, Accuracy: 91.7708, Test Loss: 0.5138, Test Accuracy: 93.681319\n",
      "Epoch 23, Loss: 0.4978, Accuracy: 92.8125, Test Loss: 0.4837, Test Accuracy: 93.681319\n",
      "Epoch 24, Loss: 0.4690, Accuracy: 93.1250, Test Loss: 0.4548, Test Accuracy: 94.127747\n",
      "Epoch 25, Loss: 0.4415, Accuracy: 93.6458, Test Loss: 0.4276, Test Accuracy: 94.196429\n",
      "Epoch 26, Loss: 0.4160, Accuracy: 93.9583, Test Loss: 0.4031, Test Accuracy: 94.814560\n",
      "Epoch 27, Loss: 0.3926, Accuracy: 94.2708, Test Loss: 0.3805, Test Accuracy: 95.879121\n",
      "Epoch 28, Loss: 0.3718, Accuracy: 95.0000, Test Loss: 0.3606, Test Accuracy: 95.879121\n",
      "Epoch 29, Loss: 0.3531, Accuracy: 95.1042, Test Loss: 0.3430, Test Accuracy: 96.050824\n",
      "Epoch 30, Loss: 0.3363, Accuracy: 95.9375, Test Loss: 0.3269, Test Accuracy: 96.119505\n",
      "Epoch 31, Loss: 0.3214, Accuracy: 96.5625, Test Loss: 0.3122, Test Accuracy: 96.119505\n",
      "Epoch 32, Loss: 0.3079, Accuracy: 96.5625, Test Loss: 0.3002, Test Accuracy: 96.291209\n",
      "Epoch 33, Loss: 0.2956, Accuracy: 96.5625, Test Loss: 0.2886, Test Accuracy: 96.737637\n",
      "Epoch 34, Loss: 0.2843, Accuracy: 96.6667, Test Loss: 0.2777, Test Accuracy: 97.287088\n",
      "Epoch 35, Loss: 0.2740, Accuracy: 96.8750, Test Loss: 0.2676, Test Accuracy: 97.321429\n",
      "Epoch 36, Loss: 0.2643, Accuracy: 97.1875, Test Loss: 0.2585, Test Accuracy: 97.321429\n",
      "Epoch 37, Loss: 0.2554, Accuracy: 97.2917, Test Loss: 0.2500, Test Accuracy: 97.561813\n",
      "Epoch 38, Loss: 0.2471, Accuracy: 97.5000, Test Loss: 0.2421, Test Accuracy: 97.561813\n",
      "Epoch 39, Loss: 0.2393, Accuracy: 97.5000, Test Loss: 0.2347, Test Accuracy: 97.561813\n",
      "Epoch 40, Loss: 0.2321, Accuracy: 97.5000, Test Loss: 0.2280, Test Accuracy: 97.767857\n",
      "Epoch 41, Loss: 0.2253, Accuracy: 97.5000, Test Loss: 0.2209, Test Accuracy: 98.282967\n",
      "Epoch 42, Loss: 0.2188, Accuracy: 97.6042, Test Loss: 0.2151, Test Accuracy: 98.282967\n",
      "Epoch 43, Loss: 0.2126, Accuracy: 97.7083, Test Loss: 0.2092, Test Accuracy: 98.489011\n",
      "Epoch 44, Loss: 0.2068, Accuracy: 97.8125, Test Loss: 0.2030, Test Accuracy: 98.557692\n",
      "Epoch 45, Loss: 0.2012, Accuracy: 97.8125, Test Loss: 0.1976, Test Accuracy: 98.557692\n",
      "Epoch 46, Loss: 0.1958, Accuracy: 97.8125, Test Loss: 0.1925, Test Accuracy: 98.557692\n",
      "Epoch 47, Loss: 0.1908, Accuracy: 97.9167, Test Loss: 0.1880, Test Accuracy: 98.523352\n",
      "Epoch 48, Loss: 0.1859, Accuracy: 98.3333, Test Loss: 0.1831, Test Accuracy: 98.523352\n",
      "Epoch 49, Loss: 0.1812, Accuracy: 98.8542, Test Loss: 0.1784, Test Accuracy: 98.557692\n",
      "Epoch 50, Loss: 0.1767, Accuracy: 98.8542, Test Loss: 0.1739, Test Accuracy: 98.557692\n",
      "Epoch 51, Loss: 0.1724, Accuracy: 98.8542, Test Loss: 0.1694, Test Accuracy: 98.557692\n",
      "Epoch 52, Loss: 0.1682, Accuracy: 98.8542, Test Loss: 0.1653, Test Accuracy: 98.557692\n",
      "Epoch 53, Loss: 0.1641, Accuracy: 98.8542, Test Loss: 0.1619, Test Accuracy: 98.523352\n",
      "Epoch 54, Loss: 0.1603, Accuracy: 98.8542, Test Loss: 0.1581, Test Accuracy: 99.244505\n",
      "Epoch 55, Loss: 0.1565, Accuracy: 99.0625, Test Loss: 0.1538, Test Accuracy: 99.278846\n",
      "Epoch 56, Loss: 0.1529, Accuracy: 99.0625, Test Loss: 0.1504, Test Accuracy: 99.278846\n",
      "Epoch 57, Loss: 0.1494, Accuracy: 99.0625, Test Loss: 0.1471, Test Accuracy: 99.244505\n",
      "Epoch 58, Loss: 0.1460, Accuracy: 99.0625, Test Loss: 0.1439, Test Accuracy: 99.278846\n",
      "Epoch 59, Loss: 0.1427, Accuracy: 99.1667, Test Loss: 0.1404, Test Accuracy: 99.278846\n",
      "Epoch 60, Loss: 0.1395, Accuracy: 99.1667, Test Loss: 0.1374, Test Accuracy: 99.278846\n",
      "Epoch 61, Loss: 0.1365, Accuracy: 99.1667, Test Loss: 0.1347, Test Accuracy: 99.725275\n",
      "Epoch 62, Loss: 0.1335, Accuracy: 99.4792, Test Loss: 0.1316, Test Accuracy: 99.725275\n",
      "Epoch 63, Loss: 0.1306, Accuracy: 99.4792, Test Loss: 0.1291, Test Accuracy: 99.725275\n",
      "Epoch 64, Loss: 0.1278, Accuracy: 99.4792, Test Loss: 0.1262, Test Accuracy: 100.000000\n",
      "Epoch 65, Loss: 0.1251, Accuracy: 99.6875, Test Loss: 0.1236, Test Accuracy: 100.000000\n",
      "Epoch 66, Loss: 0.1224, Accuracy: 99.6875, Test Loss: 0.1211, Test Accuracy: 100.000000\n",
      "Epoch 67, Loss: 0.1198, Accuracy: 99.6875, Test Loss: 0.1186, Test Accuracy: 100.000000\n",
      "Epoch 68, Loss: 0.1173, Accuracy: 99.6875, Test Loss: 0.1161, Test Accuracy: 100.000000\n",
      "Epoch 69, Loss: 0.1148, Accuracy: 99.6875, Test Loss: 0.1138, Test Accuracy: 100.000000\n",
      "Epoch 70, Loss: 0.1124, Accuracy: 99.6875, Test Loss: 0.1116, Test Accuracy: 100.000000\n",
      "Epoch 71, Loss: 0.1101, Accuracy: 99.6875, Test Loss: 0.1096, Test Accuracy: 100.000000\n",
      "Epoch 72, Loss: 0.1079, Accuracy: 99.6875, Test Loss: 0.1069, Test Accuracy: 100.000000\n",
      "Epoch 73, Loss: 0.1057, Accuracy: 99.6875, Test Loss: 0.1049, Test Accuracy: 100.000000\n",
      "Epoch 74, Loss: 0.1036, Accuracy: 99.6875, Test Loss: 0.1029, Test Accuracy: 100.000000\n",
      "Epoch 75, Loss: 0.1015, Accuracy: 99.6875, Test Loss: 0.1006, Test Accuracy: 100.000000\n",
      "Epoch 76, Loss: 0.0994, Accuracy: 99.6875, Test Loss: 0.0991, Test Accuracy: 100.000000\n",
      "Epoch 77, Loss: 0.0975, Accuracy: 99.6875, Test Loss: 0.0968, Test Accuracy: 100.000000\n",
      "Epoch 78, Loss: 0.0955, Accuracy: 99.6875, Test Loss: 0.0950, Test Accuracy: 100.000000\n",
      "Epoch 79, Loss: 0.0937, Accuracy: 99.6875, Test Loss: 0.0933, Test Accuracy: 100.000000\n",
      "Epoch 80, Loss: 0.0918, Accuracy: 99.6875, Test Loss: 0.0915, Test Accuracy: 100.000000\n",
      "Epoch 81, Loss: 0.0900, Accuracy: 99.6875, Test Loss: 0.0900, Test Accuracy: 100.000000\n",
      "Epoch 82, Loss: 0.0883, Accuracy: 99.6875, Test Loss: 0.0882, Test Accuracy: 100.000000\n",
      "Epoch 83, Loss: 0.0866, Accuracy: 99.6875, Test Loss: 0.0866, Test Accuracy: 100.000000\n",
      "Epoch 84, Loss: 0.0850, Accuracy: 99.6875, Test Loss: 0.0849, Test Accuracy: 100.000000\n",
      "Epoch 85, Loss: 0.0834, Accuracy: 99.6875, Test Loss: 0.0835, Test Accuracy: 100.000000\n",
      "Epoch 86, Loss: 0.0819, Accuracy: 99.6875, Test Loss: 0.0821, Test Accuracy: 100.000000\n",
      "Epoch 87, Loss: 0.0803, Accuracy: 99.6875, Test Loss: 0.0804, Test Accuracy: 100.000000\n",
      "Epoch 88, Loss: 0.0788, Accuracy: 99.6875, Test Loss: 0.0791, Test Accuracy: 100.000000\n",
      "Epoch 89, Loss: 0.0773, Accuracy: 99.6875, Test Loss: 0.0777, Test Accuracy: 100.000000\n",
      "Epoch 90, Loss: 0.0759, Accuracy: 99.6875, Test Loss: 0.0761, Test Accuracy: 100.000000\n",
      "Epoch 91, Loss: 0.0746, Accuracy: 99.6875, Test Loss: 0.0749, Test Accuracy: 100.000000\n",
      "Epoch 92, Loss: 0.0732, Accuracy: 99.6875, Test Loss: 0.0735, Test Accuracy: 100.000000\n",
      "Epoch 93, Loss: 0.0719, Accuracy: 100.0000, Test Loss: 0.0722, Test Accuracy: 100.000000\n",
      "Epoch 94, Loss: 0.0706, Accuracy: 100.0000, Test Loss: 0.0710, Test Accuracy: 100.000000\n",
      "Epoch 95, Loss: 0.0693, Accuracy: 100.0000, Test Loss: 0.0698, Test Accuracy: 100.000000\n",
      "Epoch 96, Loss: 0.0681, Accuracy: 100.0000, Test Loss: 0.0687, Test Accuracy: 100.000000\n",
      "Epoch 97, Loss: 0.0668, Accuracy: 100.0000, Test Loss: 0.0674, Test Accuracy: 100.000000\n",
      "Epoch 98, Loss: 0.0656, Accuracy: 100.0000, Test Loss: 0.0662, Test Accuracy: 100.000000\n",
      "Epoch 99, Loss: 0.0645, Accuracy: 100.0000, Test Loss: 0.0652, Test Accuracy: 100.000000\n",
      "Epoch 100, Loss: 0.0634, Accuracy: 100.0000, Test Loss: 0.0641, Test Accuracy: 100.000000\n",
      "Epoch 101, Loss: 0.0622, Accuracy: 100.0000, Test Loss: 0.0631, Test Accuracy: 100.000000\n",
      "Epoch 102, Loss: 0.0611, Accuracy: 100.0000, Test Loss: 0.0618, Test Accuracy: 100.000000\n",
      "Epoch 103, Loss: 0.0601, Accuracy: 100.0000, Test Loss: 0.0609, Test Accuracy: 100.000000\n",
      "Epoch 104, Loss: 0.0590, Accuracy: 100.0000, Test Loss: 0.0598, Test Accuracy: 100.000000\n",
      "Epoch 105, Loss: 0.0580, Accuracy: 100.0000, Test Loss: 0.0588, Test Accuracy: 100.000000\n",
      "Epoch 106, Loss: 0.0570, Accuracy: 100.0000, Test Loss: 0.0578, Test Accuracy: 100.000000\n",
      "Epoch 107, Loss: 0.0560, Accuracy: 100.0000, Test Loss: 0.0568, Test Accuracy: 100.000000\n",
      "\n",
      "\n",
      "EarlyStopping Evoked! Stopping training\n",
      "\n",
      "\n"
     ]
    }
   ],
   "source": [
    "for epoch in range(EPOCHS):\n",
    "    # Reset the metrics at the start of the next epoch\n",
    "    train_loss.reset_states()\n",
    "    train_accuracy.reset_states()\n",
    "    test_loss.reset_states()\n",
    "    test_accuracy.reset_states()\n",
    "\n",
    "    for x, y in train_ds:\n",
    "        train_step(x, y)\n",
    "\n",
    "    for x_t, y_t in test_ds:\n",
    "        test_step(x_t, y_t)\n",
    "\n",
    "    template = 'Epoch {0}, Loss: {1:.4f}, Accuracy: {2:.4f}, Test Loss: {3:.4f}, Test Accuracy: {4:4f}'\n",
    "\n",
    "    history['accuracy'][epoch] = train_accuracy.result()\n",
    "    history['loss'][epoch] = train_loss.result()\n",
    "    history['val_loss'][epoch] = test_loss.result()\n",
    "    history['val_accuracy'][epoch] = test_accuracy.result()\n",
    "\n",
    "    print(template.format(epoch + 1, \n",
    "                          train_loss.result(), train_accuracy.result()*100,\n",
    "                          test_loss.result(), test_accuracy.result()*100))\n",
    "\n",
    "    if epoch > 2:\n",
    "        # Computes absolute differences between 3 consecutive loss values-\n",
    "        differences = np.abs(np.diff(history['val_loss'][epoch - 3:epoch], n = 1))\n",
    "        \n",
    "        # Checks whether the absolute differences is greater than 'minimum_delta'-\n",
    "        check =  differences > minimum_delta\n",
    "        \n",
    "        # print('differences: {0}'.format(differences))\n",
    "        \n",
    "        # Count unique element with it's counts-\n",
    "        # elem, count = np.unique(check, return_counts=True)\n",
    "        # print('\\nelem = {0}, count = {1}'.format(elem, count))\n",
    "        \n",
    "        if np.all(check == False):\n",
    "        # if elem.all() == False and count == 2:\n",
    "            print(\"\\n\\nEarlyStopping Evoked! Stopping training\\n\\n\")\n",
    "            break\n",
    "\n"
   ]
  },
  {
   "cell_type": "markdown",
   "metadata": {},
   "source": [
    "### Sanity check:"
   ]
  },
  {
   "cell_type": "code",
   "execution_count": 50,
   "metadata": {},
   "outputs": [
    {
     "data": {
      "text/plain": [
       "array([0.05881222, 0.05781347, 0.05680743])"
      ]
     },
     "execution_count": 50,
     "metadata": {},
     "output_type": "execute_result"
    }
   ],
   "source": [
    "history['val_loss'][104:107]"
   ]
  },
  {
   "cell_type": "code",
   "execution_count": 51,
   "metadata": {},
   "outputs": [
    {
     "data": {
      "text/plain": [
       "array([False,  True])"
      ]
     },
     "execution_count": 51,
     "metadata": {},
     "output_type": "execute_result"
    }
   ],
   "source": [
    "np.abs(np.diff(history['val_loss'][104:107], n = 1)) > md"
   ]
  },
  {
   "cell_type": "code",
   "execution_count": null,
   "metadata": {},
   "outputs": [],
   "source": []
  },
  {
   "cell_type": "markdown",
   "metadata": {},
   "source": [
    "### Observations:\n",
    "1.) Using GradientTape-\n",
    "Epoch 107, Loss: 0.0560, Accuracy: 100.0000, Test Loss: 0.0568, Test Accuracy: 100.000000\n",
    "\n",
    "\n",
    "2.) Using model.fit()-\n",
    "Epoch 170/500\n",
    "960/960 [==============================] - 0s 121us/sample - loss: 0.0213 - accuracy: 1.0000 - val_loss: 0.0216 - val_accuracy: 1.0000"
   ]
  },
  {
   "cell_type": "code",
   "execution_count": null,
   "metadata": {},
   "outputs": [],
   "source": []
  },
  {
   "cell_type": "markdown",
   "metadata": {},
   "source": [
    "### _GradientTape_:\n",
    "One _epoch_ goes through all of the 960 samples or training data in training dataset. And also through all of the 412 testing data in testing dataset.\n",
    "\n",
    "Sanity check is below-"
   ]
  },
  {
   "cell_type": "code",
   "execution_count": 53,
   "metadata": {},
   "outputs": [],
   "source": [
    "# Count number of samples or training data points in training dataset-\n",
    "c = 0\n",
    "\n",
    "for x, y in train_ds:\n",
    "    c += x.shape[0]"
   ]
  },
  {
   "cell_type": "code",
   "execution_count": 54,
   "metadata": {},
   "outputs": [
    {
     "data": {
      "text/plain": [
       "960"
      ]
     },
     "execution_count": 54,
     "metadata": {},
     "output_type": "execute_result"
    }
   ],
   "source": [
    "c"
   ]
  },
  {
   "cell_type": "code",
   "execution_count": 55,
   "metadata": {},
   "outputs": [],
   "source": [
    "# Count number of samples or testing data points in testing dataset-\n",
    "c = 0\n",
    "\n",
    "for x, y in test_ds:\n",
    "    c += x.shape[0]"
   ]
  },
  {
   "cell_type": "code",
   "execution_count": 56,
   "metadata": {},
   "outputs": [
    {
     "data": {
      "text/plain": [
       "412"
      ]
     },
     "execution_count": 56,
     "metadata": {},
     "output_type": "execute_result"
    }
   ],
   "source": [
    "c"
   ]
  },
  {
   "cell_type": "code",
   "execution_count": null,
   "metadata": {},
   "outputs": [],
   "source": []
  },
  {
   "cell_type": "code",
   "execution_count": null,
   "metadata": {},
   "outputs": [],
   "source": []
  }
 ],
 "metadata": {
  "kernelspec": {
   "display_name": "Python 3",
   "language": "python",
   "name": "python3"
  },
  "language_info": {
   "codemirror_mode": {
    "name": "ipython",
    "version": 3
   },
   "file_extension": ".py",
   "mimetype": "text/x-python",
   "name": "python",
   "nbconvert_exporter": "python",
   "pygments_lexer": "ipython3",
   "version": "3.7.6"
  }
 },
 "nbformat": 4,
 "nbformat_minor": 4
}
