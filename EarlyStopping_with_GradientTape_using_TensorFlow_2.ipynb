{
 "cells": [
  {
   "cell_type": "markdown",
   "metadata": {},
   "source": [
    "# Using _EarlyStopping_ with _GradientTape_ in _TensorFlow 2.0_"
   ]
  },
  {
   "cell_type": "code",
   "execution_count": 1,
   "metadata": {},
   "outputs": [],
   "source": [
    "import pandas as pd, numpy as np\n",
    "import matplotlib.pyplot as plt\n",
    "import seaborn as sns\n",
    "from sklearn.model_selection import train_test_split\n",
    "from sklearn.preprocessing import StandardScaler, MinMaxScaler, RobustScaler\n",
    "from sklearn.preprocessing import LabelEncoder\n",
    "from sklearn.metrics import accuracy_score, precision_score, recall_score, confusion_matrix\n",
    "\n",
    "# from keras.models import Sequential\n",
    "# from keras.layers import Dense\n",
    "import tensorflow as tf\n",
    "from tensorflow.keras.models import Sequential\n",
    "from tensorflow.keras.layers import Dense\n",
    "import tensorflow_model_optimization as tfmot\n",
    "from tensorflow_model_optimization.sparsity import keras as sparsity"
   ]
  },
  {
   "cell_type": "markdown",
   "metadata": {},
   "source": [
    "### Brief introduction about dataset:\n",
    "\n",
    "_banknote authentication_ Data Set\n",
    "\n",
    "Refer:\n",
    "\n",
    "http://archive.ics.uci.edu/ml/datasets/banknote+authentication\n",
    "\n",
    "\n",
    "You have to predict _class_ attribute"
   ]
  },
  {
   "cell_type": "code",
   "execution_count": 2,
   "metadata": {},
   "outputs": [],
   "source": [
    "# Assign column names to dataset-\n",
    "colnames = ['variance-wavelet_transformed_img', 'skewness-wavelet_transformed_img',\n",
    "            'curtosis-wavelet_transformed_img', 'entropy-img', 'class']"
   ]
  },
  {
   "cell_type": "code",
   "execution_count": 3,
   "metadata": {},
   "outputs": [],
   "source": [
    "# Read in data-\n",
    "banknote_data = pd.read_csv(\"data_banknote_authentication.txt\", names = colnames)"
   ]
  },
  {
   "cell_type": "code",
   "execution_count": 4,
   "metadata": {},
   "outputs": [
    {
     "data": {
      "text/plain": [
       "(1372, 5)"
      ]
     },
     "execution_count": 4,
     "metadata": {},
     "output_type": "execute_result"
    }
   ],
   "source": [
    "# Get shape/dimension of data-\n",
    "banknote_data.shape"
   ]
  },
  {
   "cell_type": "code",
   "execution_count": 5,
   "metadata": {},
   "outputs": [
    {
     "data": {
      "text/plain": [
       "False"
      ]
     },
     "execution_count": 5,
     "metadata": {},
     "output_type": "execute_result"
    }
   ],
   "source": [
    "# Check for missing values in dataset-\n",
    "# Get columns with True/False containing NAs-\n",
    "banknote_data.isnull().values.any()"
   ]
  },
  {
   "cell_type": "code",
   "execution_count": 6,
   "metadata": {},
   "outputs": [
    {
     "data": {
      "text/plain": [
       "0    762\n",
       "1    610\n",
       "Name: class, dtype: int64"
      ]
     },
     "execution_count": 6,
     "metadata": {},
     "output_type": "execute_result"
    }
   ],
   "source": [
    "# Get distribution of target attribute: 'class'-\n",
    "banknote_data['class'].value_counts()"
   ]
  },
  {
   "cell_type": "code",
   "execution_count": 7,
   "metadata": {},
   "outputs": [
    {
     "data": {
      "image/png": "[encoded data removed]",
      "text/plain": [
       "<Figure size 432x288 with 1 Axes>"
      ]
     },
     "metadata": {
      "needs_background": "light"
     },
     "output_type": "display_data"
    }
   ],
   "source": [
    "sns.boxplot(data=banknote_data.iloc[:, :-1])\n",
    "\n",
    "plt.title(\"Banknote dataset boxplots\")\n",
    "plt.xticks(rotation = 20)\n",
    "plt.show()"
   ]
  },
  {
   "cell_type": "markdown",
   "metadata": {},
   "source": [
    "### Observations:\n",
    "The attributes of the dataset seem to have a normal distribution with outliers for the last two attributes"
   ]
  },
  {
   "cell_type": "code",
   "execution_count": 8,
   "metadata": {},
   "outputs": [],
   "source": [
    "# Divide data into features (X) and label (y)-\n",
    "\n",
    "# 'X' contains attributes-\n",
    "X = banknote_data.drop('class', axis = 1)\n",
    "\n",
    "# 'y' contains labels-\n",
    "y = banknote_data['class']"
   ]
  },
  {
   "cell_type": "code",
   "execution_count": 9,
   "metadata": {},
   "outputs": [],
   "source": [
    "# Standardize certain features/attributes in dataset-\n",
    "rb_scaler = RobustScaler()\n",
    "\n",
    "# Standardize features (X) in dataset-\n",
    "X_std = rb_scaler.fit_transform(X)"
   ]
  },
  {
   "cell_type": "code",
   "execution_count": 10,
   "metadata": {},
   "outputs": [
    {
     "name": "stdout",
     "output_type": "stream",
     "text": [
      "\n",
      "\n",
      "Dimensions of training and testing sets are:\n",
      "X_train = (960, 4), y_train = (960,), X_test = (412, 4) & y_test = (412,)\n",
      "\n",
      "\n"
     ]
    }
   ],
   "source": [
    "# Divide attributes & labels into training & testing sets-\n",
    "X_train, X_test, y_train, y_test = train_test_split(X_std, y, test_size = 0.30)\n",
    "print(\"\\n\\nDimensions of training and testing sets are:\")\n",
    "print(\"X_train = {0}, y_train = {1}, X_test = {2} & y_test = {3}\\n\\n\".format(X_train.shape, y_train.shape, X_test.shape, y_test.shape))"
   ]
  },
  {
   "cell_type": "code",
   "execution_count": 11,
   "metadata": {},
   "outputs": [],
   "source": [
    "# Convert training and testing sets to floating types as numpy arrays-\n",
    "X_train = np.asarray(X_train)\n",
    "X_test = np.asarray(X_test)\n",
    "\n",
    "y_train = np.asarray(y_train, dtype = np.float16)\n",
    "y_test = np.asarray(y_test, dtype = np.float16)"
   ]
  },
  {
   "cell_type": "code",
   "execution_count": 12,
   "metadata": {},
   "outputs": [],
   "source": [
    "def create_nn():\n",
    "    \"\"\"\n",
    "    Function to create a\n",
    "    Neural Network\n",
    "    \"\"\"\n",
    "    model = Sequential()                                                    \n",
    "\n",
    "    model.add(\n",
    "        Dense(\n",
    "            units = 4, activation = 'relu',\n",
    "            kernel_initializer = tf.keras.initializers.GlorotNormal(),\n",
    "            input_shape = (4,)\n",
    "        )\n",
    "    )\n",
    "\n",
    "    model.add(\n",
    "        Dense(\n",
    "            units = 3, activation = 'relu',\n",
    "            kernel_initializer = tf.keras.initializers.GlorotNormal()\n",
    "        )\n",
    "    )\n",
    "\n",
    "    model.add(\n",
    "        Dense(\n",
    "            units = 1, activation = 'sigmoid'\n",
    "        )\n",
    "    )\n",
    "\n",
    "    \"\"\"\n",
    "    # Compile the defined NN model above-\n",
    "    model.compile(\n",
    "        loss = 'binary_crossentropy',  # loss = 'categorical_crossentropy'\n",
    "        optimizer = tf.keras.optimizers.Adam(lr = 0.001),\n",
    "        metrics=['accuracy']\n",
    "    )\n",
    "    \"\"\"\n",
    "\n",
    "    return model\n",
    "\n"
   ]
  },
  {
   "cell_type": "markdown",
   "metadata": {},
   "source": [
    "### First _fit()_ method with _EarlyStopping_ is used:"
   ]
  },
  {
   "cell_type": "code",
   "execution_count": 13,
   "metadata": {},
   "outputs": [],
   "source": [
    "# Instantiate a model-\n",
    "model = create_nn()"
   ]
  },
  {
   "cell_type": "code",
   "execution_count": 14,
   "metadata": {},
   "outputs": [],
   "source": [
    "# Save weights for fair comparison-\n",
    "model.save_weights(\"Random_Weights.h5\", overwrite=True)"
   ]
  },
  {
   "cell_type": "markdown",
   "metadata": {},
   "source": [
    "### _fit()_ method arguments:\n",
    "\n",
    "1. _batch_size:_ Integer or None. Number of samples per gradient update. If unspecified, batch_size will default to 32. Do not specify the batch_size if your data is in the form of symbolic tensors, datasets, generators, or keras.utils.Sequence instances (since they generate batches).\n",
    "\n",
    "1. _epochs:_ Integer. Number of epochs to train the model. An epoch is an iteration over the entire x and y data provided. Note that in conjunction with initial_epoch, epochs is to be understood as \"final epoch\". The model is not trained for a number of iterations given by epochs, but merely until the epoch of index epochs is reached.\n",
    "\n",
    "1. _shuffle:_ Boolean (whether to shuffle the training data before each epoch) or str (for 'batch'). 'batch' is a special option for dealing with the limitations of HDF5 data; __it shuffles in batch-sized chunks__. Has no effect when _steps_per_epoch_ is not None."
   ]
  },
  {
   "cell_type": "code",
   "execution_count": 15,
   "metadata": {},
   "outputs": [],
   "source": [
    "# Compile model-\n",
    "model.compile(\n",
    "    loss = 'binary_crossentropy',\n",
    "    optimizer = tf.keras.optimizers.Adam(lr = 0.001),\n",
    "    metrics = ['accuracy'],\n",
    "    shuffle = True\n",
    "    )"
   ]
  },
  {
   "cell_type": "code",
   "execution_count": 16,
   "metadata": {},
   "outputs": [],
   "source": [
    "# Define early stopping-\n",
    "callback = tf.keras.callbacks.EarlyStopping(\n",
    "    monitor='val_loss', patience=3,\n",
    "    min_delta = 0.001, mode = 'min'\n",
    ")"
   ]
  },
  {
   "cell_type": "code",
   "execution_count": 17,
   "metadata": {},
   "outputs": [
    {
     "name": "stdout",
     "output_type": "stream",
     "text": [
      "Train on 960 samples, validate on 412 samples\n",
      "Epoch 1/500\n",
      "960/960 [==============================] - 1s 781us/sample - loss: 0.7348 - accuracy: 0.1458 - val_loss: 0.7222 - val_accuracy: 0.1772\n",
      "Epoch 2/500\n",
      "960/960 [==============================] - 0s 82us/sample - loss: 0.7185 - accuracy: 0.2292 - val_loss: 0.7112 - val_accuracy: 0.2913\n",
      "Epoch 3/500\n",
      "960/960 [==============================] - 0s 82us/sample - loss: 0.7087 - accuracy: 0.3406 - val_loss: 0.7039 - val_accuracy: 0.3786\n",
      "Epoch 4/500\n",
      "960/960 [==============================] - 0s 93us/sample - loss: 0.7020 - accuracy: 0.3927 - val_loss: 0.6989 - val_accuracy: 0.4175\n",
      "Epoch 5/500\n",
      "960/960 [==============================] - 0s 85us/sample - loss: 0.6971 - accuracy: 0.4458 - val_loss: 0.6950 - val_accuracy: 0.4806\n",
      "Epoch 6/500\n",
      "960/960 [==============================] - 0s 91us/sample - loss: 0.6930 - accuracy: 0.5031 - val_loss: 0.6910 - val_accuracy: 0.5170\n",
      "Epoch 7/500\n",
      "960/960 [==============================] - 0s 95us/sample - loss: 0.6883 - accuracy: 0.5354 - val_loss: 0.6864 - val_accuracy: 0.5388\n",
      "Epoch 8/500\n",
      "960/960 [==============================] - 0s 81us/sample - loss: 0.6815 - accuracy: 0.5604 - val_loss: 0.6780 - val_accuracy: 0.5437\n",
      "Epoch 9/500\n",
      "960/960 [==============================] - 0s 95us/sample - loss: 0.6684 - accuracy: 0.5604 - val_loss: 0.6614 - val_accuracy: 0.5437\n",
      "Epoch 10/500\n",
      "960/960 [==============================] - 0s 88us/sample - loss: 0.6471 - accuracy: 0.5604 - val_loss: 0.6372 - val_accuracy: 0.5437\n",
      "Epoch 11/500\n",
      "960/960 [==============================] - 0s 83us/sample - loss: 0.6179 - accuracy: 0.5604 - val_loss: 0.6046 - val_accuracy: 0.5437\n",
      "Epoch 12/500\n",
      "960/960 [==============================] - 0s 85us/sample - loss: 0.5804 - accuracy: 0.5604 - val_loss: 0.5658 - val_accuracy: 0.5437\n",
      "Epoch 13/500\n",
      "960/960 [==============================] - 0s 94us/sample - loss: 0.5357 - accuracy: 0.5604 - val_loss: 0.5186 - val_accuracy: 0.5437\n",
      "Epoch 14/500\n",
      "960/960 [==============================] - 0s 92us/sample - loss: 0.4864 - accuracy: 0.5604 - val_loss: 0.4771 - val_accuracy: 0.5437\n",
      "Epoch 15/500\n",
      "960/960 [==============================] - 0s 84us/sample - loss: 0.4466 - accuracy: 0.5604 - val_loss: 0.4438 - val_accuracy: 0.5437\n",
      "Epoch 16/500\n",
      "960/960 [==============================] - 0s 84us/sample - loss: 0.4153 - accuracy: 0.7208 - val_loss: 0.4155 - val_accuracy: 0.8981\n",
      "Epoch 17/500\n",
      "960/960 [==============================] - 0s 88us/sample - loss: 0.3897 - accuracy: 0.9052 - val_loss: 0.3919 - val_accuracy: 0.9272\n",
      "Epoch 18/500\n",
      "960/960 [==============================] - 0s 83us/sample - loss: 0.3682 - accuracy: 0.9271 - val_loss: 0.3719 - val_accuracy: 0.9442\n",
      "Epoch 19/500\n",
      "960/960 [==============================] - 0s 95us/sample - loss: 0.3497 - accuracy: 0.9427 - val_loss: 0.3543 - val_accuracy: 0.9612\n",
      "Epoch 20/500\n",
      "960/960 [==============================] - 0s 81us/sample - loss: 0.3338 - accuracy: 0.9521 - val_loss: 0.3386 - val_accuracy: 0.9660\n",
      "Epoch 21/500\n",
      "960/960 [==============================] - 0s 86us/sample - loss: 0.3192 - accuracy: 0.9615 - val_loss: 0.3244 - val_accuracy: 0.9709\n",
      "Epoch 22/500\n",
      "960/960 [==============================] - 0s 83us/sample - loss: 0.3058 - accuracy: 0.9729 - val_loss: 0.3114 - val_accuracy: 0.9733\n",
      "Epoch 23/500\n",
      "960/960 [==============================] - 0s 81us/sample - loss: 0.2937 - accuracy: 0.9802 - val_loss: 0.2998 - val_accuracy: 0.9806\n",
      "Epoch 24/500\n",
      "960/960 [==============================] - 0s 90us/sample - loss: 0.2829 - accuracy: 0.9833 - val_loss: 0.2897 - val_accuracy: 0.9830\n",
      "Epoch 25/500\n",
      "960/960 [==============================] - 0s 84us/sample - loss: 0.2735 - accuracy: 0.9854 - val_loss: 0.2806 - val_accuracy: 0.9830\n",
      "Epoch 26/500\n",
      "960/960 [==============================] - 0s 98us/sample - loss: 0.2647 - accuracy: 0.9875 - val_loss: 0.2720 - val_accuracy: 0.9830\n",
      "Epoch 27/500\n",
      "960/960 [==============================] - 0s 89us/sample - loss: 0.2568 - accuracy: 0.9885 - val_loss: 0.2642 - val_accuracy: 0.9879\n",
      "Epoch 28/500\n",
      "960/960 [==============================] - 0s 82us/sample - loss: 0.2493 - accuracy: 0.9896 - val_loss: 0.2570 - val_accuracy: 0.9879\n",
      "Epoch 29/500\n",
      "960/960 [==============================] - 0s 82us/sample - loss: 0.2425 - accuracy: 0.9906 - val_loss: 0.2501 - val_accuracy: 0.9854\n",
      "Epoch 30/500\n",
      "960/960 [==============================] - 0s 79us/sample - loss: 0.2358 - accuracy: 0.9875 - val_loss: 0.2435 - val_accuracy: 0.9854\n",
      "Epoch 31/500\n",
      "960/960 [==============================] - 0s 83us/sample - loss: 0.2296 - accuracy: 0.9875 - val_loss: 0.2378 - val_accuracy: 0.9854\n",
      "Epoch 32/500\n",
      "960/960 [==============================] - 0s 90us/sample - loss: 0.2239 - accuracy: 0.9875 - val_loss: 0.2319 - val_accuracy: 0.9854\n",
      "Epoch 33/500\n",
      "960/960 [==============================] - 0s 98us/sample - loss: 0.2183 - accuracy: 0.9865 - val_loss: 0.2260 - val_accuracy: 0.9854\n",
      "Epoch 34/500\n",
      "960/960 [==============================] - 0s 80us/sample - loss: 0.2131 - accuracy: 0.9875 - val_loss: 0.2209 - val_accuracy: 0.9854\n",
      "Epoch 35/500\n",
      "960/960 [==============================] - 0s 83us/sample - loss: 0.2082 - accuracy: 0.9865 - val_loss: 0.2157 - val_accuracy: 0.9854\n",
      "Epoch 36/500\n",
      "960/960 [==============================] - 0s 85us/sample - loss: 0.2033 - accuracy: 0.9875 - val_loss: 0.2112 - val_accuracy: 0.9854\n",
      "Epoch 37/500\n",
      "960/960 [==============================] - 0s 84us/sample - loss: 0.1989 - accuracy: 0.9885 - val_loss: 0.2067 - val_accuracy: 0.9854\n",
      "Epoch 38/500\n",
      "960/960 [==============================] - 0s 82us/sample - loss: 0.1945 - accuracy: 0.9896 - val_loss: 0.2026 - val_accuracy: 0.9854\n",
      "Epoch 39/500\n",
      "960/960 [==============================] - 0s 91us/sample - loss: 0.1902 - accuracy: 0.9896 - val_loss: 0.1979 - val_accuracy: 0.9854\n",
      "Epoch 40/500\n",
      "960/960 [==============================] - 0s 87us/sample - loss: 0.1860 - accuracy: 0.9896 - val_loss: 0.1938 - val_accuracy: 0.9854\n",
      "Epoch 41/500\n",
      "960/960 [==============================] - 0s 80us/sample - loss: 0.1823 - accuracy: 0.9896 - val_loss: 0.1898 - val_accuracy: 0.9854\n",
      "Epoch 42/500\n",
      "960/960 [==============================] - 0s 91us/sample - loss: 0.1786 - accuracy: 0.9885 - val_loss: 0.1863 - val_accuracy: 0.9854\n",
      "Epoch 43/500\n",
      "960/960 [==============================] - 0s 80us/sample - loss: 0.1748 - accuracy: 0.9896 - val_loss: 0.1828 - val_accuracy: 0.9879\n",
      "Epoch 44/500\n",
      "960/960 [==============================] - 0s 85us/sample - loss: 0.1714 - accuracy: 0.9906 - val_loss: 0.1790 - val_accuracy: 0.9879\n",
      "Epoch 45/500\n",
      "960/960 [==============================] - 0s 89us/sample - loss: 0.1680 - accuracy: 0.9906 - val_loss: 0.1756 - val_accuracy: 0.9879\n",
      "Epoch 46/500\n",
      "960/960 [==============================] - 0s 94us/sample - loss: 0.1647 - accuracy: 0.9906 - val_loss: 0.1723 - val_accuracy: 0.9879\n",
      "Epoch 47/500\n",
      "960/960 [==============================] - 0s 81us/sample - loss: 0.1616 - accuracy: 0.9896 - val_loss: 0.1691 - val_accuracy: 0.9879\n",
      "Epoch 48/500\n",
      "960/960 [==============================] - 0s 82us/sample - loss: 0.1586 - accuracy: 0.9906 - val_loss: 0.1663 - val_accuracy: 0.9879\n",
      "Epoch 49/500\n",
      "960/960 [==============================] - 0s 82us/sample - loss: 0.1555 - accuracy: 0.9906 - val_loss: 0.1631 - val_accuracy: 0.9903\n",
      "Epoch 50/500\n",
      "960/960 [==============================] - 0s 92us/sample - loss: 0.1527 - accuracy: 0.9906 - val_loss: 0.1601 - val_accuracy: 0.9903\n",
      "Epoch 51/500\n",
      "960/960 [==============================] - 0s 84us/sample - loss: 0.1498 - accuracy: 0.9906 - val_loss: 0.1573 - val_accuracy: 0.9903\n",
      "Epoch 52/500\n",
      "960/960 [==============================] - 0s 84us/sample - loss: 0.1472 - accuracy: 0.9906 - val_loss: 0.1547 - val_accuracy: 0.9903\n",
      "Epoch 53/500\n",
      "960/960 [==============================] - 0s 82us/sample - loss: 0.1446 - accuracy: 0.9906 - val_loss: 0.1521 - val_accuracy: 0.9903\n",
      "Epoch 54/500\n",
      "960/960 [==============================] - 0s 81us/sample - loss: 0.1420 - accuracy: 0.9906 - val_loss: 0.1491 - val_accuracy: 0.9903\n",
      "Epoch 55/500\n",
      "960/960 [==============================] - 0s 83us/sample - loss: 0.1396 - accuracy: 0.9906 - val_loss: 0.1469 - val_accuracy: 0.9903\n",
      "Epoch 56/500\n",
      "960/960 [==============================] - 0s 80us/sample - loss: 0.1372 - accuracy: 0.9906 - val_loss: 0.1443 - val_accuracy: 0.9903\n",
      "Epoch 57/500\n",
      "960/960 [==============================] - 0s 81us/sample - loss: 0.1348 - accuracy: 0.9906 - val_loss: 0.1422 - val_accuracy: 0.9903\n",
      "Epoch 58/500\n",
      "960/960 [==============================] - 0s 80us/sample - loss: 0.1326 - accuracy: 0.9906 - val_loss: 0.1397 - val_accuracy: 0.9903\n",
      "Epoch 59/500\n",
      "960/960 [==============================] - 0s 82us/sample - loss: 0.1303 - accuracy: 0.9906 - val_loss: 0.1374 - val_accuracy: 0.9903\n",
      "Epoch 60/500\n",
      "960/960 [==============================] - 0s 85us/sample - loss: 0.1281 - accuracy: 0.9906 - val_loss: 0.1352 - val_accuracy: 0.9903\n",
      "Epoch 61/500\n",
      "960/960 [==============================] - 0s 92us/sample - loss: 0.1261 - accuracy: 0.9906 - val_loss: 0.1329 - val_accuracy: 0.9903\n",
      "Epoch 62/500\n",
      "960/960 [==============================] - 0s 79us/sample - loss: 0.1241 - accuracy: 0.9906 - val_loss: 0.1309 - val_accuracy: 0.9903\n",
      "Epoch 63/500\n",
      "960/960 [==============================] - 0s 84us/sample - loss: 0.1225 - accuracy: 0.9896 - val_loss: 0.1290 - val_accuracy: 0.9903\n",
      "Epoch 64/500\n",
      "960/960 [==============================] - 0s 92us/sample - loss: 0.1201 - accuracy: 0.9906 - val_loss: 0.1276 - val_accuracy: 0.9903\n",
      "Epoch 65/500\n",
      "960/960 [==============================] - 0s 80us/sample - loss: 0.1184 - accuracy: 0.9906 - val_loss: 0.1251 - val_accuracy: 0.9903\n",
      "Epoch 66/500\n",
      "960/960 [==============================] - 0s 80us/sample - loss: 0.1164 - accuracy: 0.9906 - val_loss: 0.1239 - val_accuracy: 0.9903\n",
      "Epoch 67/500\n",
      "960/960 [==============================] - 0s 79us/sample - loss: 0.1146 - accuracy: 0.9906 - val_loss: 0.1212 - val_accuracy: 0.9903\n",
      "Epoch 68/500\n",
      "960/960 [==============================] - 0s 84us/sample - loss: 0.1127 - accuracy: 0.9906 - val_loss: 0.1198 - val_accuracy: 0.9903\n",
      "Epoch 69/500\n",
      "960/960 [==============================] - 0s 85us/sample - loss: 0.1110 - accuracy: 0.9906 - val_loss: 0.1179 - val_accuracy: 0.9903\n",
      "Epoch 70/500\n",
      "960/960 [==============================] - 0s 83us/sample - loss: 0.1094 - accuracy: 0.9906 - val_loss: 0.1162 - val_accuracy: 0.9903\n",
      "Epoch 71/500\n",
      "960/960 [==============================] - 0s 79us/sample - loss: 0.1078 - accuracy: 0.9906 - val_loss: 0.1146 - val_accuracy: 0.9903\n",
      "Epoch 72/500\n",
      "960/960 [==============================] - 0s 84us/sample - loss: 0.1062 - accuracy: 0.9906 - val_loss: 0.1127 - val_accuracy: 0.9903\n",
      "Epoch 73/500\n",
      "960/960 [==============================] - 0s 81us/sample - loss: 0.1047 - accuracy: 0.9906 - val_loss: 0.1112 - val_accuracy: 0.9903\n",
      "Epoch 74/500\n",
      "960/960 [==============================] - 0s 94us/sample - loss: 0.1031 - accuracy: 0.9906 - val_loss: 0.1097 - val_accuracy: 0.9903\n",
      "Epoch 75/500\n",
      "960/960 [==============================] - 0s 83us/sample - loss: 0.1016 - accuracy: 0.9906 - val_loss: 0.1083 - val_accuracy: 0.9903\n",
      "Epoch 76/500\n",
      "960/960 [==============================] - 0s 81us/sample - loss: 0.1004 - accuracy: 0.9906 - val_loss: 0.1070 - val_accuracy: 0.9903\n",
      "Epoch 77/500\n",
      "960/960 [==============================] - 0s 84us/sample - loss: 0.0986 - accuracy: 0.9906 - val_loss: 0.1050 - val_accuracy: 0.9903\n",
      "Epoch 78/500\n",
      "960/960 [==============================] - 0s 82us/sample - loss: 0.0973 - accuracy: 0.9906 - val_loss: 0.1038 - val_accuracy: 0.9903\n",
      "Epoch 79/500\n",
      "960/960 [==============================] - 0s 95us/sample - loss: 0.0962 - accuracy: 0.9906 - val_loss: 0.1027 - val_accuracy: 0.9903\n",
      "Epoch 80/500\n",
      "960/960 [==============================] - 0s 81us/sample - loss: 0.0946 - accuracy: 0.9906 - val_loss: 0.1011 - val_accuracy: 0.9903\n",
      "Epoch 81/500\n",
      "960/960 [==============================] - 0s 82us/sample - loss: 0.0934 - accuracy: 0.9906 - val_loss: 0.0997 - val_accuracy: 0.9903\n",
      "Epoch 82/500\n",
      "960/960 [==============================] - 0s 83us/sample - loss: 0.0921 - accuracy: 0.9906 - val_loss: 0.0985 - val_accuracy: 0.9903\n",
      "Epoch 83/500\n",
      "960/960 [==============================] - 0s 90us/sample - loss: 0.0908 - accuracy: 0.9906 - val_loss: 0.0972 - val_accuracy: 0.9903\n",
      "Epoch 84/500\n",
      "960/960 [==============================] - 0s 83us/sample - loss: 0.0896 - accuracy: 0.9906 - val_loss: 0.0963 - val_accuracy: 0.9903\n",
      "Epoch 85/500\n",
      "960/960 [==============================] - 0s 83us/sample - loss: 0.0884 - accuracy: 0.9906 - val_loss: 0.0944 - val_accuracy: 0.9903\n",
      "Epoch 86/500\n",
      "960/960 [==============================] - 0s 90us/sample - loss: 0.0873 - accuracy: 0.9906 - val_loss: 0.0933 - val_accuracy: 0.9903\n",
      "Epoch 87/500\n",
      "960/960 [==============================] - 0s 98us/sample - loss: 0.0865 - accuracy: 0.9906 - val_loss: 0.0933 - val_accuracy: 0.9903\n",
      "Epoch 88/500\n",
      "960/960 [==============================] - 0s 85us/sample - loss: 0.0850 - accuracy: 0.9906 - val_loss: 0.0909 - val_accuracy: 0.9903\n",
      "Epoch 89/500\n",
      "960/960 [==============================] - 0s 95us/sample - loss: 0.0839 - accuracy: 0.9906 - val_loss: 0.0900 - val_accuracy: 0.9903\n",
      "Epoch 90/500\n",
      "960/960 [==============================] - 0s 83us/sample - loss: 0.0829 - accuracy: 0.9906 - val_loss: 0.0892 - val_accuracy: 0.9903\n",
      "Epoch 91/500\n",
      "960/960 [==============================] - 0s 86us/sample - loss: 0.0817 - accuracy: 0.9906 - val_loss: 0.0878 - val_accuracy: 0.9903\n",
      "Epoch 92/500\n",
      "960/960 [==============================] - 0s 85us/sample - loss: 0.0809 - accuracy: 0.9906 - val_loss: 0.0871 - val_accuracy: 0.9903\n",
      "Epoch 93/500\n",
      "960/960 [==============================] - 0s 83us/sample - loss: 0.0798 - accuracy: 0.9906 - val_loss: 0.0862 - val_accuracy: 0.9903\n",
      "Epoch 94/500\n",
      "960/960 [==============================] - 0s 82us/sample - loss: 0.0787 - accuracy: 0.9906 - val_loss: 0.0846 - val_accuracy: 0.9903\n",
      "Epoch 95/500\n",
      "960/960 [==============================] - 0s 83us/sample - loss: 0.0778 - accuracy: 0.9906 - val_loss: 0.0841 - val_accuracy: 0.9903\n",
      "Epoch 96/500\n",
      "960/960 [==============================] - 0s 99us/sample - loss: 0.0768 - accuracy: 0.9906 - val_loss: 0.0828 - val_accuracy: 0.9903\n",
      "Epoch 97/500\n",
      "960/960 [==============================] - 0s 83us/sample - loss: 0.0759 - accuracy: 0.9906 - val_loss: 0.0820 - val_accuracy: 0.9903\n",
      "Epoch 98/500\n",
      "960/960 [==============================] - 0s 90us/sample - loss: 0.0752 - accuracy: 0.9906 - val_loss: 0.0816 - val_accuracy: 0.9903\n",
      "Epoch 99/500\n",
      "960/960 [==============================] - 0s 79us/sample - loss: 0.0740 - accuracy: 0.9906 - val_loss: 0.0797 - val_accuracy: 0.9903\n",
      "Epoch 100/500\n",
      "960/960 [==============================] - 0s 95us/sample - loss: 0.0732 - accuracy: 0.9906 - val_loss: 0.0789 - val_accuracy: 0.9903\n",
      "Epoch 101/500\n",
      "960/960 [==============================] - 0s 77us/sample - loss: 0.0722 - accuracy: 0.9906 - val_loss: 0.0783 - val_accuracy: 0.9903\n",
      "Epoch 102/500\n",
      "960/960 [==============================] - 0s 86us/sample - loss: 0.0718 - accuracy: 0.9906 - val_loss: 0.0776 - val_accuracy: 0.9903\n",
      "Epoch 103/500\n",
      "960/960 [==============================] - 0s 96us/sample - loss: 0.0706 - accuracy: 0.9906 - val_loss: 0.0771 - val_accuracy: 0.9903\n",
      "Epoch 104/500\n",
      "960/960 [==============================] - 0s 83us/sample - loss: 0.0698 - accuracy: 0.9906 - val_loss: 0.0759 - val_accuracy: 0.9903\n",
      "Epoch 105/500\n",
      "960/960 [==============================] - 0s 81us/sample - loss: 0.0691 - accuracy: 0.9906 - val_loss: 0.0752 - val_accuracy: 0.9903\n",
      "Epoch 106/500\n",
      "960/960 [==============================] - 0s 83us/sample - loss: 0.0681 - accuracy: 0.9906 - val_loss: 0.0739 - val_accuracy: 0.9903\n",
      "Epoch 107/500\n",
      "960/960 [==============================] - 0s 84us/sample - loss: 0.0674 - accuracy: 0.9917 - val_loss: 0.0737 - val_accuracy: 0.9903\n",
      "Epoch 108/500\n",
      "960/960 [==============================] - 0s 79us/sample - loss: 0.0667 - accuracy: 0.9906 - val_loss: 0.0725 - val_accuracy: 0.9903\n",
      "Epoch 109/500\n",
      "960/960 [==============================] - 0s 78us/sample - loss: 0.0659 - accuracy: 0.9906 - val_loss: 0.0717 - val_accuracy: 0.9903\n",
      "Epoch 110/500\n",
      "960/960 [==============================] - 0s 87us/sample - loss: 0.0653 - accuracy: 0.9906 - val_loss: 0.0711 - val_accuracy: 0.9903\n",
      "Epoch 111/500\n",
      "960/960 [==============================] - 0s 97us/sample - loss: 0.0644 - accuracy: 0.9906 - val_loss: 0.0705 - val_accuracy: 0.9903\n",
      "Epoch 112/500\n",
      "960/960 [==============================] - 0s 100us/sample - loss: 0.0638 - accuracy: 0.9906 - val_loss: 0.0700 - val_accuracy: 0.9903\n",
      "Epoch 113/500\n",
      "960/960 [==============================] - 0s 78us/sample - loss: 0.0632 - accuracy: 0.9917 - val_loss: 0.0690 - val_accuracy: 0.9903\n",
      "Epoch 114/500\n",
      "960/960 [==============================] - 0s 91us/sample - loss: 0.0624 - accuracy: 0.9917 - val_loss: 0.0685 - val_accuracy: 0.9903\n",
      "Epoch 115/500\n",
      "960/960 [==============================] - 0s 85us/sample - loss: 0.0618 - accuracy: 0.9917 - val_loss: 0.0678 - val_accuracy: 0.9903\n",
      "Epoch 116/500\n",
      "960/960 [==============================] - 0s 86us/sample - loss: 0.0612 - accuracy: 0.9906 - val_loss: 0.0674 - val_accuracy: 0.9903\n",
      "Epoch 117/500\n",
      "960/960 [==============================] - 0s 94us/sample - loss: 0.0606 - accuracy: 0.9906 - val_loss: 0.0663 - val_accuracy: 0.9903\n",
      "Epoch 118/500\n",
      "960/960 [==============================] - 0s 89us/sample - loss: 0.0598 - accuracy: 0.9917 - val_loss: 0.0660 - val_accuracy: 0.9903\n",
      "Epoch 119/500\n",
      "960/960 [==============================] - 0s 90us/sample - loss: 0.0591 - accuracy: 0.9906 - val_loss: 0.0650 - val_accuracy: 0.9903\n",
      "Epoch 120/500\n",
      "960/960 [==============================] - 0s 83us/sample - loss: 0.0586 - accuracy: 0.9917 - val_loss: 0.0650 - val_accuracy: 0.9903\n",
      "Epoch 121/500\n",
      "960/960 [==============================] - 0s 86us/sample - loss: 0.0582 - accuracy: 0.9906 - val_loss: 0.0636 - val_accuracy: 0.9903\n",
      "Epoch 122/500\n",
      "960/960 [==============================] - 0s 84us/sample - loss: 0.0574 - accuracy: 0.9917 - val_loss: 0.0634 - val_accuracy: 0.9903\n",
      "Epoch 123/500\n",
      "960/960 [==============================] - 0s 90us/sample - loss: 0.0568 - accuracy: 0.9917 - val_loss: 0.0624 - val_accuracy: 0.9903\n",
      "Epoch 124/500\n",
      "960/960 [==============================] - 0s 81us/sample - loss: 0.0562 - accuracy: 0.9917 - val_loss: 0.0624 - val_accuracy: 0.9903\n",
      "Epoch 125/500\n",
      "960/960 [==============================] - 0s 78us/sample - loss: 0.0558 - accuracy: 0.9906 - val_loss: 0.0617 - val_accuracy: 0.9903\n",
      "Epoch 126/500\n",
      "960/960 [==============================] - 0s 95us/sample - loss: 0.0551 - accuracy: 0.9906 - val_loss: 0.0607 - val_accuracy: 0.9903\n",
      "Epoch 127/500\n",
      "960/960 [==============================] - 0s 80us/sample - loss: 0.0546 - accuracy: 0.9917 - val_loss: 0.0604 - val_accuracy: 0.9903\n",
      "Epoch 128/500\n",
      "960/960 [==============================] - 0s 94us/sample - loss: 0.0540 - accuracy: 0.9917 - val_loss: 0.0596 - val_accuracy: 0.9903\n",
      "Epoch 129/500\n",
      "960/960 [==============================] - 0s 80us/sample - loss: 0.0535 - accuracy: 0.9917 - val_loss: 0.0595 - val_accuracy: 0.9903\n",
      "Epoch 130/500\n",
      "960/960 [==============================] - 0s 85us/sample - loss: 0.0530 - accuracy: 0.9917 - val_loss: 0.0590 - val_accuracy: 0.9903\n",
      "Epoch 131/500\n",
      "960/960 [==============================] - 0s 84us/sample - loss: 0.0526 - accuracy: 0.9917 - val_loss: 0.0587 - val_accuracy: 0.9903\n"
     ]
    }
   ],
   "source": [
    "# Train defined model-\n",
    "history_orig = model.fit(\n",
    "    x = X_train, y = y_train,\n",
    "    batch_size = 32, epochs = 500,\n",
    "    validation_data = (X_test, y_test),\n",
    "    callbacks = [callback],\n",
    "    verbose = 1\n",
    ")\n"
   ]
  },
  {
   "cell_type": "code",
   "execution_count": null,
   "metadata": {},
   "outputs": [],
   "source": [
    "history_orig.history['val_loss']"
   ]
  },
  {
   "cell_type": "markdown",
   "metadata": {},
   "source": [
    "### Sanity Check: see whether _EarlyStopping_ is actually working:\n",
    "Using _patience_ of 3 and _min_delta_ = 0.001 while monitoring the _validation loss_ ('val_loss')"
   ]
  },
  {
   "cell_type": "code",
   "execution_count": 18,
   "metadata": {},
   "outputs": [],
   "source": [
    "# 'min_delta'-\n",
    "md = 0.001"
   ]
  },
  {
   "cell_type": "code",
   "execution_count": 19,
   "metadata": {},
   "outputs": [],
   "source": [
    "# Get the last three values-\n",
    "x = history_orig.history['val_loss'][-3:]"
   ]
  },
  {
   "cell_type": "code",
   "execution_count": 20,
   "metadata": {},
   "outputs": [
    {
     "name": "stdout",
     "output_type": "stream",
     "text": [
      "[0.05953425924899509, 0.05903084709951021, 0.05866503379153974]\n"
     ]
    }
   ],
   "source": [
    "print(x)"
   ]
  },
  {
   "cell_type": "code",
   "execution_count": 21,
   "metadata": {},
   "outputs": [
    {
     "data": {
      "text/plain": [
       "array([0.00050341, 0.00036581])"
      ]
     },
     "execution_count": 21,
     "metadata": {},
     "output_type": "execute_result"
    }
   ],
   "source": [
    "# Compute absolute consecutive difference between each subsequent elements-\n",
    "np.abs(np.diff(x, n = 1))"
   ]
  },
  {
   "cell_type": "code",
   "execution_count": 22,
   "metadata": {},
   "outputs": [
    {
     "data": {
      "text/plain": [
       "array([False, False])"
      ]
     },
     "execution_count": 22,
     "metadata": {},
     "output_type": "execute_result"
    }
   ],
   "source": [
    "# Check whether absolute consecutive differences between each subsequent elements\n",
    "# is greater than 'min_delta'-\n",
    "np.abs(np.diff(x, n = 1)) > md"
   ]
  },
  {
   "cell_type": "code",
   "execution_count": null,
   "metadata": {},
   "outputs": [],
   "source": []
  },
  {
   "cell_type": "code",
   "execution_count": 23,
   "metadata": {},
   "outputs": [
    {
     "data": {
      "image/png": "[encoded data removed]",
      "text/plain": [
       "<Figure size 800x720 with 1 Axes>"
      ]
     },
     "metadata": {},
     "output_type": "display_data"
    }
   ],
   "source": [
    "# Visualize training progress of neural network model-\n",
    "fig=plt.figure(figsize=(10, 9), dpi= 80, facecolor='w', edgecolor='k')\n",
    "\n",
    "plt.plot(history_orig.history['accuracy'], label = 'training accuracy')\n",
    "plt.plot(history_orig.history['val_accuracy'], label = 'testing accuracy')\n",
    "plt.plot(history_orig.history['loss'], label = 'training loss')\n",
    "plt.plot(history_orig.history['val_loss'], label = 'testing loss')\n",
    "\n",
    "plt.title(\"Training Visualization - Scalar Metrics\")\n",
    "plt.xlabel(\"number of epochs\")\n",
    "plt.ylabel(\"Accuracy/Loss\")\n",
    "plt.legend(loc = 'best')\n",
    "plt.show()\n"
   ]
  },
  {
   "cell_type": "code",
   "execution_count": 26,
   "metadata": {},
   "outputs": [],
   "source": [
    "# Make predictions using trained model-\n",
    "y_pred_orig = model.predict_classes(X_test)"
   ]
  },
  {
   "cell_type": "code",
   "execution_count": 27,
   "metadata": {},
   "outputs": [],
   "source": [
    "accuracy_orig = accuracy_score(y_test, y_pred_orig)\n",
    "precision_orig = precision_score(y_test, y_pred_orig)\n",
    "recall_orig = recall_score(y_test, y_pred_orig)"
   ]
  },
  {
   "cell_type": "code",
   "execution_count": 28,
   "metadata": {},
   "outputs": [
    {
     "name": "stdout",
     "output_type": "stream",
     "text": [
      "\n",
      "'model.fit()' metrics on testing set:\n",
      "accuracy = 0.9903, precision = 0.9792 & recall = 1.0000\n",
      "\n"
     ]
    }
   ],
   "source": [
    "print(\"\\n'model.fit()' metrics on testing set:\")\n",
    "print(\"accuracy = {0:.4f}, precision = {1:.4f} & recall = {2:.4f}\\n\".format(accuracy_orig,\n",
    "                                                                           precision_orig,\n",
    "                                                                           recall_orig))"
   ]
  },
  {
   "cell_type": "code",
   "execution_count": 29,
   "metadata": {},
   "outputs": [
    {
     "name": "stdout",
     "output_type": "stream",
     "text": [
      "\n",
      "Confusion matrix of 'model.fit()':\n",
      "\n",
      "[[220   4]\n",
      " [  0 188]]\n",
      "\n"
     ]
    }
   ],
   "source": [
    "print(\"\\nConfusion matrix of 'model.fit()':\\n\")\n",
    "print(\"{0}\\n\".format(confusion_matrix(y_test, y_pred_orig)))"
   ]
  },
  {
   "cell_type": "code",
   "execution_count": null,
   "metadata": {},
   "outputs": [],
   "source": []
  },
  {
   "cell_type": "markdown",
   "metadata": {},
   "source": [
    "### Now, use 'GradientTape' to train another instance of defined model-"
   ]
  },
  {
   "cell_type": "code",
   "execution_count": 30,
   "metadata": {},
   "outputs": [],
   "source": [
    "# Create datasets to be used for GradientTape-\n",
    "\n",
    "# Use tf.data to batch and shuffle the dataset\n",
    "train_ds = tf.data.Dataset.from_tensor_slices(\n",
    "    (X_train, y_train)).shuffle(32).batch(32)\n",
    "\n",
    "test_ds = tf.data.Dataset.from_tensor_slices(\n",
    "    (X_test, y_test)).shuffle(32).batch(32)\n"
   ]
  },
  {
   "cell_type": "code",
   "execution_count": 38,
   "metadata": {},
   "outputs": [],
   "source": [
    "del model_gt"
   ]
  },
  {
   "cell_type": "code",
   "execution_count": 31,
   "metadata": {},
   "outputs": [],
   "source": [
    "# Instantiate a model-\n",
    "model_gt = create_nn()"
   ]
  },
  {
   "cell_type": "code",
   "execution_count": 32,
   "metadata": {},
   "outputs": [],
   "source": [
    "# Restore random weights as used by the previous model for fair comparison-\n",
    "model_gt.load_weights(\"Random_Weights.h5\")"
   ]
  },
  {
   "cell_type": "code",
   "execution_count": 33,
   "metadata": {},
   "outputs": [],
   "source": [
    "# Choose an optimizer and loss function for training-\n",
    "loss_fn = tf.keras.losses.BinaryCrossentropy()\n",
    "optimizer = tf.keras.optimizers.Adam(lr = 0.001)"
   ]
  },
  {
   "cell_type": "code",
   "execution_count": 34,
   "metadata": {},
   "outputs": [],
   "source": [
    "# Select metrics to measure the error & accuracy of model.\n",
    "# These metrics accumulate the values over epochs and then\n",
    "# print the overall result-\n",
    "train_loss = tf.keras.metrics.Mean(name = 'train_loss')\n",
    "train_accuracy = tf.keras.metrics.BinaryAccuracy(name = 'train_accuracy')\n",
    "\n",
    "test_loss = tf.keras.metrics.Mean(name = 'test_loss')\n",
    "test_accuracy = tf.keras.metrics.BinaryAccuracy(name = 'train_accuracy')"
   ]
  },
  {
   "cell_type": "code",
   "execution_count": 35,
   "metadata": {},
   "outputs": [],
   "source": [
    "# Use tf.GradientTape to train the model-\n",
    "\n",
    "@tf.function\n",
    "def train_step(data, labels):\n",
    "    \"\"\"\n",
    "    Function to perform one step of Gradient\n",
    "    Descent optimization\n",
    "    \"\"\"\n",
    "\n",
    "    with tf.GradientTape() as tape:\n",
    "        predictions = model_gt(data)\n",
    "        loss = loss_fn(labels, predictions)\n",
    "\n",
    "    gradients = tape.gradient(loss, model_gt.trainable_variables)\n",
    "    optimizer.apply_gradients(zip(gradients, model_gt.trainable_variables))\n",
    "\n",
    "    train_loss(loss)\n",
    "    train_accuracy(labels, predictions)\n",
    "\n",
    "    "
   ]
  },
  {
   "cell_type": "code",
   "execution_count": 36,
   "metadata": {},
   "outputs": [],
   "source": [
    "@tf.function\n",
    "def test_step(data, labels):\n",
    "    \"\"\"\n",
    "    Function to test model performance\n",
    "    on testing dataset\n",
    "    \"\"\"\n",
    "    \n",
    "    predictions = model_gt(data)\n",
    "    t_loss = loss_fn(labels, predictions)\n",
    "\n",
    "    test_loss(t_loss)\n",
    "    test_accuracy(labels, predictions)\n"
   ]
  },
  {
   "cell_type": "code",
   "execution_count": 37,
   "metadata": {},
   "outputs": [],
   "source": [
    "EPOCHS = 500\n",
    "\n",
    "# User input-\n",
    "minimum_delta = 0.001\n",
    "patience = 3\n",
    "\n",
    "patience_val = np.zeros(patience)"
   ]
  },
  {
   "cell_type": "code",
   "execution_count": 38,
   "metadata": {},
   "outputs": [],
   "source": [
    "# Dictionary to hold scalar metrics-\n",
    "history = {}\n",
    "\n",
    "history['accuracy'] = np.zeros(EPOCHS)\n",
    "history['val_accuracy'] = np.zeros(EPOCHS)\n",
    "history['loss'] = np.zeros(EPOCHS)\n",
    "history['val_loss'] = np.zeros(EPOCHS)"
   ]
  },
  {
   "cell_type": "code",
   "execution_count": 39,
   "metadata": {},
   "outputs": [],
   "source": [
    "# To change all layers to have dtype float64 by default-\n",
    "tf.keras.backend.set_floatx('float64')"
   ]
  },
  {
   "cell_type": "markdown",
   "metadata": {},
   "source": [
    "### Logic behind manual _EarlyStopping_:\n",
    "_check = np.diff(history['val_loss'][epoch - 3:epoch], n = 1) > minimum_delta_ checks whether the absolute value of the consecutive differences between the last 3 epoch's _validation loss_ is more than _minimum delta_\n",
    "\n",
    "1. _Case - 1:_ If any of these absolute values of the consecutive differences is _greater than_ _min_delta_, then __keep training__\n",
    "\n",
    "1. _Case - 2_: If all of these absolute values of the consecutive differences is _less than_ _min_delta_, then __Stop training__"
   ]
  },
  {
   "cell_type": "code",
   "execution_count": 40,
   "metadata": {},
   "outputs": [
    {
     "name": "stderr",
     "output_type": "stream",
     "text": [
      "WARNING: Logging before flag parsing goes to stderr.\n",
      "W0125 13:57:30.250159 140664062568256 base_layer.py:1814] Layer dense_3 is casting an input tensor from dtype float64 to the layer's dtype of float32, which is new behavior in TensorFlow 2.  The layer has dtype float32 because it's dtype defaults to floatx.\n",
      "\n",
      "If you intended to run this layer in float32, you can safely ignore this warning. If in doubt, this warning is likely only an issue if you are porting a TensorFlow 1.X model to TensorFlow 2.\n",
      "\n",
      "To change all layers to have dtype float64 by default, call `tf.keras.backend.set_floatx('float64')`. To change just this layer, pass dtype='float64' to the layer constructor. If you are the author of this layer, you can disable autocasting by passing autocast=False to the base Layer constructor.\n",
      "\n"
     ]
    },
    {
     "name": "stdout",
     "output_type": "stream",
     "text": [
      "Epoch 1, Loss: 0.7356, Accuracy: 14.3750, Test Loss: 0.7229, Test Accuracy: 16.311813\n",
      "Epoch 2, Loss: 0.7195, Accuracy: 21.4583, Test Loss: 0.7118, Test Accuracy: 28.331045\n",
      "Epoch 3, Loss: 0.7094, Accuracy: 32.7083, Test Loss: 0.7042, Test Accuracy: 36.298077\n",
      "Epoch 4, Loss: 0.7026, Accuracy: 39.1667, Test Loss: 0.6992, Test Accuracy: 41.277470\n",
      "Epoch 5, Loss: 0.6977, Accuracy: 43.9583, Test Loss: 0.6952, Test Accuracy: 47.561817\n",
      "Epoch 6, Loss: 0.6934, Accuracy: 49.5833, Test Loss: 0.6913, Test Accuracy: 51.648354\n",
      "Epoch 7, Loss: 0.6887, Accuracy: 52.8125, Test Loss: 0.6865, Test Accuracy: 53.434067\n",
      "Epoch 8, Loss: 0.6818, Accuracy: 55.8333, Test Loss: 0.6779, Test Accuracy: 54.498627\n",
      "Epoch 9, Loss: 0.6686, Accuracy: 56.0417, Test Loss: 0.6611, Test Accuracy: 54.429947\n",
      "Epoch 10, Loss: 0.6471, Accuracy: 56.0417, Test Loss: 0.6372, Test Accuracy: 54.464287\n",
      "Epoch 11, Loss: 0.6184, Accuracy: 56.0417, Test Loss: 0.6052, Test Accuracy: 54.464287\n",
      "Epoch 12, Loss: 0.5823, Accuracy: 56.0417, Test Loss: 0.5669, Test Accuracy: 54.498627\n",
      "Epoch 13, Loss: 0.5390, Accuracy: 56.0417, Test Loss: 0.5215, Test Accuracy: 54.464287\n",
      "Epoch 14, Loss: 0.4906, Accuracy: 56.0417, Test Loss: 0.4800, Test Accuracy: 54.395603\n",
      "Epoch 15, Loss: 0.4506, Accuracy: 56.0417, Test Loss: 0.4460, Test Accuracy: 54.567307\n",
      "Epoch 16, Loss: 0.4191, Accuracy: 68.2292, Test Loss: 0.4192, Test Accuracy: 89.869507\n",
      "Epoch 17, Loss: 0.3935, Accuracy: 90.0000, Test Loss: 0.3953, Test Accuracy: 92.719780\n",
      "Epoch 18, Loss: 0.3721, Accuracy: 92.6042, Test Loss: 0.3751, Test Accuracy: 94.436813\n",
      "Epoch 19, Loss: 0.3535, Accuracy: 94.2708, Test Loss: 0.3583, Test Accuracy: 95.879120\n",
      "Epoch 20, Loss: 0.3376, Accuracy: 94.8958, Test Loss: 0.3424, Test Accuracy: 96.153847\n",
      "Epoch 21, Loss: 0.3232, Accuracy: 95.8333, Test Loss: 0.3276, Test Accuracy: 96.875000\n",
      "Epoch 22, Loss: 0.3098, Accuracy: 96.7708, Test Loss: 0.3150, Test Accuracy: 97.355774\n",
      "Epoch 23, Loss: 0.2977, Accuracy: 97.7083, Test Loss: 0.3040, Test Accuracy: 97.802200\n",
      "Epoch 24, Loss: 0.2868, Accuracy: 98.1250, Test Loss: 0.2938, Test Accuracy: 98.557693\n",
      "Epoch 25, Loss: 0.2771, Accuracy: 98.4375, Test Loss: 0.2839, Test Accuracy: 98.557693\n",
      "Epoch 26, Loss: 0.2683, Accuracy: 98.6458, Test Loss: 0.2751, Test Accuracy: 98.557693\n",
      "Epoch 27, Loss: 0.2601, Accuracy: 98.8542, Test Loss: 0.2670, Test Accuracy: 98.798080\n",
      "Epoch 28, Loss: 0.2526, Accuracy: 98.8542, Test Loss: 0.2600, Test Accuracy: 98.798080\n",
      "Epoch 29, Loss: 0.2455, Accuracy: 98.9583, Test Loss: 0.2532, Test Accuracy: 98.763741\n",
      "Epoch 30, Loss: 0.2390, Accuracy: 98.8542, Test Loss: 0.2461, Test Accuracy: 98.557693\n",
      "Epoch 31, Loss: 0.2327, Accuracy: 98.6458, Test Loss: 0.2400, Test Accuracy: 98.557693\n",
      "Epoch 32, Loss: 0.2269, Accuracy: 98.6458, Test Loss: 0.2347, Test Accuracy: 98.523354\n",
      "Epoch 33, Loss: 0.2212, Accuracy: 98.6458, Test Loss: 0.2295, Test Accuracy: 98.523354\n",
      "Epoch 34, Loss: 0.2160, Accuracy: 98.6458, Test Loss: 0.2241, Test Accuracy: 98.557693\n",
      "Epoch 35, Loss: 0.2109, Accuracy: 98.7500, Test Loss: 0.2187, Test Accuracy: 98.557693\n",
      "Epoch 36, Loss: 0.2061, Accuracy: 98.7500, Test Loss: 0.2140, Test Accuracy: 98.557693\n",
      "Epoch 37, Loss: 0.2014, Accuracy: 98.7500, Test Loss: 0.2086, Test Accuracy: 98.523354\n",
      "Epoch 38, Loss: 0.1970, Accuracy: 98.9583, Test Loss: 0.2048, Test Accuracy: 98.523354\n",
      "Epoch 39, Loss: 0.1928, Accuracy: 98.9583, Test Loss: 0.2004, Test Accuracy: 98.557693\n",
      "Epoch 40, Loss: 0.1887, Accuracy: 98.9583, Test Loss: 0.1967, Test Accuracy: 98.523354\n",
      "Epoch 41, Loss: 0.1847, Accuracy: 98.9583, Test Loss: 0.1920, Test Accuracy: 98.557693\n",
      "Epoch 42, Loss: 0.1809, Accuracy: 98.9583, Test Loss: 0.1883, Test Accuracy: 98.557693\n",
      "Epoch 43, Loss: 0.1773, Accuracy: 98.9583, Test Loss: 0.1846, Test Accuracy: 98.798080\n",
      "Epoch 44, Loss: 0.1737, Accuracy: 99.0625, Test Loss: 0.1815, Test Accuracy: 98.798080\n",
      "Epoch 45, Loss: 0.1703, Accuracy: 99.0625, Test Loss: 0.1785, Test Accuracy: 98.763741\n",
      "Epoch 46, Loss: 0.1670, Accuracy: 99.0625, Test Loss: 0.1746, Test Accuracy: 98.798080\n",
      "Epoch 47, Loss: 0.1638, Accuracy: 99.0625, Test Loss: 0.1713, Test Accuracy: 98.798080\n",
      "Epoch 48, Loss: 0.1607, Accuracy: 99.0625, Test Loss: 0.1683, Test Accuracy: 98.763741\n",
      "Epoch 49, Loss: 0.1577, Accuracy: 99.0625, Test Loss: 0.1653, Test Accuracy: 99.004120\n",
      "Epoch 50, Loss: 0.1548, Accuracy: 99.0625, Test Loss: 0.1624, Test Accuracy: 99.038467\n",
      "Epoch 51, Loss: 0.1520, Accuracy: 99.0625, Test Loss: 0.1599, Test Accuracy: 99.038467\n",
      "Epoch 52, Loss: 0.1493, Accuracy: 99.0625, Test Loss: 0.1567, Test Accuracy: 99.038467\n",
      "Epoch 53, Loss: 0.1466, Accuracy: 99.0625, Test Loss: 0.1543, Test Accuracy: 99.038467\n",
      "Epoch 54, Loss: 0.1441, Accuracy: 99.0625, Test Loss: 0.1511, Test Accuracy: 99.038467\n",
      "Epoch 55, Loss: 0.1416, Accuracy: 99.0625, Test Loss: 0.1490, Test Accuracy: 99.004120\n",
      "Epoch 56, Loss: 0.1391, Accuracy: 99.0625, Test Loss: 0.1462, Test Accuracy: 99.038467\n",
      "Epoch 57, Loss: 0.1367, Accuracy: 99.0625, Test Loss: 0.1436, Test Accuracy: 99.038467\n",
      "Epoch 58, Loss: 0.1344, Accuracy: 99.0625, Test Loss: 0.1418, Test Accuracy: 99.038467\n",
      "Epoch 59, Loss: 0.1322, Accuracy: 99.0625, Test Loss: 0.1393, Test Accuracy: 99.038467\n",
      "Epoch 60, Loss: 0.1300, Accuracy: 99.0625, Test Loss: 0.1374, Test Accuracy: 99.004120\n",
      "Epoch 61, Loss: 0.1279, Accuracy: 99.0625, Test Loss: 0.1354, Test Accuracy: 99.004120\n",
      "Epoch 62, Loss: 0.1258, Accuracy: 99.0625, Test Loss: 0.1328, Test Accuracy: 99.038467\n",
      "Epoch 63, Loss: 0.1238, Accuracy: 99.0625, Test Loss: 0.1308, Test Accuracy: 99.004120\n",
      "Epoch 64, Loss: 0.1218, Accuracy: 99.0625, Test Loss: 0.1288, Test Accuracy: 99.004120\n",
      "Epoch 65, Loss: 0.1199, Accuracy: 99.0625, Test Loss: 0.1263, Test Accuracy: 99.038467\n",
      "Epoch 66, Loss: 0.1180, Accuracy: 99.0625, Test Loss: 0.1247, Test Accuracy: 99.038467\n",
      "Epoch 67, Loss: 0.1162, Accuracy: 99.0625, Test Loss: 0.1229, Test Accuracy: 99.038467\n",
      "Epoch 68, Loss: 0.1144, Accuracy: 99.0625, Test Loss: 0.1212, Test Accuracy: 99.038467\n",
      "Epoch 69, Loss: 0.1127, Accuracy: 99.0625, Test Loss: 0.1193, Test Accuracy: 99.038467\n",
      "Epoch 70, Loss: 0.1110, Accuracy: 99.0625, Test Loss: 0.1177, Test Accuracy: 99.038467\n",
      "Epoch 71, Loss: 0.1094, Accuracy: 99.0625, Test Loss: 0.1160, Test Accuracy: 99.038467\n",
      "Epoch 72, Loss: 0.1078, Accuracy: 99.0625, Test Loss: 0.1141, Test Accuracy: 99.038467\n",
      "Epoch 73, Loss: 0.1062, Accuracy: 99.0625, Test Loss: 0.1132, Test Accuracy: 99.004120\n",
      "Epoch 74, Loss: 0.1046, Accuracy: 99.0625, Test Loss: 0.1113, Test Accuracy: 99.038467\n",
      "Epoch 75, Loss: 0.1031, Accuracy: 99.0625, Test Loss: 0.1096, Test Accuracy: 99.038467\n",
      "Epoch 76, Loss: 0.1017, Accuracy: 99.0625, Test Loss: 0.1079, Test Accuracy: 99.038467\n",
      "Epoch 77, Loss: 0.1002, Accuracy: 99.0625, Test Loss: 0.1065, Test Accuracy: 99.038467\n",
      "Epoch 78, Loss: 0.0988, Accuracy: 99.0625, Test Loss: 0.1051, Test Accuracy: 99.038467\n",
      "Epoch 79, Loss: 0.0974, Accuracy: 99.0625, Test Loss: 0.1039, Test Accuracy: 99.038467\n",
      "Epoch 80, Loss: 0.0961, Accuracy: 99.0625, Test Loss: 0.1025, Test Accuracy: 99.038467\n",
      "Epoch 81, Loss: 0.0947, Accuracy: 99.0625, Test Loss: 0.1010, Test Accuracy: 99.038467\n",
      "Epoch 82, Loss: 0.0934, Accuracy: 99.0625, Test Loss: 0.0999, Test Accuracy: 99.004120\n",
      "Epoch 83, Loss: 0.0922, Accuracy: 99.0625, Test Loss: 0.0984, Test Accuracy: 99.038467\n",
      "Epoch 84, Loss: 0.0909, Accuracy: 99.0625, Test Loss: 0.0975, Test Accuracy: 99.038467\n",
      "Epoch 85, Loss: 0.0897, Accuracy: 99.0625, Test Loss: 0.0960, Test Accuracy: 99.038467\n",
      "Epoch 86, Loss: 0.0885, Accuracy: 99.0625, Test Loss: 0.0948, Test Accuracy: 99.038467\n",
      "Epoch 87, Loss: 0.0874, Accuracy: 99.0625, Test Loss: 0.0941, Test Accuracy: 99.004120\n",
      "Epoch 88, Loss: 0.0863, Accuracy: 99.0625, Test Loss: 0.0925, Test Accuracy: 99.038467\n",
      "Epoch 89, Loss: 0.0851, Accuracy: 99.0625, Test Loss: 0.0917, Test Accuracy: 99.004120\n",
      "Epoch 90, Loss: 0.0840, Accuracy: 99.0625, Test Loss: 0.0905, Test Accuracy: 99.004120\n",
      "Epoch 91, Loss: 0.0830, Accuracy: 99.0625, Test Loss: 0.0890, Test Accuracy: 99.038467\n",
      "Epoch 92, Loss: 0.0819, Accuracy: 99.0625, Test Loss: 0.0880, Test Accuracy: 99.038467\n",
      "Epoch 93, Loss: 0.0809, Accuracy: 99.0625, Test Loss: 0.0873, Test Accuracy: 99.038467\n",
      "Epoch 94, Loss: 0.0799, Accuracy: 99.0625, Test Loss: 0.0858, Test Accuracy: 99.038467\n",
      "Epoch 95, Loss: 0.0789, Accuracy: 99.0625, Test Loss: 0.0853, Test Accuracy: 99.038467\n",
      "Epoch 96, Loss: 0.0779, Accuracy: 99.0625, Test Loss: 0.0843, Test Accuracy: 99.038467\n",
      "Epoch 97, Loss: 0.0770, Accuracy: 99.0625, Test Loss: 0.0836, Test Accuracy: 99.004120\n",
      "Epoch 98, Loss: 0.0761, Accuracy: 99.0625, Test Loss: 0.0828, Test Accuracy: 99.004120\n",
      "Epoch 99, Loss: 0.0751, Accuracy: 99.0625, Test Loss: 0.0815, Test Accuracy: 99.004120\n",
      "\n",
      "\n",
      "EarlyStopping Evoked! Stopping training\n",
      "\n",
      "\n"
     ]
    }
   ],
   "source": [
    "for epoch in range(EPOCHS):\n",
    "    # Reset the metrics at the start of the next epoch\n",
    "    train_loss.reset_states()\n",
    "    train_accuracy.reset_states()\n",
    "    test_loss.reset_states()\n",
    "    test_accuracy.reset_states()\n",
    "\n",
    "    for x, y in train_ds:\n",
    "        train_step(x, y)\n",
    "\n",
    "    for x_t, y_t in test_ds:\n",
    "        test_step(x_t, y_t)\n",
    "\n",
    "    template = 'Epoch {0}, Loss: {1:.4f}, Accuracy: {2:.4f}, Test Loss: {3:.4f}, Test Accuracy: {4:4f}'\n",
    "\n",
    "    history['accuracy'][epoch] = train_accuracy.result()\n",
    "    history['loss'][epoch] = train_loss.result()\n",
    "    history['val_loss'][epoch] = test_loss.result()\n",
    "    history['val_accuracy'][epoch] = test_accuracy.result()\n",
    "\n",
    "    print(template.format(epoch + 1, \n",
    "                          train_loss.result(), train_accuracy.result()*100,\n",
    "                          test_loss.result(), test_accuracy.result()*100))\n",
    "\n",
    "    if epoch > 2:\n",
    "        # Computes absolute differences between 3 consecutive loss values-\n",
    "        differences = np.abs(np.diff(history['val_loss'][epoch - 3:epoch], n = 1))\n",
    "        \n",
    "        # Checks whether the absolute differences is greater than 'minimum_delta'-\n",
    "        check =  differences > minimum_delta\n",
    "        \n",
    "        # print('differences: {0}'.format(differences))\n",
    "        \n",
    "        # Count unique element with it's counts-\n",
    "        # elem, count = np.unique(check, return_counts=True)\n",
    "        # print('\\nelem = {0}, count = {1}'.format(elem, count))\n",
    "        \n",
    "        if np.all(check == False):\n",
    "        # if elem.all() == False and count == 2:\n",
    "            print(\"\\n\\nEarlyStopping Evoked! Stopping training\\n\\n\")\n",
    "            break\n",
    "\n"
   ]
  },
  {
   "cell_type": "code",
   "execution_count": 41,
   "metadata": {},
   "outputs": [],
   "source": [
    "# Make predictions using GradientTape trained model-\n",
    "y_pred_gt = model_gt.predict_classes(X_test)"
   ]
  },
  {
   "cell_type": "code",
   "execution_count": 42,
   "metadata": {},
   "outputs": [],
   "source": [
    "accuracy_gt = accuracy_score(y_test, y_pred_gt)\n",
    "precision_gt = precision_score(y_test, y_pred_gt)\n",
    "recall_gt = recall_score(y_test, y_pred_gt)"
   ]
  },
  {
   "cell_type": "code",
   "execution_count": 43,
   "metadata": {},
   "outputs": [
    {
     "name": "stdout",
     "output_type": "stream",
     "text": [
      "\n",
      "'GradientTape' trained model metrics on testing set:\n",
      "accuracy = 0.9903, precision = 0.9792 & recall = 1.0000\n",
      "\n"
     ]
    }
   ],
   "source": [
    "print(\"\\n'GradientTape' trained model metrics on testing set:\")\n",
    "print(\"accuracy = {0:.4f}, precision = {1:.4f} & recall = {2:.4f}\\n\".format(accuracy_gt,\n",
    "                                                                           precision_gt,\n",
    "                                                                           recall_gt))\n"
   ]
  },
  {
   "cell_type": "code",
   "execution_count": 44,
   "metadata": {},
   "outputs": [
    {
     "name": "stdout",
     "output_type": "stream",
     "text": [
      "\n",
      "Confusion matrix of 'GradientTape' trained model:\n",
      "\n",
      "[[220   4]\n",
      " [  0 188]]\n",
      "\n"
     ]
    }
   ],
   "source": [
    "print(\"\\nConfusion matrix of 'GradientTape' trained model:\\n\")\n",
    "print(\"{0}\\n\".format(confusion_matrix(y_test, y_pred_gt)))"
   ]
  },
  {
   "cell_type": "code",
   "execution_count": null,
   "metadata": {},
   "outputs": [],
   "source": []
  },
  {
   "cell_type": "code",
   "execution_count": 45,
   "metadata": {},
   "outputs": [
    {
     "name": "stdout",
     "output_type": "stream",
     "text": [
      "\n",
      "'model.fit()' metrics on testing set:\n",
      "accuracy = 0.9903, precision = 0.9792 & recall = 1.0000\n",
      "\n"
     ]
    }
   ],
   "source": [
    "print(\"\\n'model.fit()' metrics on testing set:\")\n",
    "print(\"accuracy = {0:.4f}, precision = {1:.4f} & recall = {2:.4f}\\n\".format(accuracy_orig,\n",
    "                                                                           precision_orig,\n",
    "                                                                           recall_orig))"
   ]
  },
  {
   "cell_type": "code",
   "execution_count": 46,
   "metadata": {},
   "outputs": [
    {
     "name": "stdout",
     "output_type": "stream",
     "text": [
      "\n",
      "Confusion matrix of 'model.fit()':\n",
      "\n",
      "[[220   4]\n",
      " [  0 188]]\n",
      "\n"
     ]
    }
   ],
   "source": [
    "print(\"\\nConfusion matrix of 'model.fit()':\\n\")\n",
    "print(\"{0}\\n\".format(confusion_matrix(y_test, y_pred_orig)))"
   ]
  },
  {
   "cell_type": "markdown",
   "metadata": {},
   "source": [
    "### Observation:\n",
    "We can see that the metrics, viz., accuracy, precision, recall and confusion matrix are _identical_ for _model.fit()_ and _GradientTape_ methods"
   ]
  },
  {
   "cell_type": "code",
   "execution_count": null,
   "metadata": {},
   "outputs": [],
   "source": []
  },
  {
   "cell_type": "markdown",
   "metadata": {},
   "source": [
    "### Sanity check:"
   ]
  },
  {
   "cell_type": "code",
   "execution_count": 48,
   "metadata": {},
   "outputs": [
    {
     "data": {
      "text/plain": [
       "array([0.08358362, 0.08275433, 0.08149289])"
      ]
     },
     "execution_count": 48,
     "metadata": {},
     "output_type": "execute_result"
    }
   ],
   "source": [
    "history['val_loss'][96:99]"
   ]
  },
  {
   "cell_type": "code",
   "execution_count": 49,
   "metadata": {},
   "outputs": [
    {
     "data": {
      "text/plain": [
       "array([False,  True])"
      ]
     },
     "execution_count": 49,
     "metadata": {},
     "output_type": "execute_result"
    }
   ],
   "source": [
    "np.abs(np.diff(history['val_loss'][96:99], n = 1)) > md"
   ]
  },
  {
   "cell_type": "code",
   "execution_count": null,
   "metadata": {},
   "outputs": [],
   "source": []
  },
  {
   "cell_type": "code",
   "execution_count": null,
   "metadata": {},
   "outputs": [],
   "source": []
  },
  {
   "cell_type": "markdown",
   "metadata": {},
   "source": [
    "### _GradientTape_:\n",
    "One _epoch_ goes through all of the 960 samples or training data in training dataset. And also through all of the 412 testing data in testing dataset.\n",
    "\n",
    "Sanity check is below-"
   ]
  },
  {
   "cell_type": "code",
   "execution_count": 53,
   "metadata": {},
   "outputs": [],
   "source": [
    "# Count number of samples or training data points in training dataset-\n",
    "c = 0\n",
    "\n",
    "for x, y in train_ds:\n",
    "    c += x.shape[0]"
   ]
  },
  {
   "cell_type": "code",
   "execution_count": 54,
   "metadata": {},
   "outputs": [
    {
     "data": {
      "text/plain": [
       "960"
      ]
     },
     "execution_count": 54,
     "metadata": {},
     "output_type": "execute_result"
    }
   ],
   "source": [
    "c"
   ]
  },
  {
   "cell_type": "code",
   "execution_count": 55,
   "metadata": {},
   "outputs": [],
   "source": [
    "# Count number of samples or testing data points in testing dataset-\n",
    "c = 0\n",
    "\n",
    "for x, y in test_ds:\n",
    "    c += x.shape[0]"
   ]
  },
  {
   "cell_type": "code",
   "execution_count": 56,
   "metadata": {},
   "outputs": [
    {
     "data": {
      "text/plain": [
       "412"
      ]
     },
     "execution_count": 56,
     "metadata": {},
     "output_type": "execute_result"
    }
   ],
   "source": [
    "c"
   ]
  },
  {
   "cell_type": "code",
   "execution_count": null,
   "metadata": {},
   "outputs": [],
   "source": []
  },
  {
   "cell_type": "code",
   "execution_count": null,
   "metadata": {},
   "outputs": [],
   "source": []
  }
 ],
 "metadata": {
  "kernelspec": {
   "display_name": "Python 3",
   "language": "python",
   "name": "python3"
  },
  "language_info": {
   "codemirror_mode": {
    "name": "ipython",
    "version": 3
   },
   "file_extension": ".py",
   "mimetype": "text/x-python",
   "name": "python",
   "nbconvert_exporter": "python",
   "pygments_lexer": "ipython3",
   "version": "3.7.6"
  }
 },
 "nbformat": 4,
 "nbformat_minor": 4
}
