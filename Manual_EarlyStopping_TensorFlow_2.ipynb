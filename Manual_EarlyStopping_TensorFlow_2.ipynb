{
 "cells": [
  {
   "cell_type": "code",
   "execution_count": 1,
   "metadata": {},
   "outputs": [],
   "source": [
    "import pandas as pd, numpy as np\n",
    "import matplotlib.pyplot as plt\n",
    "# import seaborn as sns\n",
    "from sklearn.model_selection import train_test_split\n",
    "from sklearn.metrics import accuracy_score, precision_score, recall_score, confusion_matrix\n",
    "\n",
    "# from keras.models import Sequential\n",
    "# from keras.layers import Dense\n",
    "import tensorflow as tf\n",
    "from tensorflow.keras.models import Sequential\n",
    "from tensorflow.keras.layers import Dense, Flatten, Conv2D\n",
    "from tensorflow.keras import Model\n",
    "\n",
    "import tensorflow_model_optimization as tfmot\n",
    "from tensorflow_model_optimization.sparsity import keras as sparsity"
   ]
  },
  {
   "cell_type": "markdown",
   "metadata": {},
   "source": [
    "# Manual implementation of _EarlyStopping_ and comparison with _TensorFlow 2.0 EalryStopping_ callback:\n",
    "Using _MNIST_ dataset\n",
    "\n",
    "The criteria for _EarlyStopping_ depends on the following parameters:\n",
    "\n",
    "1. Metric to be monitored\n",
    "1. _min_delta_ is the minimum change in the monitored quantity to qualify as an improvement, i.e. an absolute change of less than _min_delta_, will count as no improvement.\n",
    "1. _patience_ is the number of epoch(s) without any improvements (taking into consideration that improvements have to be of a lesser change than _min_delta_) before stopping the algorithm.\n",
    "\n",
    "NOTE:\n",
    "\n",
    "In the code below, _val_loss_ metric is used and hence the changes have to be lesser than it to be qualified as an improvement. However, if we take _accuracy_ as the metrics, then the changes have to be greater than the 'best' accuracy to be counted as an improvement."
   ]
  },
  {
   "cell_type": "markdown",
   "metadata": {},
   "source": [
    "### Load and prepare the MNIST dataset:"
   ]
  },
  {
   "cell_type": "code",
   "execution_count": 2,
   "metadata": {},
   "outputs": [],
   "source": [
    "# Data preprocessing and cleaning:\n",
    "# input image dimensions\n",
    "img_rows, img_cols = 28, 28"
   ]
  },
  {
   "cell_type": "code",
   "execution_count": 3,
   "metadata": {},
   "outputs": [],
   "source": [
    "batch_size = 32\n",
    "num_classes = 10\n",
    "epochs = 50"
   ]
  },
  {
   "cell_type": "code",
   "execution_count": 4,
   "metadata": {},
   "outputs": [],
   "source": [
    "mnist = tf.keras.datasets.mnist\n",
    "\n",
    "(X_train, y_train), (X_test, y_test) = mnist.load_data()\n",
    "\n",
    "X_train, X_test = X_train / 255.0, X_test / 255.0"
   ]
  },
  {
   "cell_type": "code",
   "execution_count": 5,
   "metadata": {},
   "outputs": [
    {
     "data": {
      "text/plain": [
       "((60000, 28, 28), (60000,), (10000, 28, 28), (10000,))"
      ]
     },
     "execution_count": 5,
     "metadata": {},
     "output_type": "execute_result"
    }
   ],
   "source": [
    "X_train.shape, y_train.shape, X_test.shape, y_test.shape"
   ]
  },
  {
   "cell_type": "code",
   "execution_count": 6,
   "metadata": {},
   "outputs": [
    {
     "name": "stdout",
     "output_type": "stream",
     "text": [
      "\n",
      "'input_shape' which will be used = (28, 28, 1)\n",
      "\n"
     ]
    }
   ],
   "source": [
    "# Add a channels dimension\n",
    "# X_train = X_train[..., tf.newaxis]\n",
    "# X_test = X_test[..., tf.newaxis]\n",
    "\n",
    "if tf.keras.backend.image_data_format() == 'channels_first':\n",
    "    X_train = X_train.reshape(X_train.shape[0], 1, img_rows, img_cols)\n",
    "    X_test = X_test.reshape(X_test.shape[0], 1, img_rows, img_cols)\n",
    "    input_shape = (1, img_rows, img_cols)\n",
    "else:\n",
    "    X_train = X_train.reshape(X_train.shape[0], img_rows, img_cols, 1)\n",
    "    X_test = X_test.reshape(X_test.shape[0], img_rows, img_cols, 1)\n",
    "    input_shape = (img_rows, img_cols, 1)\n",
    "\n",
    "print(\"\\n'input_shape' which will be used = {0}\\n\".format(input_shape))"
   ]
  },
  {
   "cell_type": "code",
   "execution_count": 7,
   "metadata": {},
   "outputs": [],
   "source": [
    "# convert class vectors/target to binary class matrices or one-hot encoded values-\n",
    "y_train = tf.keras.utils.to_categorical(y_train, num_classes)\n",
    "y_test = tf.keras.utils.to_categorical(y_test, num_classes)"
   ]
  },
  {
   "cell_type": "code",
   "execution_count": 8,
   "metadata": {},
   "outputs": [
    {
     "name": "stdout",
     "output_type": "stream",
     "text": [
      "\n",
      "Dimensions of training and testing sets are:\n",
      "X_train.shape = (60000, 28, 28, 1), y_train = (60000, 10)\n",
      "X_test.shape = (10000, 28, 28, 1), y_test = (10000, 10)\n"
     ]
    }
   ],
   "source": [
    "print(\"\\nDimensions of training and testing sets are:\")\n",
    "print(\"X_train.shape = {0}, y_train = {1}\".format(X_train.shape, y_train.shape))\n",
    "print(\"X_test.shape = {0}, y_test = {1}\".format(X_test.shape, y_test.shape))"
   ]
  },
  {
   "cell_type": "code",
   "execution_count": null,
   "metadata": {},
   "outputs": [],
   "source": []
  },
  {
   "cell_type": "code",
   "execution_count": 9,
   "metadata": {},
   "outputs": [],
   "source": [
    "# Use tf.data to batch and shuffle the dataset-\n",
    "train_ds = tf.data.Dataset.from_tensor_slices(\n",
    "    (X_train, y_train)).shuffle(buffer_size=70000, reshuffle_each_iteration=True).batch(\n",
    "    batch_size = batch_size, drop_remainder=False)\n",
    "\n",
    "test_ds = tf.data.Dataset.from_tensor_slices(\n",
    "    (X_test, y_test)).batch(batch_size=batch_size, drop_remainder=False)\n",
    "\n",
    "\n",
    "# Create TensorFlow 2.0 dataset WITHOUT using 'shuffle'-\n",
    "# train_ds = tf.data.Dataset.from_tensor_slices((X_train, y_train))\n",
    "# train_ds = train_ds.batch(batch_size = batch_size, drop_remainder = False)\n",
    "\n",
    "# test_ds = tf.data.Dataset.from_tensor_slices((X_test, y_test))\n",
    "# test_ds = test_ds.batch(batch_size = batch_size, drop_remainder = False)"
   ]
  },
  {
   "cell_type": "code",
   "execution_count": 10,
   "metadata": {},
   "outputs": [],
   "source": [
    "def create_cnn():\n",
    "    \"\"\"\n",
    "    Function to create a simple\n",
    "    CNN for MNIST classification\n",
    "    \"\"\"\n",
    "    \n",
    "    model = Sequential()\n",
    "    \n",
    "    model.add(\n",
    "        Conv2D(\n",
    "            filters = 32, kernel_size = (3, 3),\n",
    "            activation = 'relu',\n",
    "            kernel_initializer = tf.keras.initializers.GlorotNormal(),\n",
    "            input_shape = (28, 28, 1)\n",
    "        )\n",
    "    )\n",
    "    \n",
    "    model.add(\n",
    "        Flatten()\n",
    "    )\n",
    "    \n",
    "    model.add(\n",
    "        Dense(\n",
    "            units = 128, activation = 'relu',\n",
    "            kernel_initializer = tf.keras.initializers.GlorotNormal()\n",
    "        )\n",
    "    )\n",
    "    \n",
    "    model.add(\n",
    "        Dense(\n",
    "            units = 10, activation = 'softmax'\n",
    "        )\n",
    "    )\n",
    "    \n",
    "    return model\n",
    "    \n",
    "    "
   ]
  },
  {
   "cell_type": "markdown",
   "metadata": {},
   "source": [
    "### First, _model.fit()_ is used:"
   ]
  },
  {
   "cell_type": "code",
   "execution_count": 11,
   "metadata": {},
   "outputs": [],
   "source": [
    "# Instantiate an instance of CNN-\n",
    "model = create_cnn()"
   ]
  },
  {
   "cell_type": "code",
   "execution_count": 12,
   "metadata": {},
   "outputs": [],
   "source": [
    "# Save weights to be reused by 'GradientTape' model later-\n",
    "model.save_weights(\"Weights/Random_Weights.h5\", overwrite=True)"
   ]
  },
  {
   "cell_type": "code",
   "execution_count": 13,
   "metadata": {},
   "outputs": [],
   "source": [
    "# Compile the designed nn model-\n",
    "model.compile(\n",
    "    loss = 'categorical_crossentropy',\n",
    "    optimizer=tf.keras.optimizers.Adam(lr = 0.001),\n",
    "    metrics=['accuracy']\n",
    ")"
   ]
  },
  {
   "cell_type": "code",
   "execution_count": 14,
   "metadata": {},
   "outputs": [],
   "source": [
    "# Define early stopping-\n",
    "callback = tf.keras.callbacks.EarlyStopping(\n",
    "    monitor='val_loss', patience=3,\n",
    "    min_delta = 0.001, mode = 'min'\n",
    ")"
   ]
  },
  {
   "cell_type": "code",
   "execution_count": 15,
   "metadata": {},
   "outputs": [
    {
     "name": "stdout",
     "output_type": "stream",
     "text": [
      "Model: \"sequential\"\n",
      "_________________________________________________________________\n",
      "Layer (type)                 Output Shape              Param #   \n",
      "=================================================================\n",
      "conv2d (Conv2D)              (None, 26, 26, 32)        320       \n",
      "_________________________________________________________________\n",
      "flatten (Flatten)            (None, 21632)             0         \n",
      "_________________________________________________________________\n",
      "dense (Dense)                (None, 128)               2769024   \n",
      "_________________________________________________________________\n",
      "dense_1 (Dense)              (None, 10)                1290      \n",
      "=================================================================\n",
      "Total params: 2,770,634\n",
      "Trainable params: 2,770,634\n",
      "Non-trainable params: 0\n",
      "_________________________________________________________________\n"
     ]
    }
   ],
   "source": [
    "# Get summary details of defined model-\n",
    "model.summary()"
   ]
  },
  {
   "cell_type": "code",
   "execution_count": 16,
   "metadata": {},
   "outputs": [
    {
     "name": "stdout",
     "output_type": "stream",
     "text": [
      "Train on 60000 samples, validate on 10000 samples\n",
      "Epoch 1/50\n",
      "60000/60000 [==============================] - 19s 324us/sample - loss: 0.1391 - accuracy: 0.9576 - val_loss: 0.0668 - val_accuracy: 0.9774\n",
      "Epoch 2/50\n",
      "60000/60000 [==============================] - 19s 310us/sample - loss: 0.0453 - accuracy: 0.9856 - val_loss: 0.0591 - val_accuracy: 0.9803\n",
      "Epoch 3/50\n",
      "60000/60000 [==============================] - 18s 302us/sample - loss: 0.0239 - accuracy: 0.9922 - val_loss: 0.0512 - val_accuracy: 0.9833\n",
      "Epoch 4/50\n",
      "60000/60000 [==============================] - 18s 297us/sample - loss: 0.0141 - accuracy: 0.9953 - val_loss: 0.0657 - val_accuracy: 0.9801\n",
      "Epoch 5/50\n",
      "60000/60000 [==============================] - 18s 295us/sample - loss: 0.0094 - accuracy: 0.9968 - val_loss: 0.0614 - val_accuracy: 0.9836\n",
      "Epoch 6/50\n",
      "60000/60000 [==============================] - 17s 286us/sample - loss: 0.0087 - accuracy: 0.9969 - val_loss: 0.0701 - val_accuracy: 0.9825\n"
     ]
    }
   ],
   "source": [
    "# Train defined model-\n",
    "history_orig = model.fit(\n",
    "    x = X_train, y = y_train,\n",
    "    batch_size = batch_size, epochs = epochs,\n",
    "    validation_data = (X_test, y_test),\n",
    "    callbacks = [callback],\n",
    "    verbose = 1,\n",
    "    shuffle=True\n",
    ")\n"
   ]
  },
  {
   "cell_type": "code",
   "execution_count": 17,
   "metadata": {},
   "outputs": [
    {
     "data": {
      "image/png": "[encoded data removed]",
      "text/plain": [
       "<Figure size 800x720 with 1 Axes>"
      ]
     },
     "metadata": {},
     "output_type": "display_data"
    }
   ],
   "source": [
    "# Visualize training progress of neural network model-\n",
    "fig=plt.figure(figsize=(10, 9), dpi= 80, facecolor='w', edgecolor='k')\n",
    "\n",
    "plt.plot(history_orig.history['accuracy'], label = 'training accuracy')\n",
    "plt.plot(history_orig.history['val_accuracy'], label = 'testing accuracy')\n",
    "plt.plot(history_orig.history['loss'], label = 'training loss')\n",
    "plt.plot(history_orig.history['val_loss'], label = 'testing loss')\n",
    "\n",
    "plt.title(\"Training Visualization - Scalar Metrics\")\n",
    "plt.xlabel(\"number of epochs\")\n",
    "plt.ylabel(\"Accuracy/Loss\")\n",
    "plt.legend(loc = 'best')\n",
    "plt.show()\n"
   ]
  },
  {
   "cell_type": "code",
   "execution_count": 18,
   "metadata": {},
   "outputs": [],
   "source": [
    "score_orig = model.evaluate(X_test, y_test, verbose=0)"
   ]
  },
  {
   "cell_type": "code",
   "execution_count": 19,
   "metadata": {},
   "outputs": [
    {
     "name": "stdout",
     "output_type": "stream",
     "text": [
      "\n",
      "'model.fit()' metrics on testing set:\n",
      "loss = 0.0701 & accuracy = 0.9825\n",
      "\n"
     ]
    }
   ],
   "source": [
    "print(\"\\n'model.fit()' metrics on testing set:\")\n",
    "print(\"loss = {0:.4f} & accuracy = {1:.4f}\\n\".format(\n",
    "    score_orig[0], score_orig[1]))"
   ]
  },
  {
   "cell_type": "code",
   "execution_count": 20,
   "metadata": {},
   "outputs": [],
   "source": [
    "# Make predictions using trained model-\n",
    "y_pred_orig = model.predict_classes(X_test)"
   ]
  },
  {
   "cell_type": "code",
   "execution_count": 21,
   "metadata": {},
   "outputs": [],
   "source": [
    "# Convert from one-hot encoded to labels-\n",
    "y_test_labels = np.argmax(y_test, axis=1)"
   ]
  },
  {
   "cell_type": "code",
   "execution_count": 22,
   "metadata": {},
   "outputs": [],
   "source": [
    "# Compute metrics-\n",
    "accuracy_orig = accuracy_score(y_test_labels, y_pred_orig)\n",
    "precision_orig = precision_score(y_test_labels, y_pred_orig, average='macro')\n",
    "recall_orig = recall_score(y_test_labels, y_pred_orig, average='macro')"
   ]
  },
  {
   "cell_type": "code",
   "execution_count": 23,
   "metadata": {},
   "outputs": [
    {
     "name": "stdout",
     "output_type": "stream",
     "text": [
      "\n",
      "'model.fit()' metrics on testing dataset are:\n",
      "accuracy = 0.9825, precision = 0.9824 & recall = 0.9825\n",
      "\n"
     ]
    }
   ],
   "source": [
    "print(\"\\n'model.fit()' metrics on testing dataset are:\")\n",
    "print(\"accuracy = {0:.4f}, precision = {1:.4f} & recall = {2:.4f}\\n\".format(\n",
    "    accuracy_orig, precision_orig, recall_orig))"
   ]
  },
  {
   "cell_type": "code",
   "execution_count": 24,
   "metadata": {},
   "outputs": [
    {
     "name": "stdout",
     "output_type": "stream",
     "text": [
      "\n",
      "'model.fit()' confusion matrix:\n",
      "\n",
      "[[ 971    1    1    0    1    0    3    1    2    0]\n",
      " [   0 1120    2    1    2    1    7    1    1    0]\n",
      " [   2    4 1014    2    1    0    1    6    2    0]\n",
      " [   0    0    0  999    0    6    0    0    5    0]\n",
      " [   0    0    1    0  970    0    3    0    1    7]\n",
      " [   1    0    1    5    0  881    2    0    2    0]\n",
      " [   4    2    0    1    4    1  941    0    5    0]\n",
      " [   1    2    7    2    0    0    0 1002    2   12]\n",
      " [   5    0    3    7    0    4    1    4  947    3]\n",
      " [   1    4    0    2    8    4    0    2    8  980]]\n"
     ]
    }
   ],
   "source": [
    "print(\"\\n'model.fit()' confusion matrix:\\n\")\n",
    "print(confusion_matrix(y_test_labels, y_pred_orig))"
   ]
  },
  {
   "cell_type": "code",
   "execution_count": null,
   "metadata": {},
   "outputs": [],
   "source": []
  },
  {
   "cell_type": "markdown",
   "metadata": {},
   "source": [
    "### Now, _GradientTape_ is used:"
   ]
  },
  {
   "cell_type": "code",
   "execution_count": 25,
   "metadata": {},
   "outputs": [],
   "source": [
    "# Instantiate a model-\n",
    "model_gt = create_cnn()"
   ]
  },
  {
   "cell_type": "code",
   "execution_count": 26,
   "metadata": {},
   "outputs": [],
   "source": [
    "# Restore random weights as used by the previous model for fair comparison-\n",
    "model_gt.load_weights(\"Weights/Random_Weights.h5\")"
   ]
  },
  {
   "cell_type": "code",
   "execution_count": 27,
   "metadata": {},
   "outputs": [],
   "source": [
    "# Choose an optimizer and loss function for training-\n",
    "loss_fn = tf.keras.losses.CategoricalCrossentropy()\n",
    "optimizer = tf.keras.optimizers.Adam(lr = 0.001)"
   ]
  },
  {
   "cell_type": "code",
   "execution_count": 28,
   "metadata": {},
   "outputs": [],
   "source": [
    "# Select metrics to measure the error & accuracy of model.\n",
    "# These metrics accumulate the values over epochs and then\n",
    "# print the overall result-\n",
    "train_loss = tf.keras.metrics.Mean(name = 'train_loss')\n",
    "train_accuracy = tf.keras.metrics.BinaryAccuracy(name = 'train_accuracy')\n",
    "\n",
    "test_loss = tf.keras.metrics.Mean(name = 'test_loss')\n",
    "test_accuracy = tf.keras.metrics.BinaryAccuracy(name = 'train_accuracy')"
   ]
  },
  {
   "cell_type": "code",
   "execution_count": 29,
   "metadata": {},
   "outputs": [],
   "source": [
    "# Use tf.GradientTape to train the model-\n",
    "\n",
    "@tf.function\n",
    "def train_step(data, labels):\n",
    "    \"\"\"\n",
    "    Function to perform one step of Gradient\n",
    "    Descent optimization\n",
    "    \"\"\"\n",
    "\n",
    "    with tf.GradientTape() as tape:\n",
    "        predictions = model_gt(data)\n",
    "        loss = loss_fn(labels, predictions)\n",
    "\n",
    "    gradients = tape.gradient(loss, model_gt.trainable_variables)\n",
    "    optimizer.apply_gradients(zip(gradients, model_gt.trainable_variables))\n",
    "\n",
    "    train_loss(loss)\n",
    "    train_accuracy(labels, predictions)\n",
    "\n",
    "    "
   ]
  },
  {
   "cell_type": "code",
   "execution_count": 30,
   "metadata": {},
   "outputs": [],
   "source": [
    "@tf.function\n",
    "def test_step(data, labels):\n",
    "    \"\"\"\n",
    "    Function to test model performance\n",
    "    on testing dataset\n",
    "    \"\"\"\n",
    "    \n",
    "    predictions = model_gt(data)\n",
    "    t_loss = loss_fn(labels, predictions)\n",
    "\n",
    "    test_loss(t_loss)\n",
    "    test_accuracy(labels, predictions)\n"
   ]
  },
  {
   "cell_type": "code",
   "execution_count": 31,
   "metadata": {},
   "outputs": [],
   "source": [
    "# User input-\n",
    "minimum_delta = 0.001\n",
    "patience = 3\n",
    "\n",
    "# value of 'best' loss value-\n",
    "best_val_loss = 1\n",
    "\n",
    "# variable to keep track of number of epochs\n",
    "# without any improvement in monitored metric-\n",
    "loc_patience = 0\n",
    "\n",
    "# patience_val = np.zeros(patience)"
   ]
  },
  {
   "cell_type": "code",
   "execution_count": 32,
   "metadata": {},
   "outputs": [],
   "source": [
    "# Dictionary to hold scalar metrics-\n",
    "history = {}\n",
    "\n",
    "history['accuracy'] = np.zeros(epochs)\n",
    "history['val_accuracy'] = np.zeros(epochs)\n",
    "history['loss'] = np.zeros(epochs)\n",
    "history['val_loss'] = np.zeros(epochs)"
   ]
  },
  {
   "cell_type": "code",
   "execution_count": 33,
   "metadata": {},
   "outputs": [
    {
     "name": "stdout",
     "output_type": "stream",
     "text": [
      "WARNING:tensorflow:Layer conv2d_1 is casting an input tensor from dtype float64 to the layer's dtype of float32, which is new behavior in TensorFlow 2.  The layer has dtype float32 because it's dtype defaults to floatx.\n",
      "\n",
      "If you intended to run this layer in float32, you can safely ignore this warning. If in doubt, this warning is likely only an issue if you are porting a TensorFlow 1.X model to TensorFlow 2.\n",
      "\n",
      "To change all layers to have dtype float64 by default, call `tf.keras.backend.set_floatx('float64')`. To change just this layer, pass dtype='float64' to the layer constructor. If you are the author of this layer, you can disable autocasting by passing autocast=False to the base Layer constructor.\n",
      "\n",
      "Epoch 1, Loss: 0.1401, Accuracy: 99.1749, Test Loss: 0.0645, Test Accuracy: 99.578949\n",
      "Epoch 2, Loss: 0.0434, Accuracy: 99.7347, Test Loss: 0.0542, Test Accuracy: 99.647972\n",
      "Epoch 3, Loss: 0.0235, Accuracy: 99.8470, Test Loss: 0.0622, Test Accuracy: 99.622978\n",
      "Epoch 4, Loss: 0.0159, Accuracy: 99.8987, Test Loss: 0.0509, Test Accuracy: 99.685966\n",
      "Epoch 5, Loss: 0.0097, Accuracy: 99.9378, Test Loss: 0.0783, Test Accuracy: 99.606964\n",
      "Epoch 6, Loss: 0.0068, Accuracy: 99.9548, Test Loss: 0.0745, Test Accuracy: 99.672951\n",
      "Epoch 7, Loss: 0.0072, Accuracy: 99.9529, Test Loss: 0.0740, Test Accuracy: 99.677948\n",
      "\n",
      "'EarlyStopping' called!\n",
      "\n"
     ]
    }
   ],
   "source": [
    "for epoch in range(epochs):\n",
    "    \n",
    "    if loc_patience >= patience:\n",
    "        print(\"\\n'EarlyStopping' called!\\n\")\n",
    "        break\n",
    "        \n",
    "    # Reset the metrics at the start of the next epoch\n",
    "    train_loss.reset_states()\n",
    "    train_accuracy.reset_states()\n",
    "    test_loss.reset_states()\n",
    "    test_accuracy.reset_states()\n",
    "    \n",
    "    for x, y in train_ds:\n",
    "        train_step(x, y)\n",
    "\n",
    "    for x_t, y_t in test_ds:\n",
    "        test_step(x_t, y_t)\n",
    "\n",
    "    template = 'Epoch {0}, Loss: {1:.4f}, Accuracy: {2:.4f}, Test Loss: {3:.4f}, Test Accuracy: {4:4f}'\n",
    "    \n",
    "    history['accuracy'][epoch] = train_accuracy.result()\n",
    "    history['loss'][epoch] = train_loss.result()\n",
    "    history['val_loss'][epoch] = test_loss.result()\n",
    "    history['val_accuracy'][epoch] = test_accuracy.result()\n",
    "\n",
    "    print(template.format(epoch + 1, \n",
    "                          train_loss.result(), train_accuracy.result()*100,\n",
    "                          test_loss.result(), test_accuracy.result()*100))\n",
    "\n",
    "    \n",
    "    # Code for manual Early Stopping:\n",
    "    if np.abs(test_loss.result() < best_val_loss) >= minimum_delta:\n",
    "        # update 'best_val_loss' variable to lowest loss encountered so far-\n",
    "        best_val_loss = test_loss.result()\n",
    "        \n",
    "        # reset 'loc_patience' variable-\n",
    "        loc_patience = 0\n",
    "        \n",
    "    else:  # there is no improvement in monitored metric 'val_loss'\n",
    "        loc_patience += 1  # number of epochs without any improvement\n",
    "    "
   ]
  },
  {
   "cell_type": "code",
   "execution_count": 38,
   "metadata": {},
   "outputs": [],
   "source": [
    "# Resize numpy arrays according to the epoch when 'EarlyStopping' was called-\n",
    "for metrics in history.keys():\n",
    "    history[metrics] = np.resize(history[metrics], new_shape=epoch)"
   ]
  },
  {
   "cell_type": "code",
   "execution_count": null,
   "metadata": {},
   "outputs": [],
   "source": []
  },
  {
   "cell_type": "code",
   "execution_count": 40,
   "metadata": {},
   "outputs": [
    {
     "data": {
      "image/png": "[encoded data removed]",
      "text/plain": [
       "<Figure size 800x720 with 1 Axes>"
      ]
     },
     "metadata": {},
     "output_type": "display_data"
    }
   ],
   "source": [
    "# Visualize scalar metrics of training process for GradientTape method-\n",
    "\n",
    "fig=plt.figure(figsize=(10, 9), dpi= 80, facecolor='w', edgecolor='k')\n",
    "\n",
    "plt.plot(history['accuracy'], label = 'training accuracy')\n",
    "plt.plot(history['val_accuracy'], label = 'testing accuracy')\n",
    "plt.plot(history['loss'], label = 'training loss')\n",
    "plt.plot(history['val_loss'], label = 'testing loss')\n",
    "\n",
    "plt.title(\"MNIST GradientTape Training - [Scalar Metrics]\")\n",
    "plt.xlabel(\"number of epochs\")\n",
    "plt.ylabel(\"Accuracy/Loss\")\n",
    "plt.legend(loc = 'best')\n",
    "plt.show()"
   ]
  },
  {
   "cell_type": "code",
   "execution_count": null,
   "metadata": {},
   "outputs": [],
   "source": []
  },
  {
   "cell_type": "code",
   "execution_count": 41,
   "metadata": {},
   "outputs": [],
   "source": [
    "# Make predictions using trained model-\n",
    "y_pred_gt = model_gt.predict_classes(X_test)"
   ]
  },
  {
   "cell_type": "code",
   "execution_count": 42,
   "metadata": {},
   "outputs": [],
   "source": [
    "# Compute metrics-\n",
    "accuracy_gt = accuracy_score(y_test_labels, y_pred_gt)\n",
    "precision_gt = precision_score(y_test_labels, y_pred_gt, average='macro')\n",
    "recall_gt = recall_score(y_test_labels, y_pred_gt, average='macro')"
   ]
  },
  {
   "cell_type": "code",
   "execution_count": 43,
   "metadata": {},
   "outputs": [
    {
     "name": "stdout",
     "output_type": "stream",
     "text": [
      "\n",
      "'GradientTape' metrics on testing dataset are:\n",
      "accuracy = 0.9838, precision = 0.9837 & recall = 0.9837\n",
      "\n"
     ]
    }
   ],
   "source": [
    "print(\"\\n'GradientTape' metrics on testing dataset are:\")\n",
    "print(\"accuracy = {0:.4f}, precision = {1:.4f} & recall = {2:.4f}\\n\".format(\n",
    "    accuracy_gt, precision_gt, recall_gt))"
   ]
  },
  {
   "cell_type": "code",
   "execution_count": 44,
   "metadata": {},
   "outputs": [
    {
     "name": "stdout",
     "output_type": "stream",
     "text": [
      "\n",
      "'model.fit()' metrics on testing dataset are:\n",
      "accuracy = 0.9825, precision = 0.9824 & recall = 0.9825\n",
      "\n"
     ]
    }
   ],
   "source": [
    "print(\"\\n'model.fit()' metrics on testing dataset are:\")\n",
    "print(\"accuracy = {0:.4f}, precision = {1:.4f} & recall = {2:.4f}\\n\".format(\n",
    "    accuracy_orig, precision_orig, recall_orig))"
   ]
  },
  {
   "cell_type": "code",
   "execution_count": null,
   "metadata": {},
   "outputs": [],
   "source": []
  },
  {
   "cell_type": "code",
   "execution_count": null,
   "metadata": {},
   "outputs": [],
   "source": []
  },
  {
   "cell_type": "code",
   "execution_count": 45,
   "metadata": {},
   "outputs": [],
   "source": [
    "# Save weights of 'GradientTape' trained model-\n",
    "model_gt.save_weights(\"Weights/Trained_GradientTape_model_weights.h5\", overwrite=True)"
   ]
  },
  {
   "cell_type": "code",
   "execution_count": 46,
   "metadata": {},
   "outputs": [],
   "source": [
    "# Save weights of 'model.fit()' trained model-\n",
    "model.save_weights(\"Weights/Trained__modelfit_weights.h5\", overwrite=True)"
   ]
  }
 ],
 "metadata": {
  "kernelspec": {
   "display_name": "Python 3",
   "language": "python",
   "name": "python3"
  },
  "language_info": {
   "codemirror_mode": {
    "name": "ipython",
    "version": 3
   },
   "file_extension": ".py",
   "mimetype": "text/x-python",
   "name": "python",
   "nbconvert_exporter": "python",
   "pygments_lexer": "ipython3",
   "version": "3.7.3"
  }
 },
 "nbformat": 4,
 "nbformat_minor": 4
}
